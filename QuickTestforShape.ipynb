{
 "cells": [
  {
   "cell_type": "code",
   "execution_count": 1,
   "id": "aee09a7a-e996-497c-bdd0-411e2beb3a48",
   "metadata": {},
   "outputs": [
    {
     "name": "stderr",
     "output_type": "stream",
     "text": [
      "WARNING:hyperspy.api:The ipywidgets GUI elements are not available, probably because the hyperspy_gui_ipywidgets package is not installed.\n",
      "WARNING:hyperspy.api:The traitsui GUI elements are not available, probably because the hyperspy_gui_traitsui package is not installed.\n"
     ]
    }
   ],
   "source": [
    "%matplotlib qt\n",
    "import numpy as np\n",
    "import matplotlib.pyplot as plt\n",
    "import hyperspy.api as hs"
   ]
  },
  {
   "cell_type": "code",
   "execution_count": 2,
   "id": "195db0f4-2a32-4eaa-be97-0bc8ea1020ba",
   "metadata": {},
   "outputs": [
    {
     "name": "stderr",
     "output_type": "stream",
     "text": [
      "WARNING:silx.opencl.common:Unable to import pyOpenCl. Please install it from: https://pypi.org/project/pyopencl\n"
     ]
    }
   ],
   "source": [
    "import diffpy\n",
    "from diffsims.generators.rotation_list_generators import get_beam_directions_grid\n",
    "from diffsims.generators.diffraction_generator import DiffractionGenerator\n",
    "from diffsims.libraries.structure_library import StructureLibrary\n",
    "from diffsims.generators.library_generator import DiffractionLibraryGenerator\n",
    "from pyxem.utils.calibration_utils import find_diffraction_calibration"
   ]
  },
  {
   "cell_type": "code",
   "execution_count": 16,
   "id": "211b1393-5571-42b5-b9e8-c26d10b80cd7",
   "metadata": {},
   "outputs": [],
   "source": [
    "dp = hs.signals.Signal2D(np.random.rand(20,10,30,30))"
   ]
  },
  {
   "cell_type": "code",
   "execution_count": 17,
   "id": "4e7455ff-9997-4f73-92e6-99ee81ce702e",
   "metadata": {},
   "outputs": [
    {
     "data": {
      "text/plain": [
       "<Signal2D, title: , dimensions: (10, 20|30, 30)>"
      ]
     },
     "execution_count": 17,
     "metadata": {},
     "output_type": "execute_result"
    }
   ],
   "source": [
    "dp"
   ]
  },
  {
   "cell_type": "code",
   "execution_count": 21,
   "id": "e4b04276-8a94-4514-a263-2ff7bffe7e30",
   "metadata": {},
   "outputs": [],
   "source": [
    "def default_structure():\n",
    "    \"\"\"An atomic structure represented using diffpy\"\"\"\n",
    "    latt = diffpy.structure.lattice.Lattice(3, 3, 5, 90, 90, 120)\n",
    "    atom = diffpy.structure.atom.Atom(atype=\"Ni\", xyz=[0, 0, 0], lattice=latt)\n",
    "    hexagonal_structure = diffpy.structure.Structure(atoms=[atom], lattice=latt)\n",
    "    return hexagonal_structure"
   ]
  },
  {
   "cell_type": "code",
   "execution_count": 19,
   "id": "023d6e43-01ac-4bdb-b70e-b69951880160",
   "metadata": {},
   "outputs": [
    {
     "name": "stdout",
     "output_type": "stream",
     "text": [
      "Number of patterns:  1081\n"
     ]
    }
   ],
   "source": [
    "from diffsims.generators.rotation_list_generators import get_beam_directions_grid\n",
    "resolution = 1 # maximum angle in degrees between nearest templates. Pretty rough grid for speed.\n",
    "grid_cub = get_beam_directions_grid(\"cubic\", resolution, mesh=\"spherified_cube_edge\")\n",
    "print(\"Number of patterns: \", grid_cub.shape[0])\n",
    "# Parameters necessary for simulating a template library\n",
    "diffraction_calibration = 0.009381971999999999\n",
    "# half size of the images\n",
    "half_shape = (dp.data.shape[-2]//2, dp.data.shape[-1]//2)\n",
    "# maximum radius in reciprocal space to calculate spot intensities for\n",
    "reciprocal_radius = np.sqrt(half_shape[0]**2 + half_shape[1]**2)*diffraction_calibration\n"
   ]
  },
  {
   "cell_type": "code",
   "execution_count": 33,
   "id": "6049a049-3597-44a2-b75e-36ae310a5c21",
   "metadata": {},
   "outputs": [
    {
     "name": "stderr",
     "output_type": "stream",
     "text": [
      "                                                    \r"
     ]
    }
   ],
   "source": [
    "# importing the structures\n",
    "structure_matrix = default_structure()\n",
    "# structure_matrix = diffpy.structure.loadStructure(\"Data/Si_mp-149_conventional_standard.cif\")\n",
    "# structure_matrix = diffpy.structure.loadStructure(\"Data/Si_sudofcc.cif\")\n",
    "# \"The microscope\"\n",
    "diff_gen = DiffractionGenerator(accelerating_voltage=200,\n",
    "                                precession_angle=1,\n",
    "                                scattering_params=None,\n",
    "                                shape_factor_model=\"linear\",\n",
    "                                minimum_intensity=0.1,\n",
    "                                )\n",
    "\n",
    "lib_gen = DiffractionLibraryGenerator(diff_gen)\n",
    "\n",
    "# Generating a library\n",
    "# \"Library of structures and orientations\"\n",
    "library_phases = StructureLibrary([\"Cu\"], [structure_matrix], [grid_cub])\n",
    "# Calculate the actual library\n",
    "\n",
    "diff_lib = lib_gen.get_diffraction_library(library_phases,\n",
    "                                           calibration=diffraction_calibration,\n",
    "                                           reciprocal_radius=reciprocal_radius,\n",
    "                                           half_shape=half_shape,\n",
    "                                           with_direct_beam=False,\n",
    "                                           max_excitation_error=0.06)"
   ]
  },
  {
   "cell_type": "code",
   "execution_count": 34,
   "id": "2748942f-6b27-41d5-a71b-cc5fb3dbaac9",
   "metadata": {},
   "outputs": [],
   "source": [
    "from pyxem.utils import indexation_utils as iutls"
   ]
  },
  {
   "cell_type": "code",
   "execution_count": 35,
   "id": "b11f6441-a330-43ff-9af6-fa856e73b79c",
   "metadata": {},
   "outputs": [
    {
     "name": "stdout",
     "output_type": "stream",
     "text": [
      "[                                        ] | 0% Completed |  0.1s"
     ]
    },
    {
     "name": "stderr",
     "output_type": "stream",
     "text": [
      "/home/joseph/miniconda3/envs/pyxem14/lib/python3.8/site-packages/pyxem/utils/indexation_utils.py:668: RuntimeWarning: invalid value encountered in true_divide\n",
      "  return array / norms[:, None]\n"
     ]
    },
    {
     "name": "stdout",
     "output_type": "stream",
     "text": [
      "[########################################] | 100% Completed |  0.3s\n"
     ]
    }
   ],
   "source": [
    "frac_keep = 1\n",
    "n_best = 15\n",
    "n_keep = None\n",
    "\n",
    "delta_r = 1\n",
    "delta_theta = 1\n",
    "max_r = None\n",
    "intensity_transform_function = None\n",
    "direct_beam_position = None\n",
    "normalize_image = False\n",
    "normalize_templates = True\n",
    "\n",
    "result, phasedict = iutls.index_dataset_with_template_rotation(dp,\n",
    "                                                    diff_lib,\n",
    "                                                    phases = [\"Cu\"],\n",
    "                                                    n_best = n_best,\n",
    "                                                    frac_keep = frac_keep,\n",
    "                                                    n_keep = n_keep,\n",
    "                                                    delta_r = delta_r,\n",
    "                                                    delta_theta = delta_theta,\n",
    "                                                    max_r = None,\n",
    "                                                    intensity_transform_function=intensity_transform_function,\n",
    "                                                    normalize_images = normalize_image,\n",
    "                                                    normalize_templates=normalize_templates,\n",
    "                                                    target='cpu'\n",
    "                                                    )"
   ]
  },
  {
   "cell_type": "code",
   "execution_count": 36,
   "id": "164d3ff4-f5a3-4812-84fe-78e628a4aa2a",
   "metadata": {},
   "outputs": [
    {
     "data": {
      "text/plain": [
       "(20, 10, 15, 3)"
      ]
     },
     "execution_count": 36,
     "metadata": {},
     "output_type": "execute_result"
    }
   ],
   "source": [
    "result['orientation'].shape"
   ]
  },
  {
   "cell_type": "code",
   "execution_count": 37,
   "id": "c75cc8f2-9c0e-4e07-a91c-a3967f8dc234",
   "metadata": {},
   "outputs": [],
   "source": [
    "xmap = iutls.results_dict_to_crystal_map(result,phasedict)\n",
    "xmap.phases[0].space_group = 225"
   ]
  },
  {
   "cell_type": "code",
   "execution_count": 38,
   "id": "6773ceb8-eed0-44fb-8ff2-db72825d6021",
   "metadata": {},
   "outputs": [
    {
     "data": {
      "text/plain": [
       "(20, 10)"
      ]
     },
     "execution_count": 38,
     "metadata": {},
     "output_type": "execute_result"
    }
   ],
   "source": [
    "xmap.shape"
   ]
  },
  {
   "cell_type": "code",
   "execution_count": 40,
   "id": "bd72b413-b443-4089-a997-d0f2cb75e480",
   "metadata": {},
   "outputs": [],
   "source": [
    "from orix import plot\n",
    "from orix.crystal_map import CrystalMap, Phase, PhaseList\n",
    "from orix.io import load, save\n",
    "from orix.quaternion import Orientation, Rotation, symmetry\n",
    "from orix.vector import Vector3d"
   ]
  },
  {
   "cell_type": "code",
   "execution_count": 41,
   "id": "7d48a725-1adc-4eb8-99bb-298c72d8def7",
   "metadata": {},
   "outputs": [],
   "source": [
    "ckey_m3m = plot.IPFColorKeyTSL(xmap.phases[\"Cu\"].point_group, direction=Vector3d.yvector())\n",
    "rgb_cu = ckey_m3m.orientation2color(xmap[\"Cu\"].orientations)"
   ]
  },
  {
   "cell_type": "code",
   "execution_count": 42,
   "id": "e30e8662-f1c4-4409-a069-8e47ea57681a",
   "metadata": {},
   "outputs": [],
   "source": [
    "xmap.plot(rgb_cu)"
   ]
  },
  {
   "cell_type": "code",
   "execution_count": null,
   "id": "0370449a-15b3-463f-b551-0eca5e4b0bfb",
   "metadata": {},
   "outputs": [],
   "source": []
  }
 ],
 "metadata": {
  "kernelspec": {
   "display_name": "pyxem14current",
   "language": "python",
   "name": "pyxem14"
  },
  "language_info": {
   "codemirror_mode": {
    "name": "ipython",
    "version": 3
   },
   "file_extension": ".py",
   "mimetype": "text/x-python",
   "name": "python",
   "nbconvert_exporter": "python",
   "pygments_lexer": "ipython3",
   "version": "3.8.5"
  }
 },
 "nbformat": 4,
 "nbformat_minor": 5
}
