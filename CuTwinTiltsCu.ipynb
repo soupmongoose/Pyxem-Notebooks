{
 "cells": [
  {
   "cell_type": "code",
   "execution_count": 1,
   "id": "929cc0bb-f709-4d55-ac5e-e74c6e23e772",
   "metadata": {},
   "outputs": [
    {
     "name": "stderr",
     "output_type": "stream",
     "text": [
      "WARNING:hyperspy.api:The ipywidgets GUI elements are not available, probably because the hyperspy_gui_ipywidgets package is not installed.\n",
      "WARNING:hyperspy.api:The traitsui GUI elements are not available, probably because the hyperspy_gui_traitsui package is not installed.\n"
     ]
    }
   ],
   "source": [
    "%matplotlib qt\n",
    "import numpy as np\n",
    "import matplotlib.pyplot as plt\n",
    "import hyperspy.api as hs"
   ]
  },
  {
   "cell_type": "code",
   "execution_count": 2,
   "id": "e8cf4540-f4fd-4fc2-aae8-18c7a503ebd1",
   "metadata": {
    "tags": []
   },
   "outputs": [
    {
     "name": "stderr",
     "output_type": "stream",
     "text": [
      "ERROR:numba.cuda.cudadrv.driver:Call to cuInit results in UNKNOWN_CUDA_ERROR\n",
      "WARNING:silx.opencl.common:The module pyOpenCL has been imported but can't be used here\n",
      "/home/joseph/miniconda3/envs/pyxemmaster/lib/python3.9/site-packages/hyperspy/misc/utils.py:470: VisibleDeprecationWarning: Use of the `binned` attribute in metadata is going to be deprecated in v2.0. Set the `axis.is_binned` attribute instead. \n",
      "  warnings.warn('Use of the `binned` attribute in metadata is '\n",
      "/home/joseph/miniconda3/envs/pyxemmaster/lib/python3.9/site-packages/hyperspy/io.py:524: VisibleDeprecationWarning: Loading old file version. The binned attribute has been moved from metadata.Signal to axis.is_binned. Setting this attribute for all signal axes instead.\n",
      "  warnings.warn('Loading old file version. The binned attribute '\n"
     ]
    }
   ],
   "source": [
    "dpcu0 = hs.load(\"Data/CuTwinTilt/20220305_154456/SPED_256x64x12_25x25_scanRot340_NBD_alpha5_spot0p5nm_CL12cm_1deg_100Hz_20ms.hspy\")"
   ]
  },
  {
   "cell_type": "code",
   "execution_count": null,
   "id": "dffb895d-1555-4619-94c6-3f03d97a4c92",
   "metadata": {},
   "outputs": [],
   "source": [
    "dpcu0.center_direct_beam(method = 'blur',half_square_width=15,return_shifts=True, sigma = 3)"
   ]
  },
  {
   "cell_type": "code",
   "execution_count": 8,
   "id": "e1fe0141-c93f-4e48-83ce-439811fe1a01",
   "metadata": {},
   "outputs": [],
   "source": [
    "dpcu0.plot(vmax = 200)"
   ]
  },
  {
   "cell_type": "code",
   "execution_count": null,
   "id": "92c75538-bc09-41f7-9d47-584b6a6711d2",
   "metadata": {},
   "outputs": [],
   "source": [
    "dpcu0.subtract_diffraction_background()"
   ]
  },
  {
   "cell_type": "code",
   "execution_count": null,
   "id": "9f07cb0b-be2d-4282-a523-945e87ef6151",
   "metadata": {},
   "outputs": [],
   "source": [
    "# dpcu0.isig[108:148,108:148] = 0"
   ]
  },
  {
   "cell_type": "code",
   "execution_count": 3,
   "id": "6a315a3b-a5f4-43e7-b6e8-745734a39202",
   "metadata": {},
   "outputs": [],
   "source": [
    "from skimage import filters\n",
    "\n",
    "def crop_minimum(image, minimum=3):\n",
    "    copied = image.copy()\n",
    "    copied[copied <= minimum] = 0.\n",
    "    return copied"
   ]
  },
  {
   "cell_type": "code",
   "execution_count": 4,
   "id": "37ddef72-e98c-4001-a4b8-868450fb8db5",
   "metadata": {
    "tags": []
   },
   "outputs": [
    {
     "name": "stdout",
     "output_type": "stream",
     "text": [
      "[########################################] | 100% Completed |  0.1s\n"
     ]
    },
    {
     "data": {
      "application/vnd.jupyter.widget-view+json": {
       "model_id": "9a645ace116045879683aedaa64c729c",
       "version_major": 2,
       "version_minor": 0
      },
      "text/plain": [
       "  0%|          | 0/1 [00:00<?, ?it/s]"
      ]
     },
     "metadata": {},
     "output_type": "display_data"
    },
    {
     "name": "stderr",
     "output_type": "stream",
     "text": [
      "WARNING:hyperspy.signal:The default iterpath will change in HyperSpy 2.0.\n"
     ]
    },
    {
     "data": {
      "application/vnd.jupyter.widget-view+json": {
       "model_id": "7471a08fcfd841a19cf0241cb069e131",
       "version_major": 2,
       "version_minor": 0
      },
      "text/plain": [
       "  0%|          | 0/1 [00:00<?, ?it/s]"
      ]
     },
     "metadata": {},
     "output_type": "display_data"
    },
    {
     "name": "stderr",
     "output_type": "stream",
     "text": [
      "WARNING:hyperspy.signal:The default iterpath will change in HyperSpy 2.0.\n"
     ]
    },
    {
     "data": {
      "application/vnd.jupyter.widget-view+json": {
       "model_id": "c872aacef5dc49dbaf958138db088036",
       "version_major": 2,
       "version_minor": 0
      },
      "text/plain": [
       "  0%|          | 0/1 [00:00<?, ?it/s]"
      ]
     },
     "metadata": {},
     "output_type": "display_data"
    },
    {
     "name": "stderr",
     "output_type": "stream",
     "text": [
      "WARNING:hyperspy.signal:The default iterpath will change in HyperSpy 2.0.\n"
     ]
    }
   ],
   "source": [
    "procdat = dpcu0.inav[196,22].subtract_diffraction_background(method=\"difference of gaussians\",\n",
    "                                                            min_sigma=7,\n",
    "                                                            max_sigma=10, \n",
    "                                                            lazy_result=False)\n",
    "procdat = procdat.map(filters.gaussian, sigma=0.5, inplace=False)\n",
    "procdat = procdat.map(crop_minimum, minimum = 1, inplace=False)\n",
    "procdat = procdat.map(filters.gaussian, sigma=0.5, inplace=False)"
   ]
  },
  {
   "cell_type": "code",
   "execution_count": 7,
   "id": "52ac3100-7e80-4b91-8ea2-fe61a0ef2ed1",
   "metadata": {},
   "outputs": [],
   "source": [
    "procdat.plot(vmax = 6, scalebar = False, cmap = 'inferno_r')"
   ]
  },
  {
   "cell_type": "code",
   "execution_count": null,
   "id": "f5494124-6665-4d08-aa25-1caec691d318",
   "metadata": {
    "tags": []
   },
   "outputs": [],
   "source": [
    "procdat = dpcu0.subtract_diffraction_background(method=\"difference of gaussians\",\n",
    "                                                            min_sigma=8,\n",
    "                                                            max_sigma=9, \n",
    "                                                            lazy_result=False)\n",
    "procdat = procdat.map(filters.gaussian, sigma=1, inplace=False)\n",
    "procdat = procdat.map(crop_minimum, minimum = 0.4, inplace=False)"
   ]
  },
  {
   "cell_type": "code",
   "execution_count": null,
   "id": "36d2f9ab-1a67-4174-8236-fd06cb41dd50",
   "metadata": {},
   "outputs": [],
   "source": [
    "procdat.plot(vmax = 10)"
   ]
  },
  {
   "cell_type": "code",
   "execution_count": null,
   "id": "f65bca79-2dc2-4a03-aba3-f31554f6271b",
   "metadata": {},
   "outputs": [],
   "source": [
    "dpcu0 = procdat"
   ]
  },
  {
   "cell_type": "code",
   "execution_count": null,
   "id": "6096073a-3a88-4666-9a86-0d4c212e3fa3",
   "metadata": {},
   "outputs": [],
   "source": [
    "procdat.save('Data/CuTwinTilt/SPEDCutilt2_bgred.hspy')"
   ]
  },
  {
   "cell_type": "code",
   "execution_count": null,
   "id": "d2a95a42-f09b-4c63-859b-2f09a1a4e2b1",
   "metadata": {
    "tags": []
   },
   "outputs": [],
   "source": [
    "dpcu0 = hs.load(\"Data/CuTwinTilt/SPEDCutilt2_bgred.hspy\")"
   ]
  },
  {
   "cell_type": "code",
   "execution_count": null,
   "id": "b92ce341-10a4-4f02-b0e6-5514f2b02c2a",
   "metadata": {},
   "outputs": [],
   "source": [
    "resolution = 0.5\n",
    "grid_cub = get_beam_directions_grid(\"cubic\", resolution, mesh=\"spherified_cube_edge\")\n",
    "\n",
    "structure_matrix = diffpy.structure.loadStructure('Data/Cu_mp-30_conventional_standard.cif')\n",
    "half_shape = (256//2, 256//2)\n",
    "\n",
    "reciprocal_radius = np.sqrt(half_shape[0]**2 + half_shape[1]**2)*diffraction_calibration\n",
    "\n",
    "diff_gen = DiffractionGenerator(accelerating_voltage=200,\n",
    "                                precession_angle=1,\n",
    "                                scattering_params=None,\n",
    "                                shape_factor_model=\"linear\",\n",
    "                                minimum_intensity=0.1,\n",
    "                                )\n",
    "\n",
    "lib_gen = DiffractionLibraryGenerator(diff_gen)\n",
    "\n",
    "library_phases = StructureLibrary([\"Cu\"], [structure_matrix], [grid_cub])\n",
    "\n",
    "diff_lib = lib_gen.get_diffraction_library(library_phases,\n",
    "                                           calibration=diffraction_calibration,\n",
    "                                           reciprocal_radius=reciprocal_radius,\n",
    "                                           half_shape=half_shape,\n",
    "                                           with_direct_beam=False,\n",
    "                                           max_excitation_error=0.06)"
   ]
  },
  {
   "cell_type": "code",
   "execution_count": null,
   "id": "f49f5a46-439d-48ea-8aeb-6c0a10af36f6",
   "metadata": {},
   "outputs": [],
   "source": [
    "def template_log_func(x):\n",
    "    return np.log10(x + 0.01)\n",
    "import diffpy\n",
    "from diffsims.libraries.structure_library import StructureLibrary\n",
    "from diffsims.generators.diffraction_generator import DiffractionGenerator\n",
    "from diffsims.generators.library_generator import DiffractionLibraryGenerator\n",
    "from diffsims.generators.rotation_list_generators import get_beam_directions_grid\n",
    "from pyxem.utils import indexation_utils as iutls\n",
    "from pyxem.signals.indexation_results import results_dict_to_crystal_map\n",
    "from pyxem.utils import plotting_utils as putls\n",
    "def do_template_matching(datapath,cifpath,res,transform,diffraction_calibration):\n",
    "    dp = hs.load(datapath)\n",
    "    print(\"Done Loading\")\n",
    "    resolution = res\n",
    "    grid_cub = get_beam_directions_grid(\"cubic\", resolution, mesh=\"spherified_cube_edge\")\n",
    "\n",
    "    structure_matrix = diffpy.structure.loadStructure(cifpath)\n",
    "    half_shape = (dp.data.shape[-2]//2, dp.data.shape[-1]//2)\n",
    "\n",
    "    reciprocal_radius = np.sqrt(half_shape[0]**2 + half_shape[1]**2)*diffraction_calibration\n",
    "\n",
    "    diff_gen = DiffractionGenerator(accelerating_voltage=200,\n",
    "                                    precession_angle=1,\n",
    "                                    scattering_params=None,\n",
    "                                    shape_factor_model=\"linear\",\n",
    "                                    minimum_intensity=0.1,\n",
    "                                    )\n",
    "\n",
    "    lib_gen = DiffractionLibraryGenerator(diff_gen)\n",
    "\n",
    "    library_phases = StructureLibrary([\"Cu\"], [structure_matrix], [grid_cub])\n",
    "\n",
    "    diff_lib = lib_gen.get_diffraction_library(library_phases,\n",
    "                                               calibration=diffraction_calibration,\n",
    "                                               reciprocal_radius=reciprocal_radius,\n",
    "                                               half_shape=half_shape,\n",
    "                                               with_direct_beam=False,\n",
    "                                               max_excitation_error=0.06)\n",
    "    print(\"Done Simulating\")\n",
    "\n",
    "    frac_keep = 1\n",
    "    n_best = 20\n",
    "    n_keep = None\n",
    "\n",
    "    delta_r = 0.5\n",
    "    delta_theta = 0.5\n",
    "    max_r = None\n",
    "    intensity_transform_function = transform\n",
    "    direct_beam_position = None\n",
    "    normalize_image = False\n",
    "    normalize_templates = True\n",
    "\n",
    "    result, phasedict = iutls.index_dataset_with_template_rotation(dp,\n",
    "                                                        diff_lib,\n",
    "                                                        phases = [\"Cu\"],\n",
    "                                                        n_best = n_best,\n",
    "                                                        frac_keep = frac_keep,\n",
    "                                                        n_keep = n_keep,\n",
    "                                                        delta_r = delta_r,\n",
    "                                                        delta_theta = delta_theta,\n",
    "                                                        max_r = None,\n",
    "                                                        intensity_transform_function=intensity_transform_function,\n",
    "                                                        normalize_images = normalize_image,\n",
    "                                                        normalize_templates=normalize_templates,\n",
    "                                                        target='gpu'\n",
    "                                                        )\n",
    "\n",
    "    xmap = results_dict_to_crystal_map(result,phasedict)\n",
    "    xmap.phases[0].space_group = 225\n",
    "    return xmap"
   ]
  },
  {
   "cell_type": "code",
   "execution_count": null,
   "id": "68d8e4d8-db43-4a0c-903c-dd7d6dd62ea9",
   "metadata": {},
   "outputs": [],
   "source": [
    "diffraction_calibration = 0.009381971999999999\n",
    "# xmap = do_template_matching(\"Data/CuTwinTilt/SPEDCutilt0_bgred.hspy\",\"Data/Cu_mp-30_conventional_standard.cif\",0.5,template_log_func,diffraction_calibration)\n",
    "# xmap = do_template_matching(\"Data/CuTwinTilt/20220305_163410/SPED_256x256x12_25x25_scanRot340_NBD_alpha5_spot0p5nm_CL12cm_1deg_100Hz_20ms.hspy\",\"Data/Cu_mp-30_conventional_standard.cif\",0.5,template_log_func,diffraction_calibration)\n",
    "# xmap = do_template_matching(\"Data/CuTwinTilt/SPEDCutilt2_bgred.hspy\",\"Data/Cu_mp-30_conventional_standard.cif\",0.5,template_log_func,diffraction_calibration)"
   ]
  },
  {
   "cell_type": "code",
   "execution_count": null,
   "id": "af67f1a9-07c0-4804-a492-350aa4903ca0",
   "metadata": {},
   "outputs": [],
   "source": [
    "xmap.phases.add_not_indexed()"
   ]
  },
  {
   "cell_type": "code",
   "execution_count": null,
   "id": "7109fd91-8c88-46f2-b452-c79772b8169b",
   "metadata": {},
   "outputs": [],
   "source": [
    "xmap0['not_indexed'].phase_id = 0"
   ]
  },
  {
   "cell_type": "code",
   "execution_count": null,
   "id": "ee559492-b6c5-42cd-a4b2-56498c1b9346",
   "metadata": {},
   "outputs": [],
   "source": [
    "xmap[xmap.correlation[:,0] < 0.5].phase_id = -1"
   ]
  },
  {
   "cell_type": "code",
   "execution_count": null,
   "id": "73010ba0-e9c4-4d30-8645-3e53ebe5b102",
   "metadata": {},
   "outputs": [],
   "source": [
    "xmap[xmap.correlation[:,0] > 2.3]"
   ]
  },
  {
   "cell_type": "code",
   "execution_count": null,
   "id": "30b6aded-529f-4fbb-bfbd-d3cd338bc580",
   "metadata": {},
   "outputs": [],
   "source": [
    "xmap"
   ]
  },
  {
   "cell_type": "code",
   "execution_count": null,
   "id": "3f9e1cec-9fe6-4596-8702-8a08f419b733",
   "metadata": {},
   "outputs": [],
   "source": [
    "from orix import plot\n",
    "from orix.crystal_map import CrystalMap, Phase, PhaseList\n",
    "from orix.io import load, save\n",
    "from orix.quaternion import Orientation, Rotation, symmetry\n",
    "from orix.vector import Vector3d, AxAngle, Miller"
   ]
  },
  {
   "cell_type": "code",
   "execution_count": null,
   "id": "05fea1a6-4694-4c54-8e0a-39af09dddf22",
   "metadata": {},
   "outputs": [],
   "source": [
    "xmap = load(\"Data/CuTwinTiltCu0xmapBGRED.h5\") "
   ]
  },
  {
   "cell_type": "code",
   "execution_count": null,
   "id": "145fdcd2-6187-4141-a4fd-f7b5633d3e4c",
   "metadata": {},
   "outputs": [],
   "source": [
    "ckey_m3m = plot.IPFColorKeyTSL(xmap.phases[\"Cu\"].point_group, direction=Vector3d.xvector())\n",
    "rgb_Cux = ckey_m3m.orientation2color(xmap[\"Cu\"].orientations)\n",
    "ckey_m3m = plot.IPFColorKeyTSL(xmap.phases[\"Cu\"].point_group, direction=Vector3d.yvector())\n",
    "rgb_Cuy = ckey_m3m.orientation2color(xmap[\"Cu\"].orientations)\n",
    "ckey_m3m = plot.IPFColorKeyTSL(xmap.phases[\"Cu\"].point_group, direction=Vector3d.zvector())\n",
    "rgb_Cuz = ckey_m3m.orientation2color(xmap[\"Cu\"].orientations)"
   ]
  },
  {
   "cell_type": "code",
   "execution_count": null,
   "id": "91f24546-e266-46b0-a3cd-c8c086781b15",
   "metadata": {},
   "outputs": [],
   "source": [
    "fig = plt.figure()\n",
    "\n",
    "ax0 = fig.add_subplot(311, projection=\"plot_map\")\n",
    "ax0.tick_params(labelleft=False,labelbottom=False, length=0)\n",
    "ax1 = fig.add_subplot(312, projection=\"plot_map\")\n",
    "ax1.tick_params(labelleft=False,labelbottom=False, length=0)\n",
    "ax2 = fig.add_subplot(313, projection=\"plot_map\")\n",
    "ax2.tick_params(labelleft=False,labelbottom=False, length=0)\n",
    "ax0.set_title(\"X\")\n",
    "ax1.set_title(\"Y\")\n",
    "ax2.set_title(\"Z\")\n",
    "\n",
    "ax0.plot_map(xmap[\"Cu\"], rgb_Cux, scalebar = False)\n",
    "ax1.plot_map(xmap[\"Cu\"], rgb_Cuy, scalebar = False)\n",
    "ax2.plot_map(xmap[\"Cu\"], rgb_Cuz, scalebar = False)"
   ]
  },
  {
   "cell_type": "code",
   "execution_count": null,
   "id": "e0dc6737-5f53-4d1b-8432-2f6964dc5160",
   "metadata": {},
   "outputs": [],
   "source": [
    "fig.savefig(\"orimapCu.png\", bbox_inches=\"tight\", pad_inches=0)"
   ]
  },
  {
   "cell_type": "code",
   "execution_count": null,
   "id": "f3870a05-15c8-4621-b998-ddcc8303c326",
   "metadata": {},
   "outputs": [],
   "source": [
    "xmap['Cu'].orientations.scatter('axangle')"
   ]
  },
  {
   "cell_type": "code",
   "execution_count": null,
   "id": "ce9e3437-3069-454c-be1a-c1004caaa51e",
   "metadata": {},
   "outputs": [],
   "source": [
    "xmap.plot(value = xmap.correlation[:,0],scalebar = False)"
   ]
  },
  {
   "cell_type": "code",
   "execution_count": null,
   "id": "2d717342-dceb-4f25-9d96-af1d7cbacb77",
   "metadata": {},
   "outputs": [],
   "source": [
    "save(\n",
    "    filename=\"Data/CuTwinTiltCu2xmapBGRED.h5\",\n",
    "    object2write=xmap,\n",
    "    overwrite=True,  # Default is False\n",
    ")"
   ]
  },
  {
   "cell_type": "code",
   "execution_count": null,
   "id": "bcae3399-4b0f-4359-a55e-436f55ce9a32",
   "metadata": {},
   "outputs": [],
   "source": [
    "ipfkey = plot.IPFColorKeyTSL(symmetry.Oh)\n",
    "ipfkey.plot()"
   ]
  },
  {
   "cell_type": "code",
   "execution_count": null,
   "id": "8f8a05b8-3a4a-4476-ac1e-db2fc2f5a32f",
   "metadata": {},
   "outputs": [],
   "source": [
    "ori.scatter(projection='ipf',direction=Vector3d((0,0,1)))"
   ]
  },
  {
   "cell_type": "code",
   "execution_count": null,
   "id": "06f2b7cb-9d3d-458d-aeba-239bbc19437b",
   "metadata": {},
   "outputs": [],
   "source": [
    "px = 200\n",
    "py = 35\n",
    "index = np.ravel_multi_index((py,px),xmap.shape)\n",
    "\n",
    "ori = xmap['Cu'].orientations[index]"
   ]
  },
  {
   "cell_type": "code",
   "execution_count": null,
   "id": "d6829d0e-9454-4929-9989-b4fc17eff374",
   "metadata": {
    "jupyter": {
     "source_hidden": true
    },
    "tags": []
   },
   "outputs": [],
   "source": [
    "simulations = diff_lib[\"Cu\"]['simulations']\n",
    "#scan coordinate to check\n",
    "px = 160\n",
    "py = 30\n",
    "# which solution to plot\n",
    "n_sol = 0\n",
    "\n",
    "index = np.ravel_multi_index((py,px),xmap.shape)\n",
    "# query the necessary info from the solution\n",
    "sim_sol_index = xmap.template_index[index,0]\n",
    "mirrored_sol = xmap.mirrored_template[index,0]\n",
    "in_plane_angle = np.rad2deg(xmap.rotations[index,0].to_euler())[0][0]\n",
    "# # query the appropriate template\n",
    "sim_sol = simulations[sim_sol_index]\n",
    "\n",
    "\n",
    "\n",
    "fig = plt.figure()\n",
    "ax0 = fig.add_subplot(121, projection=\"plot_map\")\n",
    "ax1 = fig.add_subplot(122)\n",
    "ax0.set_title(\"Y\")\n",
    "ax0.plot_map(xmap['Cu'],rgb_Cuy)\n",
    "ax0.scatter(px,py, marker = 'X', c = 'g', s = 30)\n",
    "putls.plot_template_over_pattern(dpcu0.inav[px, py].data,\n",
    "                                 sim_sol,\n",
    "                                 ax = ax1,\n",
    "                                 in_plane_angle=in_plane_angle,\n",
    "                                 coordinate_system = \"cartesian\", \n",
    "                                 size_factor = 10,\n",
    "                                 vmax=30,\n",
    "                                 max_r = 200,\n",
    "                                 mirrored_template=mirrored_sol,\n",
    "                                 find_direct_beam=True,\n",
    "                                 cmap = \"inferno\",\n",
    "                                 marker_color = \"green\"\n",
    "                                )"
   ]
  },
  {
   "cell_type": "code",
   "execution_count": null,
   "id": "7f4113d9-b796-4724-94a4-d6f4259763b9",
   "metadata": {},
   "outputs": [],
   "source": [
    "xmap0 = load(\"Data/CuTwinTiltCu0xmapBGRED.h5\") \n",
    "xmap1 = load(\"Data/CuTwinTiltCu1xmapBGRED.h5\") \n",
    "xmap2 = load(\"Data/CuTwinTiltCu2xmapBGRED.h5\") \n",
    "xmap3 = load(\"Data/CuTwinTiltCu3xmapBGRED.h5\") \n",
    "xmap4 = load(\"Data/CuTwinTiltCu4xmapBGRED.h5\") "
   ]
  },
  {
   "cell_type": "code",
   "execution_count": null,
   "id": "2cfd472a-24fa-4a1e-85f5-e99cb32f5326",
   "metadata": {},
   "outputs": [],
   "source": [
    "xmap['Cu'].plot(value = xmap.correlation[:,0], scalebar = False, colorbar = True)"
   ]
  },
  {
   "cell_type": "code",
   "execution_count": null,
   "id": "ea632680-5b52-42d6-be11-3ca4c6924ce1",
   "metadata": {},
   "outputs": [],
   "source": [
    "orifirst = xmap['Cu'].orientations\n",
    "store = np.zeros((xmap['Cu'].size,15))\n",
    "normcorrs = xmap['Cu'].correlation[:,:]/np.linalg.norm(xmap['Cu'].correlation[:,:]) \n",
    "for i in range (15):\n",
    "    corr_weight = normcorrs[:,i]/normcorrs[:,0]\n",
    "    # corr_weight = 1 # for unweighted, not recommened\n",
    "    orinext = Orientation(xmap['Cu'].rotations[:,i],symmetry=symmetry.Oh)\n",
    "    store[:,i] = np.degrees((orinext - orifirst).angle.data) * abs(corr_weight)\n",
    "\n",
    "mean_misori_weighted = np.mean(store[:,1::], axis = 1)"
   ]
  },
  {
   "cell_type": "code",
   "execution_count": null,
   "id": "1f18fc94-4830-4936-b3bd-b4d901c06737",
   "metadata": {},
   "outputs": [],
   "source": [
    "xmap['Cu'].plot(value = mean_misori_weighted,scalebar = False,vmin = 0, vmax = 10, colorbar = True)"
   ]
  },
  {
   "cell_type": "code",
   "execution_count": null,
   "id": "e001f8b3-4713-461b-9bf8-0c6cbf305803",
   "metadata": {},
   "outputs": [],
   "source": [
    "normcorrs = xmap['Cu'].correlation[:,:]/np.linalg.norm(xmap['Cu'].correlation[:,:]) \n",
    "reliability = normcorrs[:,0] - normcorrs[:,1] "
   ]
  },
  {
   "cell_type": "code",
   "execution_count": null,
   "id": "dc578541-02f0-43ed-915a-3b75078afbba",
   "metadata": {},
   "outputs": [],
   "source": [
    "xmap['Cu'].plot(value = reliability,scalebar = False, colorbar = True)"
   ]
  },
  {
   "cell_type": "code",
   "execution_count": null,
   "id": "178347e4-9988-40d0-91f6-801d4c1fc571",
   "metadata": {},
   "outputs": [],
   "source": [
    "xmapdict = [xmap0, xmap1,xmap2,xmap3,xmap4]\n",
    "means = np.zeros((2,5,4))\n",
    "for i in range(5):\n",
    "    misred = xmapdict[i]['Cu'].orientations - xmapdict[i][20,165].orientations\n",
    "    misblu = xmapdict[i]['Cu'].orientations - xmapdict[i][30,210].orientations\n",
    "\n",
    "    meanred = xmapdict[i][np.rad2deg(misred.angle.data) < 2].orientations.mean()\n",
    "    meanblu = xmapdict[i][np.rad2deg(misblu.angle.data) < 2].orientations.mean()\n",
    "    \n",
    "    meanred.symmetry = symmetry.Oh\n",
    "    meanblu.symmetry = symmetry.Oh\n",
    "    \n",
    "    means[0,i] = meanred.data\n",
    "    means[1,i] = meanblu.data\n",
    "\n",
    "    mistwin = np.rad2deg((meanred - meanblu).angle.data)\n",
    "    print(mistwin)"
   ]
  },
  {
   "cell_type": "code",
   "execution_count": null,
   "id": "93d2451b-37e4-4aaf-9080-d35136023f1b",
   "metadata": {},
   "outputs": [],
   "source": [
    "meansori = Orientation(means)"
   ]
  },
  {
   "cell_type": "code",
   "execution_count": null,
   "id": "3601f991-6178-4811-af4c-781fc97044f9",
   "metadata": {},
   "outputs": [],
   "source": [
    "meansori.symmetry = symmetry.Oh"
   ]
  },
  {
   "cell_type": "code",
   "execution_count": null,
   "id": "8675a504-1e2a-4147-b3cd-327b6ee5fbcf",
   "metadata": {},
   "outputs": [],
   "source": [
    "mistilt = np.rad2deg((meansori[0,0] - meansori[0,1]).angle.data)\n",
    "print(mistilt)\n",
    "mistilt = np.rad2deg((meansori[0,1] - meansori[0,2]).angle.data)\n",
    "print(mistilt)\n",
    "mistilt = np.rad2deg((meansori[0,0] - meansori[0,3]).angle.data)\n",
    "print(mistilt)\n",
    "mistilt = np.rad2deg((meansori[0,3] - meansori[0,4]).angle.data)\n",
    "print(mistilt)"
   ]
  },
  {
   "cell_type": "code",
   "execution_count": null,
   "id": "658a3d32-a4ec-4a93-b28e-f35f90d1ea05",
   "metadata": {},
   "outputs": [],
   "source": [
    "mistilt = np.rad2deg((meansori[1,0] - meansori[1,1]).angle.data)\n",
    "print(mistilt)\n",
    "mistilt = np.rad2deg((meansori[1,1] - meansori[1,2]).angle.data)\n",
    "print(mistilt)\n",
    "mistilt = np.rad2deg((meansori[1,0] - meansori[1,3]).angle.data)\n",
    "print(mistilt)\n",
    "mistilt = np.rad2deg((meansori[1,3] - meansori[1,4]).angle.data)\n",
    "print(mistilt)"
   ]
  },
  {
   "cell_type": "code",
   "execution_count": null,
   "id": "38959273-36b0-4bf6-8c28-d11c17ff5739",
   "metadata": {},
   "outputs": [],
   "source": [
    "meanOris = Orientation(means, symmetry= symmetry.Oh)"
   ]
  },
  {
   "cell_type": "code",
   "execution_count": null,
   "id": "7d239e53-ae06-4be5-b269-4a12cb2c536e",
   "metadata": {},
   "outputs": [],
   "source": [
    "misred = xmap4['Cu'].orientations - xmap4[30,160].orientations\n",
    "misblu = xmap4['Cu'].orientations - xmap4[30,210].orientations\n",
    "\n",
    "meanred = xmap4[np.rad2deg(misred.angle.data) < 2].orientations.mean()\n",
    "meanblu = xmap4[np.rad2deg(misblu.angle.data) < 2].orientations.mean()\n",
    "\n",
    "meanred.symmetry = symmetry.Oh\n",
    "meanblu.symmetry = symmetry.Oh\n",
    "\n",
    "mistwin = np.rad2deg((meanred - meanblu).angle.data)\n",
    "print(meanred)\n",
    "print(meanblu)\n",
    "print(mistwin)"
   ]
  },
  {
   "cell_type": "code",
   "execution_count": null,
   "id": "d0b31d8a-0e55-47bc-9406-53df1a285939",
   "metadata": {},
   "outputs": [],
   "source": [
    "np.rad2deg((xmapdict[4][30,160].orientations - xmapdict[4][30,210].orientations).angle.data)"
   ]
  },
  {
   "cell_type": "code",
   "execution_count": null,
   "id": "28129860-c634-4f1a-8b0c-db281441e609",
   "metadata": {},
   "outputs": [],
   "source": [
    "wherered = np.where(np.rad2deg(misred.angle.data) < 2)[0]\n",
    "whereblu = np.where(np.rad2deg(misblu.angle.data) < 2)[0]"
   ]
  },
  {
   "cell_type": "code",
   "execution_count": null,
   "id": "b678db8e-278d-485b-8ca6-abe1a5c9d04e",
   "metadata": {},
   "outputs": [],
   "source": [
    "test2 =xmap0[np.rad2deg(xmap0['Cu'].orientations.angle_with(xmap0[30,160].orientations).data) < 2].orientations.map_into_symmetry_reduced_zone().mean()"
   ]
  },
  {
   "cell_type": "code",
   "execution_count": null,
   "id": "bb1bf162-3cdb-4212-b1b7-8d43f9b9a477",
   "metadata": {},
   "outputs": [],
   "source": [
    "test1 =xmap[np.rad2deg(misred.angle.data) < 2].orientations.mean()"
   ]
  },
  {
   "cell_type": "code",
   "execution_count": null,
   "id": "5ce3a91d-8025-4a1a-ba8b-b09bc0061ef6",
   "metadata": {},
   "outputs": [],
   "source": [
    "np.rad2deg(test1.angle_with(test2).data)"
   ]
  },
  {
   "cell_type": "code",
   "execution_count": null,
   "id": "9d38c779-e7d1-4eef-b0ab-e47c5b1c435e",
   "metadata": {},
   "outputs": [],
   "source": [
    "ckey_m3m = plot.IPFColorKeyTSL(xmap0.phases[\"Cu\"].point_group, direction=Vector3d.xvector())\n",
    "rgb_Cux = ckey_m3m.orientation2color(xmap0[\"Cu\"].orientations[whereblu])\n",
    "ckey_m3m = plot.IPFColorKeyTSL(xmap0.phases[\"Cu\"].point_group, direction=Vector3d.yvector())\n",
    "rgb_Cuy = ckey_m3m.orientation2color(xmap0[\"Cu\"].orientations[whereblu])\n",
    "ckey_m3m = plot.IPFColorKeyTSL(xmap0.phases[\"Cu\"].point_group, direction=Vector3d.zvector())\n",
    "rgb_Cuz = ckey_m3m.orientation2color(xmap0[\"Cu\"].orientations[whereblu])"
   ]
  },
  {
   "cell_type": "code",
   "execution_count": null,
   "id": "a74b71bc-ad73-459f-99d5-f4e473262864",
   "metadata": {},
   "outputs": [],
   "source": [
    "fig = plt.figure()\n",
    "ax0 = fig.add_subplot(311, projection=\"plot_map\")\n",
    "ax1 = fig.add_subplot(312, projection=\"plot_map\")\n",
    "ax2 = fig.add_subplot(313, projection=\"plot_map\")\n",
    "ax0.set_title(\"X\")\n",
    "ax1.set_title(\"Y\")\n",
    "ax2.set_title(\"Z\")\n",
    "ax0.plot_map(xmap[np.rad2deg(misblu.angle.data) < 2], rgb_Cux, scalebar = False)\n",
    "ax1.plot_map(xmap[np.rad2deg(misblu.angle.data) < 2], rgb_Cuy, scalebar = False)\n",
    "ax2.plot_map(xmap[np.rad2deg(misblu.angle.data) < 2], rgb_Cuz, scalebar = False)"
   ]
  },
  {
   "cell_type": "code",
   "execution_count": null,
   "id": "22adb90c-8bb6-450a-8caa-15fc74a3c954",
   "metadata": {},
   "outputs": [],
   "source": [
    "trueorimeans[:,0]"
   ]
  },
  {
   "cell_type": "code",
   "execution_count": null,
   "id": "ba66e03b-cd15-4204-b85d-893f8e7ab372",
   "metadata": {},
   "outputs": [],
   "source": [
    "things = cluster_means[1:3].conj.outer(m111)"
   ]
  },
  {
   "cell_type": "code",
   "execution_count": null,
   "id": "3a780d03-ad89-4d32-ae72-0125e3702d03",
   "metadata": {},
   "outputs": [],
   "source": [
    "things = ((trueorimeans[1,:].conj) * Miller((1,0,1)))"
   ]
  },
  {
   "cell_type": "code",
   "execution_count": null,
   "id": "77d14476-22f1-4963-b773-d646737479c2",
   "metadata": {},
   "outputs": [],
   "source": [
    "things = ((trueorimeans[:,0].conj).outer(m111))"
   ]
  },
  {
   "cell_type": "code",
   "execution_count": null,
   "id": "a752e55d-8a74-49f8-b716-15f49f24cfd9",
   "metadata": {},
   "outputs": [],
   "source": [
    "things"
   ]
  },
  {
   "cell_type": "code",
   "execution_count": null,
   "id": "2fb4153c-1f46-4b9c-8afb-a5918a0a49a8",
   "metadata": {},
   "outputs": [],
   "source": [
    "colors2 = [\"C0\", \"C1\",\"C0\",\"C1\",\"C0\", \"C1\",\"C0\",\"C1\",\"C0\", \"C1\",\"C0\",\"C1\",\"C0\", \"C1\",\"C0\",\"C1\"]"
   ]
  },
  {
   "cell_type": "code",
   "execution_count": null,
   "id": "dfdeea76-2aac-4325-ae65-51d33ec11ea0",
   "metadata": {},
   "outputs": [],
   "source": [
    "things.scatter(grid = True, grid_resolution= (5,1),c = ('b','g','g','r','r'))"
   ]
  },
  {
   "cell_type": "code",
   "execution_count": null,
   "id": "2fe32e42-db39-4642-9647-b4b8da8b5cfb",
   "metadata": {},
   "outputs": [],
   "source": [
    "trueorimeans[0,:].scatter(projection= 'ipf', c = ('b','g','g','r','r'))"
   ]
  },
  {
   "cell_type": "code",
   "execution_count": null,
   "id": "8e1418be-bb83-41a7-bf41-534cf59936a5",
   "metadata": {},
   "outputs": [],
   "source": [
    "xmap0['Cu'].orientations[np.indices(xmap0.shape)[0,40,33]]"
   ]
  },
  {
   "cell_type": "code",
   "execution_count": null,
   "id": "5a9057a9-a5ae-4bda-8623-0259f887a09f",
   "metadata": {},
   "outputs": [],
   "source": [
    "xmap0['Cu'].orientations[5120:8960]"
   ]
  },
  {
   "cell_type": "code",
   "execution_count": null,
   "id": "df8bb660-b2e1-47e7-ad63-e1815b0a5377",
   "metadata": {},
   "outputs": [],
   "source": [
    "ori = Orientation(xmap1.rotations[5120:8960][:,0], symmetry=symmetry.Oh)"
   ]
  },
  {
   "cell_type": "code",
   "execution_count": null,
   "id": "d64539de-7190-4793-9fc8-a5bd5bec84a0",
   "metadata": {},
   "outputs": [],
   "source": [
    "D2 = ori.get_distance_matrix(lazy = True).data"
   ]
  },
  {
   "cell_type": "code",
   "execution_count": null,
   "id": "d6df6473-5782-4392-ac00-bff019a8dc9d",
   "metadata": {},
   "outputs": [],
   "source": [
    "D2 = D2.reshape(ori.size, ori.size).data"
   ]
  },
  {
   "cell_type": "code",
   "execution_count": null,
   "id": "54fe902c-1ad3-409d-8dcc-e9246bd0a55a",
   "metadata": {},
   "outputs": [],
   "source": [
    "from sklearn.cluster import DBSCAN\n",
    "dbscan = DBSCAN(eps=0.025, min_samples=30, metric=\"precomputed\").fit(D2)\n",
    "print(\"Labels:\", np.unique(dbscan.labels_))"
   ]
  },
  {
   "cell_type": "code",
   "execution_count": null,
   "id": "b0959dc0-c6c9-4b31-9d12-c47fc00c7273",
   "metadata": {},
   "outputs": [],
   "source": [
    "from skimage.color import label2rgb\n",
    "from matplotlib.colors import to_rgb\n",
    "color_names = [to_rgb(f\"C{i}\") for i in range(12)]  # ['C0', 'C1', ...]\n",
    "\n",
    "# colors_naive = label2rgb(dbscan_naive.labels_, colors=color_names, bg_label=-1)\n",
    "colors = label2rgb(dbscan.labels_, colors=color_names, bg_label=-1)\n",
    "\n"
   ]
  },
  {
   "cell_type": "code",
   "execution_count": null,
   "id": "b1512fa1-d76a-488c-bb7a-93a450173848",
   "metadata": {},
   "outputs": [],
   "source": [
    "unique_labels, all_cluster_sizes = np.unique(dbscan.labels_, return_counts=True)\n",
    "print(\"Labels:\", unique_labels)\n",
    "\n",
    "all_labels = dbscan.labels_.reshape(ori.shape)\n",
    "n_clusters = unique_labels.size - 1\n",
    "print(\"Number of clusters:\", n_clusters)"
   ]
  },
  {
   "cell_type": "code",
   "execution_count": null,
   "id": "00e0db20-4b19-4543-b53b-f0f2210f8f13",
   "metadata": {},
   "outputs": [],
   "source": [
    "unique_cluster_labels = unique_labels[1:]  # Without the \"no-cluster\" label -1\n",
    "cluster_sizes = all_cluster_sizes[1:]\n",
    "\n",
    "q_mean = [ori[all_labels == l].mean() for l in unique_cluster_labels]\n",
    "cluster_means = Orientation.stack(q_mean).flatten()\n",
    "\n",
    "# Map into the fundamental zone\n",
    "cluster_means.symmetry = symmetry.Oh\n",
    "# cluster_means = cluster_means.map_into_symmetry_reduced_zone()\n",
    "cluster_means"
   ]
  },
  {
   "cell_type": "code",
   "execution_count": null,
   "id": "7aeb9a0a-7ebf-42ec-a982-a4f36bf5e589",
   "metadata": {},
   "outputs": [],
   "source": [
    "np.rad2deg((cluster_means[0]- cluster_means[1]).angle.data)"
   ]
  },
  {
   "cell_type": "code",
   "execution_count": null,
   "id": "f366ea98-e233-4dbf-bf12-eb00efd839a3",
   "metadata": {
    "jupyter": {
     "source_hidden": true
    },
    "tags": []
   },
   "outputs": [],
   "source": [
    "orimeans = np.zeros((2,5,4))"
   ]
  },
  {
   "cell_type": "code",
   "execution_count": null,
   "id": "31dab6aa-60bf-44e9-98d5-2ac0e05b0244",
   "metadata": {
    "tags": []
   },
   "outputs": [],
   "source": [
    "trueorimeans = Orientation(orimeans, symmetry=symmetry.Oh)"
   ]
  },
  {
   "cell_type": "code",
   "execution_count": null,
   "id": "01ea384e-b04e-47b8-b470-2725a23ee255",
   "metadata": {},
   "outputs": [],
   "source": [
    "orimeans[0,0] = cluster_means[0].data\n",
    "orimeans[1,0] = cluster_means[1].data"
   ]
  },
  {
   "cell_type": "code",
   "execution_count": null,
   "id": "626bbf13-497d-4158-912b-995cc0517683",
   "metadata": {},
   "outputs": [],
   "source": [
    "orimeans[0,1] = cluster_means[0].data\n",
    "orimeans[1,1] = cluster_means[1].data"
   ]
  },
  {
   "cell_type": "code",
   "execution_count": null,
   "id": "631ae40e-ce4f-4317-8359-6619d8c04829",
   "metadata": {},
   "outputs": [],
   "source": [
    "orimeans[0,2] = cluster_means[1].data\n",
    "orimeans[1,2] = cluster_means[2].data"
   ]
  },
  {
   "cell_type": "code",
   "execution_count": null,
   "id": "29e0c3ba-5aeb-4f10-a850-d48ee5c0dce1",
   "metadata": {},
   "outputs": [],
   "source": [
    "orimeans[0,3] = cluster_means[0].data\n",
    "orimeans[1,3] = cluster_means[1].data"
   ]
  },
  {
   "cell_type": "code",
   "execution_count": null,
   "id": "8e5f44a2-aa4c-4edf-9012-cfae8950068b",
   "metadata": {},
   "outputs": [],
   "source": [
    "orimeans[0,4] = cluster_means[0].data\n",
    "orimeans[1,4] = cluster_means[1].data"
   ]
  },
  {
   "cell_type": "code",
   "execution_count": null,
   "id": "7de94792-37b8-423e-a9ab-1999d81cef28",
   "metadata": {},
   "outputs": [],
   "source": [
    "import pickle\n",
    "filename = \"trueclusteredmeans.pickle\"\n",
    "pickling_on = open(\"trueclusteredmeans.pickle\",\"wb\")\n",
    "pickle.dump(trueorimeans, pickling_on)\n",
    "pickling_on.close()"
   ]
  },
  {
   "cell_type": "code",
   "execution_count": null,
   "id": "fac21933-2b88-460b-8987-d815e631c962",
   "metadata": {},
   "outputs": [],
   "source": [
    "import pickle\n",
    "pickle_off = open(\"trueclusteredmeans.pickle\", 'rb')\n",
    "trueorimeans = pickle.load(pickle_off)"
   ]
  },
  {
   "cell_type": "code",
   "execution_count": null,
   "id": "a7918efe-c48a-4e6d-aa42-77a50d41d80d",
   "metadata": {},
   "outputs": [],
   "source": [
    "cindex = np.linspace(1, 2, 5)\n",
    "trueorimeans[0,:].scatter(projection= 'ipf', c = ('b','g','g','y','r'), s = 50 )\n",
    "trueorimeans[1,:].scatter(projection= 'ipf', c = ('b','g','g','y','r'), s = 50 )"
   ]
  },
  {
   "cell_type": "code",
   "execution_count": null,
   "id": "fe965f93-0104-42d8-8c8a-3db785e018d9",
   "metadata": {},
   "outputs": [],
   "source": [
    "for i in range(5):\n",
    "    print(np.rad2deg((trueorimeans[0,i] - trueorimeans[1,i]).angle.data))"
   ]
  },
  {
   "cell_type": "code",
   "execution_count": null,
   "id": "ce60a4b2-c969-4a24-8dd2-d625fbfa4696",
   "metadata": {},
   "outputs": [],
   "source": [
    "for i in range(4):\n",
    "    print(np.rad2deg((trueorimeans[0,i] - trueorimeans[0,i+1]).angle.data))"
   ]
  },
  {
   "cell_type": "code",
   "execution_count": null,
   "id": "e0af1ee9-3ca5-4d26-884d-d44d32173769",
   "metadata": {},
   "outputs": [],
   "source": [
    "for i in range(4):\n",
    "    print(np.rad2deg((trueorimeans[1,i] - trueorimeans[1,i+1]).angle.data))"
   ]
  },
  {
   "cell_type": "code",
   "execution_count": null,
   "id": "63c15486-57c7-46e2-a3dd-3ea8cfbede92",
   "metadata": {},
   "outputs": [],
   "source": [
    "ori_recentered = (~cluster_means[0]) * ori\n",
    "\n",
    "# Map into the fundamental zone\n",
    "ori_recentered.symmetry = symmetry.Oh\n",
    "# ori_recentered = ori_recentered.map_into_symmetry_reduced_zone()\n",
    "\n",
    "cluster_means_recentered = Orientation.stack(\n",
    "    [ori_recentered[all_labels == l].mean() for l in unique_cluster_labels]\n",
    ").flatten()\n",
    "cluster_means_recentered"
   ]
  },
  {
   "cell_type": "code",
   "execution_count": null,
   "id": "71d71a79-878b-4860-81e7-4b4f7e82b2c3",
   "metadata": {},
   "outputs": [],
   "source": [
    "cluster_means_recentered_axangle = AxAngle.from_rotation(cluster_means_recentered)\n",
    "cluster_means_recentered_axangle.axis"
   ]
  },
  {
   "cell_type": "code",
   "execution_count": null,
   "id": "f2447d97-1b6e-40d9-9e2e-d385037c4b20",
   "metadata": {},
   "outputs": [],
   "source": [
    "colors = [to_rgb(f\"C{i}\") for i in range(cluster_means_recentered_axangle.size)]\n",
    "labels_rgb = label2rgb(all_labels, colors=colors, bg_label=-1)\n",
    "\n",
    "lines = [((0, 0, 0), tuple(cm)) for cm in cluster_means_recentered_axangle.data]"
   ]
  },
  {
   "cell_type": "code",
   "execution_count": null,
   "id": "48571d14-cad4-45a9-9e21-774bb52c35e0",
   "metadata": {},
   "outputs": [],
   "source": [
    "cluster_sizes_scaled = 5000 * cluster_sizes / cluster_sizes.max()\n",
    "fig, ax = plt.subplots(figsize=(5, 5), subplot_kw=dict(projection=\"ipf\", symmetry=symmetry.Oh))\n",
    "ax.scatter(\n",
    "    cluster_means.axis, c=colors, s=cluster_sizes_scaled, alpha=0.5, ec=\"k\"\n",
    ")"
   ]
  },
  {
   "cell_type": "code",
   "execution_count": null,
   "id": "02d2e12a-8af7-405d-99f5-e6f27daa34f9",
   "metadata": {},
   "outputs": [],
   "source": [
    "from mpl_toolkits.mplot3d.art3d import Line3DCollection\n",
    "from matplotlib.lines import Line2D\n",
    "wireframe_kwargs = dict(color=\"black\", linewidth=0.5, alpha=0.1, rcount=181, ccount=361)\n",
    "fig = ori_recentered.scatter(\n",
    "    projection=\"axangle\",\n",
    "    wireframe_kwargs=wireframe_kwargs,\n",
    "    c=labels_rgb.reshape(-1, 3),\n",
    "    s=1,\n",
    "    return_figure=True\n",
    ")\n",
    "ax = fig.axes[0]\n",
    "ax.view_init(elev=90, azim=-30)\n",
    "ax.add_collection3d(Line3DCollection(lines, colors=colors))\n",
    "\n",
    "handle_kwds = dict(marker=\"o\", color=\"none\", markersize=10)\n",
    "handles = []\n",
    "for i in range(n_clusters):\n",
    "    line = Line2D([0], [0], label=i + 1, markerfacecolor=colors[i], **handle_kwds)\n",
    "    handles.append(line)\n",
    "ax.legend(\n",
    "    handles=handles,\n",
    "    loc=\"lower right\",\n",
    "    ncol=2,\n",
    "    numpoints=1,\n",
    "    labelspacing=0.15,\n",
    "    columnspacing=0.15,\n",
    "    handletextpad=0.05\n",
    ");"
   ]
  },
  {
   "cell_type": "code",
   "execution_count": null,
   "id": "192a8293-34fe-4488-b0cc-222ef9ff4555",
   "metadata": {},
   "outputs": [],
   "source": [
    "fig3 = plt.figure()\n",
    "ax3 = fig3.add_subplot()\n",
    "ax3.imshow(labels_rgb)\n",
    "ax3.axis(\"off\");"
   ]
  },
  {
   "cell_type": "code",
   "execution_count": null,
   "id": "11ab71c0-cc7b-454d-b084-aed4a965236b",
   "metadata": {},
   "outputs": [],
   "source": [
    "labels_rgb = labels_rgb.reshape((15,256,3))"
   ]
  },
  {
   "cell_type": "code",
   "execution_count": null,
   "id": "871a2ee9-f986-429f-9467-1ba0951ea525",
   "metadata": {},
   "outputs": [],
   "source": [
    "labels_rgb.shape"
   ]
  }
 ],
 "metadata": {
  "kernelspec": {
   "display_name": "pyxem0.14dev",
   "language": "python",
   "name": "pyxem0.14dev"
  },
  "language_info": {
   "codemirror_mode": {
    "name": "ipython",
    "version": 3
   },
   "file_extension": ".py",
   "mimetype": "text/x-python",
   "name": "python",
   "nbconvert_exporter": "python",
   "pygments_lexer": "ipython3",
   "version": "3.9.7"
  }
 },
 "nbformat": 4,
 "nbformat_minor": 5
}
