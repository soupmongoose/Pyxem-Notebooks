{
 "cells": [
  {
   "cell_type": "code",
   "execution_count": null,
   "id": "793b3cdb-a4d3-4d33-bff8-c4aa9d8e04fc",
   "metadata": {},
   "outputs": [],
   "source": [
    "%matplotlib qt\n",
    "import numpy as np\n",
    "import matplotlib.pyplot as plt\n",
    "import hyperspy.api as hs"
   ]
  },
  {
   "cell_type": "code",
   "execution_count": null,
   "id": "5b4147e6-e12e-42e1-90ff-ce5b27afa9bf",
   "metadata": {},
   "outputs": [],
   "source": [
    "dpsi0 = hs.load(\"Data/CuTwinTilt/20220305_150329/SPED_64x64x12_50x50_scanRot340_NBD_alpha5_spot0p5nm_CL12cm_1deg_100Hz_20ms_substrate.hspy\")\n",
    "dpsi1 = hs.load(\"Data/CuTwinTilt/20220305_153533/SPED_64x64x12_50x50_scanRot340_NBD_alpha5_spot0p5nm_CL12cm_1deg_100Hz_20ms.hspy\")\n",
    "dpsi2 = hs.load(\"Data/CuTwinTilt/20220305_155526/SPED_64x64x12_50x50_scanRot340_NBD_alpha5_spot0p5nm_CL12cm_1deg_100Hz_20ms.hspy\")\n",
    "dpsi3 = hs.load(\"Data/CuTwinTilt/20220305_162230/SPED_64x64x12_50x50_scanRot340_NBD_alpha5_spot0p5nm_CL12cm_1deg_100Hz_20ms.hspy\")\n",
    "dpsi4 = hs.load(\"Data/CuTwinTilt/20220305_164519/SPED_64x64x12_50x50_scanRot340_NBD_alpha5_spot0p5nm_CL12cm_1deg_100Hz_20ms.hspy\")"
   ]
  },
  {
   "cell_type": "code",
   "execution_count": null,
   "id": "c9782bbc-3760-46fb-b188-e2eb914a1c82",
   "metadata": {},
   "outputs": [],
   "source": [
    "dpsi0 = dpsi0.inav[20:64,40:64]\n",
    "dpsi1 = dpsi1.inav[20:64,40:64]\n",
    "dpsi2 = dpsi2.inav[20:64,40:64]\n",
    "dpsi3 = dpsi3.inav[20:64,40:64]\n",
    "dpsi4 = dpsi4.inav[20:64,40:64]"
   ]
  },
  {
   "cell_type": "code",
   "execution_count": null,
   "id": "48638088-23e6-4714-8d7f-8aeb7c90bfa1",
   "metadata": {},
   "outputs": [],
   "source": [
    "sdpsi0 = dpsi0.mean(axis = (0,1))\n",
    "sdpsi1 = dpsi1.mean(axis = (0,1))\n",
    "sdpsi2 = dpsi2.mean(axis = (0,1))\n",
    "sdpsi3 = dpsi3.mean(axis = (0,1))\n",
    "sdpsi4 = dpsi4.mean(axis = (0,1))"
   ]
  },
  {
   "cell_type": "code",
   "execution_count": null,
   "id": "1a4e9802-94e7-44e1-803d-36d2ed4cc8c1",
   "metadata": {},
   "outputs": [],
   "source": [
    "from skimage import filters\n",
    "\n",
    "def crop_minimum(image, minimum=3):\n",
    "    copied = image.copy()\n",
    "    copied[copied <= minimum] = 0.\n",
    "    return copied"
   ]
  },
  {
   "cell_type": "code",
   "execution_count": null,
   "id": "b2f4d35e-d3c3-4ee7-a4e4-b4bd3f2718a6",
   "metadata": {},
   "outputs": [],
   "source": [
    "procdat = sdpsi0.subtract_diffraction_background(method=\"difference of gaussians\",\n",
    "                                                            min_sigma=4,\n",
    "                                                            max_sigma=12, \n",
    "                                                            lazy_result=False)\n",
    "procdat = procdat.map(filters.gaussian, sigma=1, inplace=False)\n",
    "procdat = procdat.map(crop_minimum, minimum = 1.3, inplace=False)"
   ]
  },
  {
   "cell_type": "code",
   "execution_count": null,
   "id": "1213b8f8-6719-485b-8f55-e38e8426d5ae",
   "metadata": {},
   "outputs": [],
   "source": [
    "procdat.plot(vmax = 30)"
   ]
  },
  {
   "cell_type": "code",
   "execution_count": null,
   "id": "bb5b58c4-5c50-4fda-8cd6-d340ea3cf18b",
   "metadata": {},
   "outputs": [],
   "source": [
    "alldpsi = hs.signals.Signal2D((sdpsi0.data,\n",
    "                               sdpsi1.data,\n",
    "                               sdpsi2.data,\n",
    "                               sdpsi3.data,\n",
    "                               sdpsi4.data,\n",
    "                              ))"
   ]
  },
  {
   "cell_type": "code",
   "execution_count": null,
   "id": "ad8cc6fa-bae5-464f-a96c-f30df64bf2d8",
   "metadata": {},
   "outputs": [],
   "source": [
    "alldpsi.plot(vmax = 50)"
   ]
  },
  {
   "cell_type": "code",
   "execution_count": null,
   "id": "be3bd81f-a539-4292-a0e2-a33836f49df8",
   "metadata": {},
   "outputs": [],
   "source": [
    "alldpsi.set_signal_type('electron_diffraction')"
   ]
  },
  {
   "cell_type": "code",
   "execution_count": null,
   "id": "1b9e93c9-5f03-4c7f-9a37-86521eab0ff3",
   "metadata": {},
   "outputs": [],
   "source": [
    "procdat = alldpsi.subtract_diffraction_background(method=\"difference of gaussians\",\n",
    "                                                            min_sigma=6,\n",
    "                                                            max_sigma=7, \n",
    "                                                            lazy_result=False)\n",
    "procdat = procdat.map(filters.gaussian, sigma=1, inplace=False)\n",
    "procdat = procdat.map(crop_minimum, minimum = 1.3, inplace=False)"
   ]
  },
  {
   "cell_type": "code",
   "execution_count": null,
   "id": "6d2d7529-7a6b-41a5-ab11-53c830836a75",
   "metadata": {},
   "outputs": [],
   "source": [
    "procdat.plot(vmax = 30)"
   ]
  },
  {
   "cell_type": "code",
   "execution_count": null,
   "id": "30d2221a-f01a-4c66-9392-0786dde175ed",
   "metadata": {},
   "outputs": [],
   "source": [
    "alldpsi = procdat"
   ]
  },
  {
   "cell_type": "code",
   "execution_count": null,
   "id": "08f98157-ab9e-4194-893b-ee0443b57cdb",
   "metadata": {},
   "outputs": [],
   "source": [
    "alldpsi.set_signal_type('electron_diffraction')"
   ]
  },
  {
   "cell_type": "code",
   "execution_count": null,
   "id": "2fb8c026-6094-437c-92f8-343fc6ff10e9",
   "metadata": {},
   "outputs": [],
   "source": [
    "%%capture burn\n",
    "import diffpy\n",
    "from diffsims.generators.rotation_list_generators import get_beam_directions_grid\n",
    "from diffsims.generators.diffraction_generator import DiffractionGenerator\n",
    "from diffsims.libraries.structure_library import StructureLibrary\n",
    "from diffsims.generators.library_generator import DiffractionLibraryGenerator\n",
    "from pyxem.utils.calibration_utils import find_diffraction_calibration\n",
    "\n",
    "def template_log_func(x):\n",
    "    return np.log10(x + 0.01)\n",
    "\n",
    "resolution = 1 \n",
    "grid = get_beam_directions_grid(\"cubic\", resolution, mesh=\"spherified_cube_edge\")\n",
    "structure_matrix = diffpy.structure.loadStructure(\"Data/Si_mp-149_conventional_standard.cif\")\n",
    "\n",
    "diff_gen = DiffractionGenerator(accelerating_voltage=200,\n",
    "                                precession_angle=1,\n",
    "                                scattering_params=None,\n",
    "                                shape_factor_model=\"linear\",\n",
    "                                minimum_intensity=0.1,\n",
    "                                )\n",
    "\n",
    "lib_gen = DiffractionLibraryGenerator(diff_gen)\n",
    "library_phases = StructureLibrary([\"phase\"], [structure_matrix], [grid])\n",
    "\n",
    "found_cal, corrline, found_cals = find_diffraction_calibration(alldpsi,0.0095,library_phases,lib_gen,20,\n",
    "                                                               max_excitation_error= 0.08,\n",
    "                                                               intensity_transform_function=template_log_func,\n",
    "                                                               normalize_images = True,\n",
    "                                                               delta_r = 0.5,\n",
    "                                                               max_r = np.sqrt(128**2+128**2) * 0.90\n",
    "                                                              )"
   ]
  },
  {
   "cell_type": "code",
   "execution_count": null,
   "id": "ac2e7670-a86c-4127-b22b-c8a300a4dc38",
   "metadata": {},
   "outputs": [],
   "source": [
    "found_cal"
   ]
  },
  {
   "cell_type": "code",
   "execution_count": null,
   "id": "4879aecc-fa8c-4167-8c26-2ea3ff953fcd",
   "metadata": {},
   "outputs": [],
   "source": [
    "from diffsims.generators.rotation_list_generators import get_beam_directions_grid\n",
    "resolution = 0.5 \n",
    "grid_cub = get_beam_directions_grid(\"cubic\", resolution, mesh=\"spherified_cube_edge\")\n",
    "print(\"Number of patterns: \", grid_cub.shape[0])"
   ]
  },
  {
   "cell_type": "code",
   "execution_count": null,
   "id": "2f9c4c4b-2b67-4537-b118-e6c2aa498ecd",
   "metadata": {},
   "outputs": [],
   "source": [
    "import diffpy\n",
    "from diffsims.libraries.structure_library import StructureLibrary\n",
    "from diffsims.generators.diffraction_generator import DiffractionGenerator\n",
    "from diffsims.generators.library_generator import DiffractionLibraryGenerator"
   ]
  },
  {
   "cell_type": "code",
   "execution_count": null,
   "id": "2313be9d-4270-474d-90ff-cbfa99148826",
   "metadata": {},
   "outputs": [],
   "source": [
    "diffraction_calibration = 0.009381971999999999\n",
    "half_shape = (alldpsi.data.shape[-2]//2, alldpsi.data.shape[-1]//2)\n",
    "reciprocal_radius = np.sqrt(half_shape[0]**2 + half_shape[1]**2)*diffraction_calibration"
   ]
  },
  {
   "cell_type": "code",
   "execution_count": null,
   "id": "59f2cf99-d411-45d6-b9ab-d90e4eeb382d",
   "metadata": {},
   "outputs": [],
   "source": [
    "structure_matrix = diffpy.structure.loadStructure(\"Data/Si_mp-149_conventional_standard.cif\")\n",
    "# structure_matrix = diffpy.structure.loadStructure(\"Data/Si_sudofcc.cif\")\n",
    "\n",
    "diff_gen = DiffractionGenerator(accelerating_voltage=200,\n",
    "                                precession_angle=1,\n",
    "                                scattering_params=None,\n",
    "                                shape_factor_model=\"linear\",\n",
    "                                minimum_intensity=0.1,\n",
    "                                )\n",
    "\n",
    "lib_gen = DiffractionLibraryGenerator(diff_gen)\n",
    "\n",
    "library_phases = StructureLibrary([\"Si\"], [structure_matrix], [grid_cub])\n",
    "\n",
    "diff_lib = lib_gen.get_diffraction_library(library_phases,\n",
    "                                           calibration=diffraction_calibration,\n",
    "                                           reciprocal_radius=reciprocal_radius,\n",
    "                                           half_shape=half_shape,\n",
    "                                           with_direct_beam=False,\n",
    "                                           max_excitation_error=0.06)"
   ]
  },
  {
   "cell_type": "code",
   "execution_count": null,
   "id": "2185d67a-30ec-47d4-bbb1-73c8aefc023a",
   "metadata": {},
   "outputs": [],
   "source": [
    "from pyxem.utils import indexation_utils as iutls\n",
    "from pyxem.utils import plotting_utils as putls\n",
    "from pyxem.utils import polar_transform_utils as ptutls\n",
    "from pyxem.utils import expt_utils as eutls"
   ]
  },
  {
   "cell_type": "code",
   "execution_count": null,
   "id": "61053270-6730-4ab2-98d8-81b3d84852f2",
   "metadata": {},
   "outputs": [],
   "source": [
    "def template_log_func(x):\n",
    "    return np.log10(x + 0.01)"
   ]
  },
  {
   "cell_type": "code",
   "execution_count": null,
   "id": "283bf1e7-f585-451e-a6e1-95e874331db0",
   "metadata": {},
   "outputs": [],
   "source": [
    "frac_keep = 1\n",
    "n_best = 30\n",
    "n_keep = None\n",
    "\n",
    "delta_r = 0.5\n",
    "delta_theta = 0.5\n",
    "max_r = None\n",
    "intensity_transform_function = template_log_func\n",
    "direct_beam_position = None\n",
    "normalize_image = True\n",
    "normalize_templates = True\n",
    "\n",
    "result, phasedict = iutls.index_dataset_with_template_rotation(alldpsi,\n",
    "                                                    diff_lib,\n",
    "                                                    phases = [\"Si\"],\n",
    "                                                    n_best = n_best,\n",
    "                                                    frac_keep = frac_keep,\n",
    "                                                    n_keep = n_keep,\n",
    "                                                    delta_r = delta_r,\n",
    "                                                    delta_theta = delta_theta,\n",
    "                                                    max_r = None,\n",
    "                                                    intensity_transform_function=intensity_transform_function,\n",
    "                                                    normalize_images = normalize_image,\n",
    "                                                    normalize_templates=normalize_templates,\n",
    "                                                    target='gpu'\n",
    "                                                    )"
   ]
  },
  {
   "cell_type": "code",
   "execution_count": null,
   "id": "a332600c-44c4-4c2d-b734-978d795e10f9",
   "metadata": {},
   "outputs": [],
   "source": [
    "from orix import plot\n",
    "from orix.crystal_map import CrystalMap, Phase, PhaseList\n",
    "from orix.io import load, save\n",
    "from orix.quaternion import Orientation, Rotation, symmetry\n",
    "from orix.vector import Vector3d, Miller"
   ]
  },
  {
   "cell_type": "code",
   "execution_count": null,
   "id": "c594adbe-6f2f-4dd1-9e82-f279c5738a95",
   "metadata": {},
   "outputs": [],
   "source": [
    "from pyxem.signals.indexation_results import results_dict_to_crystal_map"
   ]
  },
  {
   "cell_type": "code",
   "execution_count": null,
   "id": "6d012b80-e2d1-4330-a1de-86bedbf3ee26",
   "metadata": {},
   "outputs": [],
   "source": [
    "xmap = results_dict_to_crystal_map(result,phasedict)"
   ]
  },
  {
   "cell_type": "code",
   "execution_count": null,
   "id": "1b979f20-0d92-40f1-bdc0-1fab89b6fd1b",
   "metadata": {},
   "outputs": [],
   "source": [
    "rori = xmap.orientations.map_into_symmetry_reduced_zone()"
   ]
  },
  {
   "cell_type": "code",
   "execution_count": null,
   "id": "50a67a54-bc4c-4a7d-b8a7-319415327f41",
   "metadata": {},
   "outputs": [],
   "source": [
    "xmap.phases[0].space_group = 227"
   ]
  },
  {
   "cell_type": "code",
   "execution_count": null,
   "id": "458ef958-dd9a-4ae3-9f92-ec588f5e98ac",
   "metadata": {},
   "outputs": [],
   "source": [
    "ckey_m3m = plot.IPFColorKeyTSL(xmap.phases[\"Si\"].point_group, direction=Vector3d.zvector())\n",
    "rgb_fe = ckey_m3m.orientation2color(xmap[\"Si\"].orientations)"
   ]
  },
  {
   "cell_type": "code",
   "execution_count": null,
   "id": "23579c69-bc41-4b3f-93d9-dd3f6a0d5ba3",
   "metadata": {},
   "outputs": [],
   "source": [
    "save(\n",
    "    filename=\"Data/CuTwinTiltSixmapBGRED.h5\",\n",
    "    object2write=xmap,\n",
    "    overwrite=False,  # Default is False\n",
    ")"
   ]
  },
  {
   "cell_type": "code",
   "execution_count": null,
   "id": "c051e7c5-b706-47b4-a016-4ce6082961d7",
   "metadata": {},
   "outputs": [],
   "source": [
    "n= np.linspace(0,4,num = 5)\n",
    "n"
   ]
  },
  {
   "cell_type": "code",
   "execution_count": null,
   "id": "509da96e-7338-4b7f-8157-4dcdc44e9ce2",
   "metadata": {},
   "outputs": [],
   "source": [
    "xmap = load(\"Data/CuTwinTiltSixmapBGRED.h5\") "
   ]
  },
  {
   "cell_type": "code",
   "execution_count": null,
   "id": "b5c6206c-8bf8-4420-a18e-50653187b390",
   "metadata": {},
   "outputs": [],
   "source": [
    "Miller((1,1,1))"
   ]
  },
  {
   "cell_type": "code",
   "execution_count": null,
   "id": "cba0a2b8-2737-41c9-af19-a8fff5390353",
   "metadata": {},
   "outputs": [],
   "source": [
    "xmap.orientations.scatter(projection= 'ipf', direction = Vector3d((0,0,1)),c = n, cmap = 'viridis')"
   ]
  },
  {
   "cell_type": "code",
   "execution_count": null,
   "id": "76c9b75f-516e-4c08-a82a-e897b4268de9",
   "metadata": {},
   "outputs": [],
   "source": [
    "xmap.orientations.scatter(projection= 'ipf', direction = Vector3d(((1, 0, 0),(0,1,0),(0,0,1))),c = n, cmap = 'viridis')"
   ]
  },
  {
   "cell_type": "code",
   "execution_count": null,
   "id": "411037ae-3e3d-4aae-adca-6e2208be5177",
   "metadata": {},
   "outputs": [],
   "source": [
    "m111 = (Miller((1,1,1),  phase=Phase(point_group=\"m-3m\")).symmetrise(unique = True))"
   ]
  },
  {
   "cell_type": "code",
   "execution_count": null,
   "id": "06a0024e-b896-4734-b3ed-2e6de2cb6182",
   "metadata": {},
   "outputs": [],
   "source": [
    "rori"
   ]
  },
  {
   "cell_type": "code",
   "execution_count": null,
   "id": "e78896b6-cf89-4de9-8522-0b9eb642b76f",
   "metadata": {},
   "outputs": [],
   "source": [
    "things = ((rori.conj).outer(Miller((1,0,1))))"
   ]
  },
  {
   "cell_type": "code",
   "execution_count": null,
   "id": "80fe49a4-1a30-4b69-a9e6-11692b93d9c2",
   "metadata": {},
   "outputs": [],
   "source": [
    "things = ((rori.conj).outer(m111))"
   ]
  },
  {
   "cell_type": "code",
   "execution_count": null,
   "id": "bd915f8d-f998-4e90-a460-00684b94ebe8",
   "metadata": {},
   "outputs": [],
   "source": [
    "things.scatter(hemisphere='upper', grid = True, grid_resolution= (5,5), c = n)"
   ]
  },
  {
   "cell_type": "code",
   "execution_count": null,
   "id": "2bb29ce1-3105-43f9-a40f-42d84c15e531",
   "metadata": {},
   "outputs": [],
   "source": [
    "Orientation(xmap.rotations[0:3,0:10], symmetry=symmetry.Oh).scatter(projection= 'ipf', direction = Vector3d(((1, 0, 0),(0,1,0),(0,0,1))),c = n, cmap = 'viridis')"
   ]
  },
  {
   "cell_type": "code",
   "execution_count": null,
   "id": "4619c81b-8798-4556-9bd9-3d25b069f0a6",
   "metadata": {},
   "outputs": [],
   "source": [
    "xmap.orientations.scatter(projection= 'axangle', cmap = 'viridis', c = n)"
   ]
  },
  {
   "cell_type": "code",
   "execution_count": null,
   "id": "146188b6-18c1-4931-befa-923b38375a1a",
   "metadata": {
    "tags": []
   },
   "outputs": [],
   "source": [
    "Orientation(xmap.rotations[0:3,0:10], symmetry=symmetry.Oh)"
   ]
  },
  {
   "cell_type": "code",
   "execution_count": null,
   "id": "4586fdd6-a1f5-4e40-896a-361298869ed5",
   "metadata": {},
   "outputs": [],
   "source": [
    "print(np.degrees((xmap.orientations[0] - xmap.orientations[1]).angle.data))\n",
    "print(np.degrees((xmap.orientations[1] - xmap.orientations[2]).angle.data))\n",
    "print(np.degrees((xmap.orientations[0] - xmap.orientations[2]).angle.data))\n",
    "print(np.degrees((xmap.orientations[0] - xmap.orientations[3]).angle.data))\n",
    "print(np.degrees((xmap.orientations[3] - xmap.orientations[4]).angle.data))\n",
    "print(np.degrees((xmap.orientations[0] - xmap.orientations[4]).angle.data))"
   ]
  },
  {
   "cell_type": "code",
   "execution_count": null,
   "id": "081ad2c5-9945-479c-9895-5272656ba867",
   "metadata": {},
   "outputs": [],
   "source": [
    "xmap.orientations[0] - xmap.orientations[2]"
   ]
  },
  {
   "cell_type": "code",
   "execution_count": null,
   "id": "54505538-7981-401c-9837-f95b91eeae8f",
   "metadata": {},
   "outputs": [],
   "source": [
    "from diffpy.structure import Atom, Lattice, Structure\n",
    "p = Phase(\n",
    "    name=\"si\",\n",
    "    space_group=227,\n",
    "    structure=Structure(\n",
    "        atoms=[Atom(\"si\", [0, 0, 0])],\n",
    "        lattice=Lattice(0.546, 0.546, 0.546, 90, 90, 90)\n",
    "    ))"
   ]
  },
  {
   "cell_type": "code",
   "execution_count": null,
   "id": "3cb1f4db-02e2-4faa-bc00-d3fbbb6eb93a",
   "metadata": {},
   "outputs": [],
   "source": [
    "w.cross(Miller((1,1,1)))"
   ]
  },
  {
   "cell_type": "code",
   "execution_count": null,
   "id": "d7368354-8422-417b-b42a-2ed6bd843287",
   "metadata": {},
   "outputs": [],
   "source": [
    "ori0 = xmap.orientations[0]\n",
    "ori2 = xmap.orientations[2]\n",
    "w = ori0.outer(ori2).axis"
   ]
  },
  {
   "cell_type": "code",
   "execution_count": null,
   "id": "c1821c75-28e1-4ccf-9c87-e267d1da188b",
   "metadata": {},
   "outputs": [],
   "source": [
    "tiltx = (xmap.orientations[0] - xmap.orientations[2]).axis\n",
    "tilty = (xmap.orientations[0] - xmap.orientations[4]).axis"
   ]
  },
  {
   "cell_type": "code",
   "execution_count": null,
   "id": "a97072f5-d5f8-4c3f-8d7d-6bb11d180350",
   "metadata": {},
   "outputs": [],
   "source": [
    "# v6 = Vector3d.from_polar(azimuth=np.deg2rad([0, 60]), polar=np.deg2rad([75, 60]))\n",
    "v6 = w\n",
    "colors1 = [\"c\", \"m\"]\n",
    "colors2 = [\"C0\", \"C1\",\"C2\",\"C3\",\"C4\"]\n",
    "fig6 = things.scatter(\n",
    "    axes_labels=[\"RD\", \"TD\", None],\n",
    "    hemisphere=\"upper\",\n",
    "    c=colors2,\n",
    "    s=100,\n",
    "    grid = True, \n",
    "    grid_resolution= (5,5),\n",
    "    show_hemisphere_label=True,\n",
    "    return_figure=True\n",
    ")\n",
    "v6.draw_circle(color=colors1, linewidth=2, figure=fig6)\n",
    "v6.scatter(c = colors1, figure = fig6)"
   ]
  },
  {
   "cell_type": "code",
   "execution_count": null,
   "id": "a24006c1-367b-47af-8ac2-16be00c9d726",
   "metadata": {},
   "outputs": [],
   "source": [
    "newbest = np.zeros((result['orientation'].shape[0],result['orientation'].shape[1]),np.int16)\n",
    "\n",
    "for k in range(20):\n",
    "    newresult= np.zeros((1,5,3))\n",
    "    for i in range(result['orientation'].shape[0]):\n",
    "        for j in range(result['orientation'].shape[1]):\n",
    "            newresult[i,j] = result['orientation'][i,j,newbest[i,j],:]\n",
    "\n",
    "    misoris = np.zeros((result['orientation'].shape[0],result['orientation'].shape[1]-1))\n",
    "\n",
    "    oris = Orientation.from_euler(np.radians(newresult[:,:,:]),symmetry=symmetry.Oh)\n",
    "    mis = (oris[:,0] - oris[:,1])\n",
    "    misoris[:,0] = np.degrees((mis).angle.data)\n",
    "    mis = (oris[:,1] - oris[:,2])\n",
    "    misoris[:,1] = np.degrees((mis).angle.data)\n",
    "    mis = (oris[:,0] - oris[:,3])\n",
    "    misoris[:,2] = np.degrees((mis).angle.data)\n",
    "    mis = (oris[:,3] - oris[:,4])\n",
    "    misoris[:,3] = np.degrees((mis).angle.data)\n",
    "    \n",
    "    misoris[:,3]"
   ]
  },
  {
   "cell_type": "code",
   "execution_count": null,
   "id": "8d966a55-a6bf-4f27-9434-1b0e1dac4893",
   "metadata": {},
   "outputs": [],
   "source": [
    "Orientation.from_euler(np.radians(newresult[:,:,:]),symmetry=symmetry.Oh)[:]"
   ]
  },
  {
   "cell_type": "code",
   "execution_count": null,
   "id": "3f1baa0d-058c-4762-a0a6-3ab69d48de7d",
   "metadata": {},
   "outputs": [],
   "source": [
    "misoris[:,3]"
   ]
  },
  {
   "cell_type": "code",
   "execution_count": null,
   "id": "aac468cd-f4d9-4ecc-9224-68907a9c05a8",
   "metadata": {},
   "outputs": [],
   "source": [
    "np.where(np.abs(misoris[:,:]-5) > 1)[1]"
   ]
  },
  {
   "cell_type": "code",
   "execution_count": null,
   "id": "60187d7f-e299-405d-b6ae-b3c8ceab46fe",
   "metadata": {},
   "outputs": [],
   "source": [
    "np.abs(misoris[:,:]-5)"
   ]
  },
  {
   "cell_type": "code",
   "execution_count": null,
   "id": "43c6c997-aac2-4bdf-862c-3a6e9e525e7b",
   "metadata": {},
   "outputs": [],
   "source": [
    "oris = Orientation.from_euler(np.radians(result['orientation'][:,:,:,:]),symmetry=symmetry.Oh)"
   ]
  },
  {
   "cell_type": "code",
   "execution_count": null,
   "id": "e65185a9-ff1d-4e1b-a073-063b7da9fef3",
   "metadata": {
    "tags": []
   },
   "outputs": [],
   "source": [
    "oris"
   ]
  },
  {
   "cell_type": "code",
   "execution_count": null,
   "id": "874babce-a18c-4915-b7a5-8082fee86fb6",
   "metadata": {},
   "outputs": [],
   "source": []
  }
 ],
 "metadata": {
  "kernelspec": {
   "display_name": "pyxem0.14dev",
   "language": "python",
   "name": "pyxem0.14dev"
  },
  "language_info": {
   "codemirror_mode": {
    "name": "ipython",
    "version": 3
   },
   "file_extension": ".py",
   "mimetype": "text/x-python",
   "name": "python",
   "nbconvert_exporter": "python",
   "pygments_lexer": "ipython3",
   "version": "3.9.7"
  }
 },
 "nbformat": 4,
 "nbformat_minor": 5
}
