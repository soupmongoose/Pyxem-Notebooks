{
 "cells": [
  {
   "cell_type": "code",
   "execution_count": 4,
   "id": "universal-confusion",
   "metadata": {},
   "outputs": [],
   "source": [
    "%matplotlib qt\n",
    "\n",
    "import numpy as np\n",
    "import hyperspy.api as hs\n",
    "import matplotlib.pyplot as plt"
   ]
  },
  {
   "cell_type": "code",
   "execution_count": 5,
   "id": "cultural-square",
   "metadata": {},
   "outputs": [],
   "source": [
    "experimental_data = hs.load(\"SPEDB_bgred.hspy\")"
   ]
  },
  {
   "cell_type": "code",
   "execution_count": 6,
   "id": "complete-adapter",
   "metadata": {},
   "outputs": [],
   "source": [
    "experimental_data.plot(vmax=50)"
   ]
  },
  {
   "cell_type": "code",
   "execution_count": 243,
   "id": "respective-orleans",
   "metadata": {},
   "outputs": [],
   "source": [
    "test_patterns = experimental_data.inav[13,65]"
   ]
  },
  {
   "cell_type": "code",
   "execution_count": 9,
   "id": "defensive-simulation",
   "metadata": {},
   "outputs": [],
   "source": [
    "test_patterns = hs.signals.Signal2D((experimental_data.inav[13,65].data,\n",
    "                                     experimental_data.inav[29,65].data,\n",
    "#                                      experimental_data.inav[13,81].data,\n",
    "                                     experimental_data.inav[29,103].data,\n",
    "                                     experimental_data.inav[88,88].data,\n",
    "                                     experimental_data.inav[95,41].data,\n",
    "                                     experimental_data.inav[67,121].data,\n",
    "                                     experimental_data.inav[67,121].data,\n",
    "                                     experimental_data.inav[64,33].data,\n",
    "                                     experimental_data.inav[3,116].data,))"
   ]
  },
  {
   "cell_type": "code",
   "execution_count": 10,
   "id": "presidential-leeds",
   "metadata": {},
   "outputs": [],
   "source": [
    "test_patterns.set_signal_type('electron_diffraction')"
   ]
  },
  {
   "cell_type": "code",
   "execution_count": 11,
   "id": "european-solution",
   "metadata": {},
   "outputs": [],
   "source": [
    "experimental_data.set_signal_type('electron_diffraction')\n",
    "diffraction_calibration = 0.0096   #guess\n",
    "experimental_data.set_diffraction_calibration(diffraction_calibration)"
   ]
  },
  {
   "cell_type": "code",
   "execution_count": 13,
   "id": "convinced-backup",
   "metadata": {},
   "outputs": [],
   "source": [
    "from diffsims.generators.rotation_list_generators import get_beam_directions_grid\n",
    "resolution = 1 \n",
    "grid = get_beam_directions_grid(\"cubic\", resolution, mesh=\"spherified_cube_edge\")"
   ]
  },
  {
   "cell_type": "code",
   "execution_count": 14,
   "id": "neural-april",
   "metadata": {},
   "outputs": [],
   "source": [
    "import diffpy\n",
    "from diffsims.libraries.structure_library import StructureLibrary\n",
    "from diffsims.generators.diffraction_generator import DiffractionGenerator\n",
    "from diffsims.generators.library_generator import DiffractionLibraryGenerator\n",
    "from pyxem.utils import indexation_utils as iutls\n",
    "from pyxem.utils import plotting_utils as putls\n",
    "from pyxem.utils import polar_transform_utils as ptutls\n",
    "from pyxem.utils import expt_utils as eutls"
   ]
  },
  {
   "cell_type": "code",
   "execution_count": 15,
   "id": "operating-attachment",
   "metadata": {},
   "outputs": [
    {
     "data": {
      "text/plain": [
       "1.7377856254440591"
      ]
     },
     "execution_count": 15,
     "metadata": {},
     "output_type": "execute_result"
    }
   ],
   "source": [
    "# Parameters necessary for simulating a template library\n",
    "\n",
    "half_shape = (experimental_data.data.shape[-2]//2, experimental_data.data.shape[-1]//2)\n",
    "reciprocal_radius = np.sqrt(half_shape[0]**2 + half_shape[1]**2)*diffraction_calibration"
   ]
  },
  {
   "cell_type": "code",
   "execution_count": 16,
   "id": "european-usage",
   "metadata": {},
   "outputs": [
    {
     "name": "stderr",
     "output_type": "stream",
     "text": [
      "                                                    \r"
     ]
    }
   ],
   "source": [
    "structure_matrix = diffpy.structure.loadStructure(\"Data/Au_mp-81_conventional_standard.cif\")\n",
    "\n",
    "diff_gen = DiffractionGenerator(accelerating_voltage=200,\n",
    "                                precession_angle=1,\n",
    "                                scattering_params=None,\n",
    "                                shape_factor_model=\"linear\",\n",
    "                                minimum_intensity=0.1,\n",
    "                                )\n",
    "\n",
    "lib_gen = DiffractionLibraryGenerator(diff_gen)\n",
    "library_phases_au = StructureLibrary([\"au\"], [structure_matrix], [grid])\n",
    "\n",
    "diff_lib_au = lib_gen.get_diffraction_library(library_phases_au,\n",
    "                                           calibration=diffraction_calibration,\n",
    "                                           reciprocal_radius=reciprocal_radius,\n",
    "                                           half_shape=half_shape,\n",
    "                                           with_direct_beam=False,\n",
    "                                           max_excitation_error=0.08)"
   ]
  },
  {
   "cell_type": "code",
   "execution_count": 32,
   "id": "electronic-dating",
   "metadata": {},
   "outputs": [],
   "source": [
    "simulations = diff_lib_au[\"au\"][\"simulations\"]\n",
    "image = test_patterns.data[1]\n",
    "frac_keep = 1\n",
    "n_keep = None\n",
    "n_best = 1\n",
    "delta_r = 0.5\n",
    "delta_theta = 1 \n",
    "max_r = None\n",
    "intensity_transform_function = template_log_func\n",
    "find_direct_beam = True\n",
    "direct_beam_position = None\n",
    "normalize_image = True\n",
    "normalize_templates = True\n",
    "indices_n, angles_n, correlations_n, signs_n = iutls.get_n_best_matches(image,\n",
    "                                                 simulations,\n",
    "                                                 n_best,\n",
    "                                                 frac_keep,\n",
    "                                                 n_keep,\n",
    "                                                 delta_r,\n",
    "                                                 delta_theta,\n",
    "                                                 max_r,\n",
    "                                                 intensity_transform_function,\n",
    "                                                 find_direct_beam,\n",
    "                                                 direct_beam_position,\n",
    "                                                 normalize_image,\n",
    "                                                 normalize_templates,\n",
    "                                                )"
   ]
  },
  {
   "cell_type": "code",
   "execution_count": 19,
   "id": "wrapped-invalid",
   "metadata": {},
   "outputs": [],
   "source": [
    "# signs will be 1 for the upper triangle, -1 for the lower triangle\n",
    "mirrored = signs_n[0] == -1\n",
    "x = putls.plot_template_over_pattern(image,\n",
    "                                 simulations[indices_n[0]],\n",
    "                                 in_plane_angle=angles_n[0],\n",
    "                                 coordinate_system = \"cartesian\", \n",
    "                                 size_factor = 10,\n",
    "                                 vmax=30, \n",
    "                                 max_r = 200,\n",
    "                                 mirrored_template=mirrored,\n",
    "                                 find_direct_beam=True,\n",
    "                                 cmap = \"viridis\"\n",
    "                                )"
   ]
  },
  {
   "cell_type": "code",
   "execution_count": 20,
   "id": "sustained-irish",
   "metadata": {},
   "outputs": [],
   "source": [
    "def template_log_func(x):\n",
    "    return np.log10(x + 0.1)"
   ]
  },
  {
   "cell_type": "code",
   "execution_count": 21,
   "id": "fantastic-denver",
   "metadata": {},
   "outputs": [],
   "source": [
    "import diffpy\n",
    "from diffsims.libraries.structure_library import StructureLibrary\n",
    "from diffsims.generators.diffraction_generator import DiffractionGenerator\n",
    "from diffsims.generators.library_generator import DiffractionLibraryGenerator\n",
    "from pyxem.utils import indexation_utils as iutls\n",
    "from pyxem.utils import plotting_utils as putls\n",
    "from pyxem.utils import polar_transform_utils as ptutls\n",
    "from pyxem.utils import expt_utils as eutls"
   ]
  },
  {
   "cell_type": "code",
   "execution_count": 25,
   "id": "confused-article",
   "metadata": {},
   "outputs": [],
   "source": [
    "%%capture burn\n",
    "import diffpy\n",
    "from diffsims.generators.rotation_list_generators import get_beam_directions_grid\n",
    "from diffsims.generators.diffraction_generator import DiffractionGenerator\n",
    "from diffsims.libraries.structure_library import StructureLibrary\n",
    "from diffsims.generators.library_generator import DiffractionLibraryGenerator\n",
    "from pyxem.utils.calibration_utils import find_diffraction_calibration\n",
    "\n",
    "def template_log_func(x):\n",
    "    return np.log10(x + 0.1)\n",
    "\n",
    "resolution = 1 \n",
    "grid = get_beam_directions_grid(\"cubic\", resolution, mesh=\"spherified_cube_edge\")\n",
    "structure_matrix = diffpy.structure.loadStructure(\"Data/Au_mp-81_conventional_standard.cif\")\n",
    "\n",
    "diff_gen = DiffractionGenerator(accelerating_voltage=200,\n",
    "                                precession_angle=1,\n",
    "                                scattering_params=None,\n",
    "                                shape_factor_model=\"linear\",\n",
    "                                minimum_intensity=0.1,\n",
    "                                )\n",
    "\n",
    "lib_gen = DiffractionLibraryGenerator(diff_gen)\n",
    "library_phases = StructureLibrary([\"phase\"], [structure_matrix], [grid])\n",
    "\n",
    "found_cal, corrline, found_cals = find_diffraction_calibration(test_patterns,0.0096,library_phases,lib_gen,20,\n",
    "                                                               max_excitation_error= 0.08,\n",
    "                                                               intensity_transform_function=template_log_func,\n",
    "                                                               delta_r = 0.5,\n",
    "                                                               max_r = np.sqrt(128**2+128**2) * 0.90\n",
    "                                                              )"
   ]
  },
  {
   "cell_type": "code",
   "execution_count": 27,
   "id": "radical-laptop",
   "metadata": {},
   "outputs": [
    {
     "data": {
      "text/plain": [
       "0.009356032921810697"
      ]
     },
     "execution_count": 27,
     "metadata": {},
     "output_type": "execute_result"
    }
   ],
   "source": [
    "found_cal"
   ]
  },
  {
   "cell_type": "code",
   "execution_count": 28,
   "id": "dying-bradford",
   "metadata": {},
   "outputs": [],
   "source": [
    "for i in range(1):\n",
    "    x = corrline[1:,0,i]\n",
    "    y = corrline[1:,1,i]\n",
    "    fig1, ax1 = plt.subplots()\n",
    "    plt.scatter(x,y)\n",
    "    plt.show()"
   ]
  },
  {
   "cell_type": "code",
   "execution_count": 26,
   "id": "educational-rider",
   "metadata": {},
   "outputs": [
    {
     "data": {
      "text/plain": [
       "array([0.00928459, 0.00930326, 0.009408  , 0.00914133, 0.00942933,\n",
       "       0.00943393, 0.00943393, 0.00942933, 0.00934059])"
      ]
     },
     "execution_count": 26,
     "metadata": {},
     "output_type": "execute_result"
    }
   ],
   "source": [
    "found_cals"
   ]
  },
  {
   "cell_type": "code",
   "execution_count": 29,
   "id": "durable-subsection",
   "metadata": {},
   "outputs": [
    {
     "name": "stderr",
     "output_type": "stream",
     "text": [
      "                                                    \r"
     ]
    }
   ],
   "source": [
    "diff_lib_au_optimized = lib_gen.get_diffraction_library(library_phases_au,\n",
    "                                           calibration=found_cal,\n",
    "                                           reciprocal_radius=reciprocal_radius,\n",
    "                                           half_shape=half_shape,\n",
    "                                           with_direct_beam=False,\n",
    "                                           max_excitation_error=0.08)"
   ]
  },
  {
   "cell_type": "code",
   "execution_count": 33,
   "id": "typical-creature",
   "metadata": {},
   "outputs": [],
   "source": [
    "simulations_optimized = diff_lib_au_optimized[\"au\"][\"simulations\"]\n",
    "image = test_patterns.data[1]\n",
    "\n",
    "indices_n_opt, angles_n_opt, correlations_n_opt, signs_n_opt = iutls.get_n_best_matches(image,\n",
    "                                                 simulations,\n",
    "                                                 n_best,\n",
    "                                                 frac_keep,\n",
    "                                                 n_keep,\n",
    "                                                 delta_r,\n",
    "                                                 delta_theta,\n",
    "                                                 max_r,\n",
    "                                                 intensity_transform_function,\n",
    "                                                 find_direct_beam,\n",
    "                                                 direct_beam_position,\n",
    "                                                 normalize_image,\n",
    "                                                 normalize_templates,\n",
    "                                                )"
   ]
  },
  {
   "cell_type": "code",
   "execution_count": 35,
   "id": "touched-texas",
   "metadata": {},
   "outputs": [],
   "source": [
    "fig, ax = plt.subplots(ncols = 2, nrows = 1, figsize = (6, 6))\n",
    "mirrored = signs_n[0] == -1\n",
    "ax[0].set_title(\"Initial Guess Calibration\")\n",
    "ax[0] = putls.plot_template_over_pattern(image,\n",
    "                                 simulations[indices_n[0]],\n",
    "                                 ax = ax[0],\n",
    "                                 in_plane_angle=angles_n[0],\n",
    "                                 coordinate_system = \"cartesian\", \n",
    "                                 size_factor = 10,\n",
    "                                 vmax=30, \n",
    "                                 max_r = 200,\n",
    "                                 mirrored_template=mirrored,\n",
    "                                 find_direct_beam=True,\n",
    "                                 cmap = \"viridis\"\n",
    "                                )\n",
    "mirrored = signs_n_opt[0] == -1\n",
    "ax[1].set_title(\"Optimized Calibration\")\n",
    "ax[1] = putls.plot_template_over_pattern(image,\n",
    "                                 simulations_optimized[indices_n_opt[0]],\n",
    "                                 in_plane_angle=angles_n_opt[0],\n",
    "                                 ax = ax[1],\n",
    "                                 coordinate_system = \"cartesian\", \n",
    "                                 size_factor = 10,\n",
    "                                 vmax=30, \n",
    "                                 max_r = 200,\n",
    "                                 mirrored_template=mirrored,\n",
    "                                 find_direct_beam=True,\n",
    "                                 cmap = \"viridis\"\n",
    "                                )\n",
    "fig.tight_layout()"
   ]
  },
  {
   "cell_type": "markdown",
   "id": "promising-paint",
   "metadata": {},
   "source": [
    "Following cells are for simulated patterns."
   ]
  },
  {
   "cell_type": "code",
   "execution_count": 36,
   "id": "accomplished-gentleman",
   "metadata": {},
   "outputs": [],
   "source": [
    "from pyxem.utils.plotting_utils import get_template_cartesian_coordinates \n",
    "from diffsims.pattern.detector_functions import add_shot_and_point_spread\n",
    "import random\n",
    "\n",
    "def pointplotter(simulations,inplane,template,sigma):\n",
    "    pattern = hs.signals.Signal2D(np.zeros((256,256)))\n",
    "    pattern.set_signal_type(signal_type=\"electron_diffraction\")\n",
    "    x, y, intensities = get_template_cartesian_coordinates(simulations[template],in_plane_angle=inplane,window_size=(255,255),center=(256//2,256//2))\n",
    "    for i in range(x.size):\n",
    "        pattern.isig[x[i],y[i]]=intensities[i]\n",
    "    pattern = add_shot_and_point_spread(pattern.T, sigma, shot_noise=False)\n",
    "    pattern = hs.signals.Signal2D(pattern)\n",
    "\n",
    "    return pattern\n",
    "def grab_random_pattern(simulations):\n",
    "    inplane = random.randint(0,360)\n",
    "    template = random.randint(0,simulations.size)\n",
    "    pattern = pointplotter(simulations,inplane,template,5)\n",
    "    return pattern, inplane, template\n",
    "def build_random_tilts(diff_lib,n):\n",
    "    orientations = diff_lib['orientations']\n",
    "    simulations = diff_lib['simulations']\n",
    "    pattern_set = hs.signals.Signal2D(np.zeros((n,1,256,256)))\n",
    "    pattern_set.set_signal_type(signal_type=\"electron_diffraction\")\n",
    "    eulers = np.zeros((n,3))\n",
    "    template_indexs = np.zeros((1,n))\n",
    "    for i in range(n):\n",
    "        pattern, inplane, template = grab_random_pattern(simulations)\n",
    "        euler = orientations[template].copy()\n",
    "        euler[0] = euler[0] + inplane\n",
    "        pattern_set.inav[0,i] = pattern\n",
    "        eulers[i,:] = euler\n",
    "        template_indexs[0,i] = template\n",
    "    return pattern_set,eulers,template_indexs"
   ]
  },
  {
   "cell_type": "code",
   "execution_count": 37,
   "id": "ordered-tamil",
   "metadata": {},
   "outputs": [
    {
     "name": "stderr",
     "output_type": "stream",
     "text": [
      "/home/joseph/miniconda3/envs/pyxemmaster/lib/python3.9/site-packages/diffsims/generators/sphere_mesh_generators.py:515: RuntimeWarning: invalid value encountered in true_divide\n",
      "  phi2 = sign * np.nan_to_num(np.arccos(x_comp / norm_proj))\n",
      "                                                    \r"
     ]
    }
   ],
   "source": [
    "import diffpy\n",
    "from diffsims.generators.rotation_list_generators import get_beam_directions_grid\n",
    "from diffsims.generators.diffraction_generator import DiffractionGenerator\n",
    "from diffsims.libraries.structure_library import StructureLibrary\n",
    "from diffsims.generators.library_generator import DiffractionLibraryGenerator\n",
    "\n",
    "diffraction_calibration = 0.01234\n",
    "\n",
    "half_shape = (256//2, 256//2)\n",
    "\n",
    "reciprocal_radius = np.sqrt(half_shape[0]**2 + half_shape[1]**2)*diffraction_calibration\n",
    "\n",
    "resolution = 1 \n",
    "grid = get_beam_directions_grid(\"cubic\", resolution, mesh=\"spherified_cube_edge\")\n",
    "structure_matrix = diffpy.structure.loadStructure(\"Data/Au_mp-81_conventional_standard.cif\")\n",
    "\n",
    "diff_gen = DiffractionGenerator(accelerating_voltage=200,\n",
    "                                precession_angle=1,\n",
    "                                scattering_params=None,\n",
    "                                shape_factor_model=\"linear\",\n",
    "                                minimum_intensity=0.1,\n",
    "                                )\n",
    "\n",
    "lib_gen = DiffractionLibraryGenerator(diff_gen)\n",
    "\n",
    "\n",
    "library_phases_au = StructureLibrary([\"au\"], [structure_matrix], [grid])\n",
    "\n",
    "diff_lib_au = lib_gen.get_diffraction_library(library_phases_au,\n",
    "                                           calibration=diffraction_calibration,\n",
    "                                           reciprocal_radius=reciprocal_radius,\n",
    "                                           half_shape=half_shape,\n",
    "                                           with_direct_beam=False,\n",
    "                                           max_excitation_error=0.08)"
   ]
  },
  {
   "cell_type": "code",
   "execution_count": 38,
   "id": "mediterranean-queens",
   "metadata": {},
   "outputs": [],
   "source": [
    "data, eulers, template_indexs = build_random_tilts(diff_lib_au['au'],10)"
   ]
  },
  {
   "cell_type": "code",
   "execution_count": 39,
   "id": "friendly-daughter",
   "metadata": {},
   "outputs": [],
   "source": [
    "data.plot()"
   ]
  },
  {
   "cell_type": "code",
   "execution_count": 40,
   "id": "suburban-sleep",
   "metadata": {},
   "outputs": [],
   "source": [
    "%%capture burn\n",
    "import diffpy\n",
    "from diffsims.generators.rotation_list_generators import get_beam_directions_grid\n",
    "from diffsims.generators.diffraction_generator import DiffractionGenerator\n",
    "from diffsims.libraries.structure_library import StructureLibrary\n",
    "from diffsims.generators.library_generator import DiffractionLibraryGenerator\n",
    "from pyxem.utils.calibration_utils import find_diffraction_calibration\n",
    "\n",
    "def template_log_func(x):\n",
    "    return np.log10(x + 0.1)\n",
    "\n",
    "resolution = 1 \n",
    "grid = get_beam_directions_grid(\"cubic\", resolution, mesh=\"spherified_cube_edge\")\n",
    "structure_matrix = diffpy.structure.loadStructure(\"Data/Au_mp-81_conventional_standard.cif\")\n",
    "\n",
    "diff_gen = DiffractionGenerator(accelerating_voltage=200,\n",
    "                                precession_angle=1,\n",
    "                                scattering_params=None,\n",
    "                                shape_factor_model=\"linear\",\n",
    "                                minimum_intensity=0.1,\n",
    "                                )\n",
    "\n",
    "lib_gen = DiffractionLibraryGenerator(diff_gen)\n",
    "library_phases = StructureLibrary([\"phase\"], [structure_matrix], [grid])\n",
    "\n",
    "found_cal, corrline, found_cals = find_diffraction_calibration(data,0.011,library_phases,lib_gen,20,\n",
    "                                                               max_excitation_error= 0.08,\n",
    "                                                               intensity_transform_function=template_log_func,\n",
    "                                                               delta_r = 0.5,\n",
    "                                                               max_r = np.sqrt(128**2+128**2) * 0.90\n",
    "                                                              )"
   ]
  },
  {
   "cell_type": "code",
   "execution_count": 41,
   "id": "unauthorized-grace",
   "metadata": {},
   "outputs": [
    {
     "data": {
      "text/plain": [
       "0.012308010000000008"
      ]
     },
     "execution_count": 41,
     "metadata": {},
     "output_type": "execute_result"
    }
   ],
   "source": [
    "found_cal"
   ]
  },
  {
   "cell_type": "code",
   "execution_count": null,
   "id": "instrumental-court",
   "metadata": {},
   "outputs": [],
   "source": []
  }
 ],
 "metadata": {
  "kernelspec": {
   "display_name": "pyxem0.14dev",
   "language": "python",
   "name": "pyxem0.14dev"
  },
  "language_info": {
   "codemirror_mode": {
    "name": "ipython",
    "version": 3
   },
   "file_extension": ".py",
   "mimetype": "text/x-python",
   "name": "python",
   "nbconvert_exporter": "python",
   "pygments_lexer": "ipython3",
   "version": "3.9.7"
  }
 },
 "nbformat": 4,
 "nbformat_minor": 5
}
