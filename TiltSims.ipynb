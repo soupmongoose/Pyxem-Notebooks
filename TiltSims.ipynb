{
 "cells": [
  {
   "cell_type": "code",
   "execution_count": 1,
   "id": "fifteen-cameroon",
   "metadata": {},
   "outputs": [
    {
     "name": "stderr",
     "output_type": "stream",
     "text": [
      "WARNING:hyperspy.api:The ipywidgets GUI elements are not available, probably because the hyperspy_gui_ipywidgets package is not installed.\n",
      "WARNING:hyperspy.api:The traitsui GUI elements are not available, probably because the hyperspy_gui_traitsui package is not installed.\n"
     ]
    }
   ],
   "source": [
    "%matplotlib qt\n",
    "import numpy as np\n",
    "import matplotlib.pyplot as plt\n",
    "import hyperspy.api as hs\n",
    "import pyxem\n",
    "import diffpy\n",
    "from diffsims.libraries.structure_library import StructureLibrary\n",
    "from diffsims.generators.diffraction_generator import DiffractionGenerator\n",
    "from diffsims.generators.library_generator import DiffractionLibraryGenerator\n",
    "from pyxem.utils import indexation_utils as iutls\n",
    "from pyxem.utils import plotting_utils as putls\n",
    "from pyxem.utils import polar_transform_utils as ptutls\n",
    "from pyxem.utils import expt_utils as eutls\n",
    "from orix.quaternion import Orientation, Rotation, symmetry\n",
    "from orix.vector import AxAngle, Vector3d\n",
    "import random"
   ]
  },
  {
   "cell_type": "code",
   "execution_count": 4,
   "id": "variable-mongolia",
   "metadata": {},
   "outputs": [
    {
     "name": "stderr",
     "output_type": "stream",
     "text": [
      "                                                    \r"
     ]
    }
   ],
   "source": [
    "from diffsims.generators.rotation_list_generators import get_beam_directions_grid\n",
    "resolution =1  # maximum angle in degrees between nearest templates. Pretty rough grid for speed.\n",
    "grid_cub = get_beam_directions_grid(\"cubic\", resolution, mesh=\"spherified_cube_edge\")\n",
    "grid_hex = get_beam_directions_grid(\"hexagonal\", resolution, mesh=\"spherified_cube_edge\")\n",
    "\n",
    "\n",
    "# Parameters necessary for simulating a template library\n",
    "diffraction_calibration = 0.01\n",
    "# half size of the images\n",
    "half_shape = (256//2, 256//2)\n",
    "# maximum radius in reciprocal space to calculate spot intensities for\n",
    "reciprocal_radius = np.sqrt(half_shape[0]**2 + half_shape[1]**2)*diffraction_calibration\n",
    "\n",
    "#structures\n",
    "structure_matrix = diffpy.structure.loadStructure(\"Data/Au_mp-81_conventional_standard.cif\")\n",
    "structure_matrix2 = diffpy.structure.loadStructure(\"Data/Ti_mp-72_conventional_standard.cif\")\n",
    "# structure_matrix = diffpy.structure.loadStructure(\"Data/Pd_mp-2_conventional_standard.cif\")\n",
    "\n",
    "# \"The microscope\"\n",
    "diff_gen = DiffractionGenerator(accelerating_voltage=200,\n",
    "                                precession_angle=1,\n",
    "                                scattering_params=None,\n",
    "                                shape_factor_model=\"linear\",\n",
    "                                minimum_intensity=0.1,\n",
    "                                )\n",
    "\n",
    "lib_gen = DiffractionLibraryGenerator(diff_gen)\n",
    "\n",
    "# Generating a library\n",
    "# \"Library of structures and orientations\"\n",
    "library_phases_all = StructureLibrary([\"Au\", \"Ti\"], [structure_matrix, structure_matrix2], [grid_cub, grid_hex])\n",
    "# Calculate the actual library\n",
    "# library_phases_corners = StructureLibrary([\"Au\"], [structure_matrix], [corners])\n",
    "# diff_lib = lib_gen.get_diffraction_library(library_phases_corners,\n",
    "#                                            calibration=diffraction_calibration,\n",
    "#                                            reciprocal_radius=reciprocal_radius,\n",
    "#                                            half_shape=half_shape,\n",
    "#                                            with_direct_beam=False,\n",
    "#                                            max_excitation_error=0.08)\n",
    "diff_lib_full = lib_gen.get_diffraction_library(library_phases_all,\n",
    "                                           calibration=diffraction_calibration,\n",
    "                                           reciprocal_radius=reciprocal_radius,\n",
    "                                           half_shape=half_shape,\n",
    "                                           with_direct_beam=False,\n",
    "                                           max_excitation_error=0.08)"
   ]
  },
  {
   "cell_type": "code",
   "execution_count": 35,
   "id": "c0e32ff8-40dc-4463-93a7-cc5aae8ec260",
   "metadata": {},
   "outputs": [],
   "source": [
    "corners = np.array([[ 0.,  0., 90.],\n",
    "       [ 0.,  45., 90.],\n",
    "       [ 0.,  54.7, 45.]])"
   ]
  },
  {
   "cell_type": "code",
   "execution_count": 5,
   "id": "impressive-flight",
   "metadata": {},
   "outputs": [],
   "source": [
    "from pyxem.utils.plotting_utils import get_template_cartesian_coordinates \n",
    "from diffsims.pattern.detector_functions import add_shot_and_point_spread\n",
    "import random\n",
    "\n",
    "def pointplotter(simulations,inplane,template,sigma):\n",
    "    pattern = hs.signals.Signal2D(np.zeros((256,256)))\n",
    "    pattern.set_signal_type(signal_type=\"electron_diffraction\")\n",
    "    x, y, intensities = get_template_cartesian_coordinates(simulations[template],in_plane_angle=inplane,window_size=(255,255),center=(256//2,256//2))\n",
    "    for i in range(x.size):\n",
    "        pattern.isig[x[i],y[i]]=intensities[i]\n",
    "    pattern = add_shot_and_point_spread(pattern.T, sigma, shot_noise=False)\n",
    "    pattern = hs.signals.Signal2D(pattern)\n",
    "    return pattern\n",
    "def grab_random_pattern(simulations):\n",
    "    inplane = random.randint(0,360)\n",
    "    template = random.randint(0,simulations.size-1)\n",
    "    pattern = pointplotter(simulations,inplane,template,5)\n",
    "    return pattern, inplane, template\n",
    "def build_random_tilts(diff_lib,n):\n",
    "    orientations = diff_lib['orientations']\n",
    "    simulations = diff_lib['simulations']\n",
    "    pattern_set = hs.signals.Signal2D(np.zeros((n,1,256,256)))\n",
    "    pattern_set.set_signal_type(signal_type=\"electron_diffraction\")\n",
    "    eulers = np.zeros((n,3))\n",
    "    template_indexs = np.zeros((1,n))\n",
    "    for i in range(n):\n",
    "        pattern, inplane, template = grab_random_pattern(simulations)\n",
    "        euler = orientations[template].copy()\n",
    "        euler[0] = euler[0] + inplane\n",
    "        pattern_set.inav[0,i] = pattern\n",
    "        eulers[i,:] = euler\n",
    "        template_indexs[0,i] = template\n",
    "    return pattern_set,eulers,template_indexs"
   ]
  },
  {
   "cell_type": "code",
   "execution_count": 6,
   "id": "behavioral-masters",
   "metadata": {
    "tags": []
   },
   "outputs": [],
   "source": [
    "def rotate_sims_original(random_tilts,eulers,rotation,num_rot):\n",
    "#     quats = Orientation.from_euler(np.radians(eulers),symmetry=Oh)\n",
    "#     rotated_quats = (quats * Orientation((1,0,np.radians(5),0))).set_symmetry(Oh)\n",
    "#     rotated_eulers = np.degrees(rotated_quats.to_euler())\n",
    "#     rotated_eulers = np.degrees(qu2eu(rotated_quats.data))\n",
    "    shape = random_tilts.data.shape\n",
    "    pattern_set = hs.signals.Signal2D(np.zeros((shape[0],shape[1] + num_rot,shape[2],shape[3])))\n",
    "    pattern_set.inav[0,:] = random_tilts.data[:,0,:,:]\n",
    "    all_eulers = np.zeros((100,num_rot + 1,3))\n",
    "    all_eulers[:,0,:] = eulers\n",
    "    for i in range(0, num_rot):\n",
    "        rotated_eulers = np.degrees(om2eu(np.matmul(eu2om(np.radians(all_eulers[:,i,:])) ,rotation)))\n",
    "        all_eulers[:,i+1,:] = rotated_eulers\n",
    "    #     rotated_eulers = in_euler_fundamental_region(np.radians(rotated_eulers))\n",
    "        diff_gen = DiffractionGenerator(accelerating_voltage=200,\n",
    "                                    precession_angle=1,\n",
    "                                    scattering_params=None,\n",
    "                                    shape_factor_model=\"linear\",\n",
    "                                    minimum_intensity=0.1,\n",
    "                                    )\n",
    "\n",
    "        lib_gen = DiffractionLibraryGenerator(diff_gen)\n",
    "        # Generating a library\n",
    "        # \"Library of structures and orientations\"\n",
    "        library_phases = StructureLibrary([\"phase\"], [structure_matrix], [rotated_eulers])\n",
    "        diff_lib = lib_gen.get_diffraction_library(library_phases,\n",
    "                                               calibration=diffraction_calibration,\n",
    "                                               reciprocal_radius=reciprocal_radius,\n",
    "                                               half_shape=half_shape,\n",
    "                                               with_direct_beam=False,\n",
    "                                               max_excitation_error=0.08)\n",
    "\n",
    "        \n",
    "            \n",
    "        for j in range(eulers.shape[0]):        \n",
    "            pattern = pointplotter(diff_lib['phase']['simulations'],0,j,5)\n",
    "            pattern_set.inav[i+1,j] = pattern\n",
    "            \n",
    "    return(pattern_set,all_eulers)"
   ]
  },
  {
   "cell_type": "code",
   "execution_count": 7,
   "id": "genetic-architecture",
   "metadata": {},
   "outputs": [],
   "source": [
    "def rotate_sims(random_tilts,eulers,rot_quat,num_rot,pg):\n",
    "#     quats = Orientation.from_euler(np.radians(eulers),symmetry=Oh)\n",
    "#     rotated_quats = (quats * Orientation((1,0,np.radians(5),0))).set_symmetry(Oh)\n",
    "#     rotated_eulers = np.degrees(rotated_quats.to_euler())\n",
    "#     rotated_eulers = np.degrees(qu2eu(rotated_quats.data))\n",
    "    shape = random_tilts.data.shape\n",
    "    pattern_set = hs.signals.Signal2D(np.zeros((shape[0],shape[1] + num_rot,shape[2],shape[3])))\n",
    "    pattern_set.inav[0,:] = random_tilts.data[:,0,:,:]\n",
    "    all_eulers = np.zeros((shape[0],num_rot + 1,3))\n",
    "    all_eulers[:,0,:] = eulers\n",
    "    for i in range(0, num_rot):\n",
    "#         rotated_eulers = np.degrees(om2eu(np.matmul(eu2om(np.radians(all_eulers[:,i,:])) ,rotation)))\n",
    "        quats = Orientation.from_euler(np.radians(all_eulers[:,i,:]),symmetry=pg)\n",
    "        rotated_quats = (quats * rot_quat)\n",
    "        rotated_quats.symmetry = pg\n",
    "        rotated_eulers = np.degrees(rotated_quats.to_euler())\n",
    "        \n",
    "        all_eulers[:,i+1,:] = rotated_eulers\n",
    "        diff_gen = DiffractionGenerator(accelerating_voltage=200,\n",
    "                                    precession_angle=1,\n",
    "                                    scattering_params=None,\n",
    "                                    shape_factor_model=\"linear\",\n",
    "                                    minimum_intensity=0.1,\n",
    "                                    )\n",
    "\n",
    "        lib_gen = DiffractionLibraryGenerator(diff_gen)\n",
    "        # Generating a library\n",
    "        # \"Library of structures and orientations\"\n",
    "        library_phases = StructureLibrary([\"phase\"], [structure_matrix], [rotated_eulers])\n",
    "        diff_lib = lib_gen.get_diffraction_library(library_phases,\n",
    "                                               calibration=diffraction_calibration,\n",
    "                                               reciprocal_radius=reciprocal_radius,\n",
    "                                               half_shape=half_shape,\n",
    "                                               with_direct_beam=False,\n",
    "                                               max_excitation_error=0.08)\n",
    "\n",
    "        \n",
    "            \n",
    "        for j in range(eulers.shape[0]):        \n",
    "            pattern = pointplotter(diff_lib['phase']['simulations'],0,j,5)\n",
    "            pattern_set.inav[i+1,j] = pattern\n",
    "            \n",
    "    return(pattern_set,all_eulers)"
   ]
  },
  {
   "cell_type": "code",
   "execution_count": 8,
   "id": "1a09d60f-48de-4a18-8cad-2ceef200fce7",
   "metadata": {},
   "outputs": [],
   "source": [
    "def full_lib_thing(simulations,inplane):\n",
    "    allpatterns = hs.signals.Signal2D(np.zeros((1,simulations.size,256,256)))\n",
    "    allpatterns.set_signal_type(signal_type=\"electron_diffraction\")\n",
    "    pattern = hs.signals.Signal2D(np.zeros((256,256)))\n",
    "    pattern.set_signal_type(signal_type=\"electron_diffraction\")\n",
    "\n",
    "    for i in range(simulations.size):\n",
    "        pattern = pointplotter(simulations,inplane,i,5)\n",
    "        allpatterns.inav[i,:] = pattern\n",
    "        pattern = hs.signals.Signal2D(np.zeros((256,256)))\n",
    "        \n",
    "    allpatterns.set_diffraction_calibration(0.01)\n",
    "    return allpatterns"
   ]
  },
  {
   "cell_type": "code",
   "execution_count": 19,
   "id": "1bc8b03c-a35e-4561-915c-1e28f3c58d46",
   "metadata": {},
   "outputs": [],
   "source": [
    "simulations = diff_lib[\"Au\"][\"simulations\"]\n",
    "allpatterns = full_lib_thing(simulations,0)"
   ]
  },
  {
   "cell_type": "code",
   "execution_count": 20,
   "id": "6dcbd80a-475c-4eec-8e3b-36481f1ec653",
   "metadata": {},
   "outputs": [],
   "source": [
    "allpatterns.plot()"
   ]
  },
  {
   "cell_type": "code",
   "execution_count": 6,
   "id": "proved-grade",
   "metadata": {
    "collapsed": true,
    "jupyter": {
     "outputs_hidden": true
    }
   },
   "outputs": [
    {
     "ename": "EOFError",
     "evalue": "Ran out of input",
     "output_type": "error",
     "traceback": [
      "\u001b[0;31m---------------------------------------------------------------------------\u001b[0m",
      "\u001b[0;31mEOFError\u001b[0m                                  Traceback (most recent call last)",
      "\u001b[0;32m<ipython-input-6-2b3c5aa5415d>\u001b[0m in \u001b[0;36m<module>\u001b[0;34m\u001b[0m\n\u001b[1;32m      2\u001b[0m \u001b[0;32mimport\u001b[0m \u001b[0mpickle\u001b[0m\u001b[0;34m\u001b[0m\u001b[0;34m\u001b[0m\u001b[0m\n\u001b[1;32m      3\u001b[0m \u001b[0mpickle_off\u001b[0m \u001b[0;34m=\u001b[0m \u001b[0mopen\u001b[0m\u001b[0;34m(\u001b[0m\u001b[0;34m\"set_eulers0.pickle\"\u001b[0m\u001b[0;34m,\u001b[0m \u001b[0;34m'rb'\u001b[0m\u001b[0;34m)\u001b[0m\u001b[0;34m\u001b[0m\u001b[0;34m\u001b[0m\u001b[0m\n\u001b[0;32m----> 4\u001b[0;31m \u001b[0meulers0\u001b[0m \u001b[0;34m=\u001b[0m \u001b[0mpickle\u001b[0m\u001b[0;34m.\u001b[0m\u001b[0mload\u001b[0m\u001b[0;34m(\u001b[0m\u001b[0mpickle_off\u001b[0m\u001b[0;34m)\u001b[0m\u001b[0;34m\u001b[0m\u001b[0;34m\u001b[0m\u001b[0m\n\u001b[0m",
      "\u001b[0;31mEOFError\u001b[0m: Ran out of input"
     ]
    }
   ],
   "source": [
    "data0  = hs.load('set_data0.hspy')\n",
    "import pickle\n",
    "pickle_off = open(\"set_eulers0.pickle\", 'rb')\n",
    "eulers0 = pickle.load(pickle_off)"
   ]
  },
  {
   "cell_type": "code",
   "execution_count": 11,
   "id": "sudden-abortion",
   "metadata": {
    "tags": []
   },
   "outputs": [],
   "source": [
    "data0, eulers0, template_indexs = build_random_tilts(diff_lib_full[\"Au\"],200)\n",
    "# data1, eulers1 = rotate_sims_original(data0,eulers0,rotmatxy,10)"
   ]
  },
  {
   "cell_type": "code",
   "execution_count": 13,
   "id": "helpful-allocation",
   "metadata": {},
   "outputs": [
    {
     "name": "stderr",
     "output_type": "stream",
     "text": [
      "  0%|          | 0/48 [00:00<?, ?it/s]"
     ]
    },
    {
     "name": "stdout",
     "output_type": "stream",
     "text": [
      "Orientation (1,) m-3m\n",
      "[[ 0.999  -0.0436  0.      0.    ]]\n",
      "Vector3d (1,)\n",
      "[[-1.  0.  0.]]\n",
      "Vector3d (1,)\n",
      "[[0. 0. 1.]]\n"
     ]
    },
    {
     "name": "stderr",
     "output_type": "stream",
     "text": [
      "\n"
     ]
    }
   ],
   "source": [
    "axang12 = AxAngle.from_axes_angles((-1, 0, 0), np.radians(5))\n",
    "g12 = Orientation.from_neo_euler(axang12, symmetry.Oh)\n",
    "g12.map_into_symmetry_reduced_zone(symmetry)\n",
    "print(g12)\n",
    "print(g12.axis)\n",
    "print(g12.axis.in_fundamental_sector(symmetry.Oh))"
   ]
  },
  {
   "cell_type": "code",
   "execution_count": 12,
   "id": "7bc3c1d7-8b24-4dea-a01f-3be5fe027577",
   "metadata": {},
   "outputs": [],
   "source": [
    "from diffsims.libraries import diffraction_library"
   ]
  },
  {
   "cell_type": "code",
   "execution_count": 15,
   "id": "antique-female",
   "metadata": {},
   "outputs": [
    {
     "name": "stderr",
     "output_type": "stream",
     "text": [
      "                                                  \r"
     ]
    }
   ],
   "source": [
    "data0, eulers0, template_indexs = build_random_tilts(diff_lib_full['Au'],200)\n",
    "data1, eulers1 = rotate_sims(data0,eulers0,g12,10,symmetry.Oh)"
   ]
  },
  {
   "cell_type": "code",
   "execution_count": 23,
   "id": "painful-aging",
   "metadata": {},
   "outputs": [],
   "source": [
    "import pickle\n",
    "filename = \"set_eulers0.pickle\"\n",
    "pickling_on = open(filename,\"wb\")\n",
    "pickle.dump(eulers0, pickling_on)\n",
    "pickling_on.close()"
   ]
  },
  {
   "cell_type": "code",
   "execution_count": 55,
   "id": "arranged-australia",
   "metadata": {},
   "outputs": [],
   "source": [
    "data0.save('set_data0')"
   ]
  },
  {
   "cell_type": "code",
   "execution_count": 106,
   "id": "durable-drawing",
   "metadata": {},
   "outputs": [
    {
     "data": {
      "text/plain": [
       "Vector3d (1,)\n",
       "[[0.7069 0.7069 0.0218]]"
      ]
     },
     "execution_count": 106,
     "metadata": {},
     "output_type": "execute_result"
    }
   ],
   "source": [
    "Orientation.from_matrix(rotmatxy).axis"
   ]
  },
  {
   "cell_type": "code",
   "execution_count": null,
   "id": "piano-direction",
   "metadata": {},
   "outputs": [],
   "source": [
    "Orientation.from_euler().axis"
   ]
  },
  {
   "cell_type": "code",
   "execution_count": 16,
   "id": "voluntary-superintendent",
   "metadata": {},
   "outputs": [],
   "source": [
    "data1.plot()"
   ]
  },
  {
   "cell_type": "code",
   "execution_count": null,
   "id": "ultimate-edwards",
   "metadata": {},
   "outputs": [],
   "source": [
    "m12 = ~ori1 -  "
   ]
  },
  {
   "cell_type": "code",
   "execution_count": 8,
   "id": "stainless-galaxy",
   "metadata": {},
   "outputs": [],
   "source": [
    "testeuler1 = np.array([91.      ,   35.40869539, 80.05404644])\n",
    "testeuler2 = np.array([93.      ,   38.83764774 ,76.0287308 ])\n",
    "\n",
    "om1 = eu2om(np.radians(testeuler1))\n",
    "om2 = eu2om(np.radians(testeuler2))"
   ]
  },
  {
   "cell_type": "code",
   "execution_count": 9,
   "id": "radical-bristol",
   "metadata": {},
   "outputs": [],
   "source": [
    "rotmat = np.matmul(np.transpose(om1),om2)"
   ]
  },
  {
   "cell_type": "code",
   "execution_count": null,
   "id": "laden-maryland",
   "metadata": {},
   "outputs": [],
   "source": [
    "axang12 = AxAngle.from_axes_angles((-1, -1, 0), np.radians(5))\n",
    "g12 = Orientation.from_neo_euler(axang12, pg)\n",
    "g2 = g12 * g1\n",
    "g2.symmetry = pg\n",
    "g2"
   ]
  },
  {
   "cell_type": "code",
   "execution_count": 155,
   "id": "8b5c15ff-2bd8-4287-86ac-f10a1ce31546",
   "metadata": {},
   "outputs": [],
   "source": [
    "data1.set_signal_type('electron_diffraction')\n",
    "data1.set_diffraction_calibration(0.01)"
   ]
  },
  {
   "cell_type": "code",
   "execution_count": 137,
   "id": "governing-championship",
   "metadata": {},
   "outputs": [],
   "source": [
    "data1.plot()"
   ]
  },
  {
   "cell_type": "code",
   "execution_count": 156,
   "id": "caa05d1b-60c0-434a-b1be-df42c43097d5",
   "metadata": {},
   "outputs": [],
   "source": [
    "data1.inav[:,0].plot(cmap = 'viridis')"
   ]
  },
  {
   "cell_type": "code",
   "execution_count": 144,
   "id": "a64829bb-d06d-4cfa-99c6-9b26575646bb",
   "metadata": {},
   "outputs": [],
   "source": [
    "tiltors = Orientation.from_euler(np.radians(eulers1[0,:,:]), symmetry= symmetry.Oh)"
   ]
  },
  {
   "cell_type": "code",
   "execution_count": 157,
   "id": "d00f2732-9f23-4e12-b9fa-37b07a25d261",
   "metadata": {},
   "outputs": [],
   "source": [
    "fig0 = tiltors[0].plot_unit_cell(return_figure=True)\n",
    "fig3 = tiltors[3].plot_unit_cell(return_figure=True)\n",
    "fig6 = tiltors[6].plot_unit_cell(return_figure=True)\n",
    "fig10 = tiltors[10].plot_unit_cell(return_figure=True)"
   ]
  },
  {
   "cell_type": "code",
   "execution_count": 158,
   "id": "824b8246-cdb4-4ebb-91b4-6d90cf2ba2f2",
   "metadata": {},
   "outputs": [],
   "source": [
    "fig0.savefig('UnitCell0.png',bbox_inches = 'tight', pad_inches = 0)\n",
    "fig3.savefig('UnitCell3.png',bbox_inches = 'tight', pad_inches = 0)\n",
    "fig6.savefig('UnitCell6.png',bbox_inches = 'tight', pad_inches = 0)\n",
    "fig10.savefig('UnitCell10.png',bbox_inches = 'tight', pad_inches = 0)"
   ]
  },
  {
   "cell_type": "code",
   "execution_count": 79,
   "id": "e50195db-25d6-46d6-a01f-902922042072",
   "metadata": {},
   "outputs": [],
   "source": [
    "data1.inav[:,50] = pointplotter(diff_lib[\"Ti\"][\"simulations\"],30,300,5)"
   ]
  },
  {
   "cell_type": "code",
   "execution_count": 7,
   "id": "direct-linux",
   "metadata": {},
   "outputs": [
    {
     "data": {
      "text/plain": [
       "array([[ 0.9979884 , -0.05342616,  0.03412956],\n",
       "       [ 0.05482509,  0.99763486, -0.04145988],\n",
       "       [-0.0318338 ,  0.04324763,  0.99855709]])"
      ]
     },
     "execution_count": 7,
     "metadata": {},
     "output_type": "execute_result"
    }
   ],
   "source": [
    "misori = np.array([-0.99927228, -0.0211923 , -0.01650285, -0.02708252])\n",
    "rotmat = qu2om(misori)"
   ]
  },
  {
   "cell_type": "code",
   "execution_count": 25,
   "id": "looking-house",
   "metadata": {},
   "outputs": [],
   "source": [
    "# data1 = data1 * 50"
   ]
  },
  {
   "cell_type": "code",
   "execution_count": 17,
   "id": "similar-opening",
   "metadata": {},
   "outputs": [],
   "source": [
    "def template_log_func(x):\n",
    "        return np.log10(x + 0.01)"
   ]
  },
  {
   "cell_type": "code",
   "execution_count": 18,
   "id": "novel-notion",
   "metadata": {},
   "outputs": [
    {
     "name": "stdout",
     "output_type": "stream",
     "text": [
      "[########################################] | 100% Completed | 26.9s\n"
     ]
    }
   ],
   "source": [
    "frac_keep = 1\n",
    "n_best = 20\n",
    "n_keep = None\n",
    "\n",
    "delta_r = 1\n",
    "delta_theta = 0.5 \n",
    "max_r = None\n",
    "intensity_transform_function = template_log_func\n",
    "direct_beam_position = None\n",
    "normalize_image = True\n",
    "normalize_templates = True\n",
    "\n",
    "result, phasedict = iutls.index_dataset_with_template_rotation(data1,\n",
    "                                                    diff_lib_full,\n",
    "                                                    phases = [\"Au\"],\n",
    "                                                    n_best = n_best,\n",
    "                                                    frac_keep = frac_keep,\n",
    "                                                    n_keep = n_keep,\n",
    "                                                    delta_r = delta_r,\n",
    "                                                    delta_theta = delta_theta,\n",
    "                                                    max_r = None,\n",
    "                                                    intensity_transform_function=intensity_transform_function,\n",
    "                                                    normalize_images = normalize_image,\n",
    "                                                    normalize_templates=normalize_templates,\n",
    "                                                    target='gpu'\n",
    "                                                    )"
   ]
  },
  {
   "cell_type": "code",
   "execution_count": 83,
   "id": "5b00cb7a-4966-4a0e-befc-53a90aabe8b0",
   "metadata": {},
   "outputs": [
    {
     "data": {
      "text/plain": [
       "{0: 'Au', 1: 'Ti'}"
      ]
     },
     "execution_count": 83,
     "metadata": {},
     "output_type": "execute_result"
    }
   ],
   "source": [
    "phasedict"
   ]
  },
  {
   "cell_type": "code",
   "execution_count": 100,
   "id": "general-length",
   "metadata": {},
   "outputs": [],
   "source": [
    "data1.plot()"
   ]
  },
  {
   "cell_type": "code",
   "execution_count": 84,
   "id": "clean-format",
   "metadata": {},
   "outputs": [],
   "source": [
    "solution = result[\"orientation\"]\n",
    "corrscores = result['correlation'][:,:,0]"
   ]
  },
  {
   "cell_type": "code",
   "execution_count": 19,
   "id": "certain-empty",
   "metadata": {},
   "outputs": [],
   "source": [
    "from orix.crystal_map import Phase\n",
    "from orix.plot import IPFColorKeyTSL\n",
    "from orix.quaternion import Orientation, symmetry\n",
    "from orix.vector import Miller, Vector3d\n",
    "\n",
    "plt.rcParams.update({\n",
    "    \"figure.figsize\": (15, 10),\n",
    "    \"axes.grid\": False,\n",
    "#     \"font.size\": 20,\n",
    "    \"lines.markersize\": 15,\n",
    "})"
   ]
  },
  {
   "cell_type": "code",
   "execution_count": 29,
   "id": "necessary-equilibrium",
   "metadata": {},
   "outputs": [],
   "source": [
    "def plot_matchedandtrue_Oh(num):\n",
    "    \n",
    "    \n",
    "    oritrue = Orientation.from_euler(\n",
    "        np.radians(eulers1[num,:,:]),\n",
    "        symmetry=symmetry.Oh\n",
    "    )\n",
    "    orimatched = Orientation.from_euler(\n",
    "    np.radians(result['orientation'][num,:,0,:]),\n",
    "    symmetry=symmetry.Oh\n",
    "    )\n",
    "    ckey = IPFColorKeyTSL(oritrue.symmetry)\n",
    "    rgbz = ckey.orientation2color(oritrue)\n",
    "    # cmap = np.linspace(0, 1, oritrue.size)\n",
    "    # v = Vector3d(((1, 0, 0), (0, 1, 0), (0, 0, 1)))\n",
    "    v = Vector3d((0, 0, 1))\n",
    "    oritrue.scatter(\"ipf\", direction=v, c=green)\n",
    "    orimatched.scatter(\"ipf\", direction=v, c=red)\n",
    "    "
   ]
  },
  {
   "cell_type": "code",
   "execution_count": null,
   "id": "c2783298-4653-4df4-a087-0b135b447abe",
   "metadata": {},
   "outputs": [],
   "source": []
  },
  {
   "cell_type": "code",
   "execution_count": 40,
   "id": "47812313-22c9-435c-beca-a94775ed8897",
   "metadata": {},
   "outputs": [],
   "source": [
    "def plot_matchedandtrue_Oh(num):\n",
    "    \n",
    "    \n",
    "    oritrue = Orientation.from_euler(\n",
    "        np.radians(eulers1[num,:,:]),\n",
    "        symmetry=symmetry.Oh\n",
    "    )\n",
    "    orimatched = Orientation.from_euler(\n",
    "    np.radians(result['orientation'][num,:,0,:]),\n",
    "    symmetry=symmetry.Oh\n",
    "    )\n",
    "    ckey = IPFColorKeyTSL(oritrue.symmetry)\n",
    "    rgbz = ckey.orientation2color(oritrue)\n",
    "    cmap = np.linspace(0, 1, oritrue.size)\n",
    "    # v = Vector3d(((1, 0, 0), (0, 1, 0), (0, 0, 1)))\n",
    "    v = Vector3d((0, 0, 1))\n",
    "    fig = oritrue.scatter(\"ipf\", direction=v, c='g', return_figure = True, label = 'Known')\n",
    "    orimatched.scatter(\"ipf\", direction=v, c='r', figure = fig, label = 'Matched', marker = 's')\n",
    "    plt.legend()"
   ]
  },
  {
   "cell_type": "code",
   "execution_count": 12,
   "id": "f47bdba1-9e3f-4c8d-bf94-b6ee4968cf87",
   "metadata": {},
   "outputs": [],
   "source": [
    "def plot_matchedandtrue_D6h(num):\n",
    "    \n",
    "    \n",
    "    oritrue = Orientation.from_euler(\n",
    "        np.radians(eulers1[num,:,:]),\n",
    "        symmetry=symmetry.D6h\n",
    "    )\n",
    "    orimatched = Orientation.from_euler(\n",
    "    np.radians(result['orientation'][num,:,0,:]),\n",
    "    symmetry=symmetry.D6h\n",
    "    )\n",
    "    ckey = IPFColorKeyTSL(oritrue.symmetry)\n",
    "    rgbz = ckey.orientation2color(oritrue)\n",
    "    cmap = np.linspace(0, 1, oritrue.size)\n",
    "    v = Vector3d(((1, 0, 0), (0, 1, 0), (0, 0, 1)))\n",
    "    oritrue.scatter(\"ipf\", direction=v, c=cmap)\n",
    "    orimatched.scatter(\"ipf\", direction=v, c=cmap)"
   ]
  },
  {
   "cell_type": "code",
   "execution_count": 30,
   "id": "tracked-monday",
   "metadata": {},
   "outputs": [],
   "source": [
    "orimatched = Orientation.from_euler(\n",
    "    np.radians(result['orientation'][6,:,0,:]),\n",
    "    symmetry=symmetry.Oh\n",
    ")"
   ]
  },
  {
   "cell_type": "code",
   "execution_count": null,
   "id": "e01d91e3-b84b-42fa-93a0-30fa301de39b",
   "metadata": {},
   "outputs": [],
   "source": [
    "orimatched.scatter()"
   ]
  },
  {
   "cell_type": "code",
   "execution_count": 147,
   "id": "waiting-victim",
   "metadata": {},
   "outputs": [],
   "source": [
    "ori = Orientation.from_euler(\n",
    "    np.radians(eulers1[6,:,:]),\n",
    "    symmetry=symmetry.Oh\n",
    ")"
   ]
  },
  {
   "cell_type": "code",
   "execution_count": 74,
   "id": "5ebe989f-8410-45ad-96da-1b63e1f2de17",
   "metadata": {},
   "outputs": [],
   "source": [
    "plot_matchedandtrue_Oh(89)"
   ]
  },
  {
   "cell_type": "code",
   "execution_count": 148,
   "id": "exceptional-fairy",
   "metadata": {},
   "outputs": [
    {
     "data": {
      "text/plain": [
       "array([[-117.37629495,    0.64573202,  116.61272679],\n",
       "       [-128.11072225,    0.85030879,  127.2500142 ],\n",
       "       [-143.21597255,    0.49545274,  142.60859118],\n",
       "       [ -96.00234405,    0.3918114 ,   95.531186  ],\n",
       "       [-132.2353125 ,    0.66954394,  131.43135781],\n",
       "       [-137.87814497,    0.25713887,  137.39801596],\n",
       "       [-148.51497217,    0.44441057,  148.02031093],\n",
       "       [ -98.93647383,    0.28349625,   98.0992975 ],\n",
       "       [-160.50756703,    0.55156262,  159.95041848],\n",
       "       [-158.75750275,    0.25347986,  158.4420215 ],\n",
       "       [-108.19542868,    0.16059081,  107.57528775]])"
      ]
     },
     "execution_count": 148,
     "metadata": {},
     "output_type": "execute_result"
    }
   ],
   "source": [
    "np.degrees((ori - orimatched).to_euler())"
   ]
  },
  {
   "cell_type": "code",
   "execution_count": 120,
   "id": "differential-williams",
   "metadata": {},
   "outputs": [
    {
     "data": {
      "text/plain": [
       "array([0.        , 0.3642247 , 0.30811811, 0.41799645, 0.50365635,\n",
       "       0.8610643 , 0.6106717 , 0.53470235, 0.6092405 , 0.57420749,\n",
       "       1.05712982])"
      ]
     },
     "execution_count": 120,
     "metadata": {},
     "output_type": "execute_result"
    }
   ],
   "source": [
    "np.degrees((ori - orimatched).angle.data)"
   ]
  },
  {
   "cell_type": "code",
   "execution_count": 140,
   "id": "finished-muscle",
   "metadata": {},
   "outputs": [],
   "source": [
    "from orix.vector import AxAngle"
   ]
  },
  {
   "cell_type": "code",
   "execution_count": 141,
   "id": "advisory-immune",
   "metadata": {},
   "outputs": [],
   "source": [
    "AxAngle1 = AxAngle.from_axes_angles((0,0,-1),np.pi)\n",
    "orisomething = Orientation.from_neo_euler(AxAngle1)"
   ]
  },
  {
   "cell_type": "code",
   "execution_count": 142,
   "id": "neither-wallace",
   "metadata": {},
   "outputs": [],
   "source": [
    "orimatched2 = orisomething * orimatched"
   ]
  },
  {
   "cell_type": "code",
   "execution_count": 154,
   "id": "hairy-sigma",
   "metadata": {},
   "outputs": [],
   "source": [
    "orimatched3 = orimatched2"
   ]
  },
  {
   "cell_type": "code",
   "execution_count": 153,
   "id": "becoming-netscape",
   "metadata": {},
   "outputs": [
    {
     "name": "stderr",
     "output_type": "stream",
     "text": [
      "/home/joseph/miniconda3/envs/pyxemmaster/lib/python3.9/site-packages/orix/quaternion/orientation.py:624: VisibleDeprecationWarning: Function `set_symmetry()` is deprecated and will be removed in version 0.9. Use `orix.quaternion.Orientation.map_into_symmetry_reduced_zone()` instead.\n",
      "  since=\"0.8\",\n"
     ]
    }
   ],
   "source": [
    "orimatched2 = orimatched2.set_symmetry(symmetry.Oh)"
   ]
  },
  {
   "cell_type": "code",
   "execution_count": 160,
   "id": "constitutional-dakota",
   "metadata": {},
   "outputs": [
    {
     "name": "stderr",
     "output_type": "stream",
     "text": [
      "/home/joseph/miniconda3/envs/pyxemmaster/lib/python3.9/site-packages/orix/quaternion/orientation.py:624: VisibleDeprecationWarning: Function `set_symmetry()` is deprecated and will be removed in version 0.9. Use `orix.quaternion.Orientation.map_into_symmetry_reduced_zone()` instead.\n",
      "  since=\"0.8\",\n"
     ]
    }
   ],
   "source": [
    "ori2 = ori.set_symmetry(symmetry.Oh)"
   ]
  },
  {
   "cell_type": "code",
   "execution_count": 161,
   "id": "above-sixth",
   "metadata": {},
   "outputs": [],
   "source": [
    "uvw = Miller(uvw=(1, 0, 0), phase=Phase(point_group=orimatched.symmetry))\n",
    "uvw2 = ~orimatched3 * uvw\n",
    "uvw3 = ~ori2 * uvw"
   ]
  },
  {
   "cell_type": "code",
   "execution_count": 164,
   "id": "interracial-movie",
   "metadata": {},
   "outputs": [],
   "source": [
    "ori2.scatter('rodrigues')"
   ]
  },
  {
   "cell_type": "code",
   "execution_count": 165,
   "id": "convertible-birth",
   "metadata": {},
   "outputs": [],
   "source": [
    "orimatched3.scatter('rodrigues')"
   ]
  },
  {
   "cell_type": "code",
   "execution_count": 163,
   "id": "affecting-routine",
   "metadata": {},
   "outputs": [],
   "source": [
    "fig = uvw2.scatter(return_figure = True,c=cmap, axes_labels=[\"x\", \"y\", \"z\"], grid=True,hemisphere = 'both',s = 60)\n",
    "# uvw3.scatter(figure = fig,c=cmap, axes_labels=[\"x\", \"y\", \"z\"], grid=True,hemisphere = 'both', cmap = 'plasma', s = 60)"
   ]
  },
  {
   "cell_type": "code",
   "execution_count": 145,
   "id": "athletic-result",
   "metadata": {},
   "outputs": [],
   "source": [
    "fig = orimatched.axis.scatter(return_figure = True,c=cmap, axes_labels=[\"x\", \"y\", \"z\"], grid=True,hemisphere = 'both',s = 60)\n",
    "ori.axis.scatter(figure = fig,c=cmap, axes_labels=[\"x\", \"y\", \"z\"], grid=True,hemisphere = 'both', cmap = 'plasma', s = 60)"
   ]
  },
  {
   "cell_type": "code",
   "execution_count": 18,
   "id": "disabled-partner",
   "metadata": {},
   "outputs": [],
   "source": [
    "ckey = IPFColorKeyTSL(ori.symmetry)"
   ]
  },
  {
   "cell_type": "code",
   "execution_count": 19,
   "id": "restricted-logistics",
   "metadata": {},
   "outputs": [],
   "source": [
    "rgbz = ckey.orientation2color(ori)\n",
    "cmap = np.linspace(0, 1, ori.size)"
   ]
  },
  {
   "cell_type": "code",
   "execution_count": null,
   "id": "senior-thompson",
   "metadata": {},
   "outputs": [],
   "source": [
    "v = Vector3d(((1, 0, 0), (0, 1, 0), (0, 0, 1)))\n",
    "ori.scatter(\"ipf\", direction=v, c=cmap)"
   ]
  },
  {
   "cell_type": "code",
   "execution_count": null,
   "id": "interim-serbia",
   "metadata": {},
   "outputs": [],
   "source": [
    "vec = Vector3d(ori).in_fundamental_sector(symmetry.Oh)\n",
    "\n",
    "cmap = np.linspace(0, 1, vec.size)\n",
    "fig_kwargs = dict(figsize=(5, 5))\n",
    "labels = [\"x\", \"y\", None]\n",
    "vec.scatter(    \n",
    "    hemisphere=\"upper\",\n",
    "    axes_labels=labels,\n",
    "    show_hemisphere_label=True,\n",
    "    figure_kwargs=fig_kwargs,\n",
    "    c = cmap)"
   ]
  },
  {
   "cell_type": "code",
   "execution_count": 71,
   "id": "coastal-street",
   "metadata": {},
   "outputs": [
    {
     "ename": "NameError",
     "evalue": "name 'plot_matchedandtrue' is not defined",
     "output_type": "error",
     "traceback": [
      "\u001b[0;31m---------------------------------------------------------------------------\u001b[0m",
      "\u001b[0;31mNameError\u001b[0m                                 Traceback (most recent call last)",
      "\u001b[0;32m<ipython-input-71-bae7fc46d015>\u001b[0m in \u001b[0;36m<module>\u001b[0;34m\u001b[0m\n\u001b[0;32m----> 1\u001b[0;31m \u001b[0mplot_matchedandtrue\u001b[0m\u001b[0;34m(\u001b[0m\u001b[0;36m18\u001b[0m\u001b[0;34m)\u001b[0m\u001b[0;34m\u001b[0m\u001b[0;34m\u001b[0m\u001b[0m\n\u001b[0m",
      "\u001b[0;31mNameError\u001b[0m: name 'plot_matchedandtrue' is not defined"
     ]
    }
   ],
   "source": [
    "plot_matchedandtrue(18)"
   ]
  },
  {
   "cell_type": "code",
   "execution_count": 42,
   "id": "worth-enhancement",
   "metadata": {},
   "outputs": [],
   "source": [
    "oristrue = Orientation.from_euler(np.radians(eulers1[:,:,:]),symmetry=symmetry.Oh)\n",
    "orismatched = Orientation.from_euler(np.radians(result['orientation'][:,:,0,:]),symmetry=symmetry.Oh)"
   ]
  },
  {
   "cell_type": "code",
   "execution_count": 43,
   "id": "secondary-background",
   "metadata": {},
   "outputs": [],
   "source": [
    "misangles = np.degrees((oristrue- orismatched).angle.data)\n",
    "misangles = misangles.flatten()"
   ]
  },
  {
   "cell_type": "code",
   "execution_count": 63,
   "id": "arctic-split",
   "metadata": {},
   "outputs": [
    {
     "data": {
      "text/plain": [
       "40.97825716524681"
      ]
     },
     "execution_count": 63,
     "metadata": {},
     "output_type": "execute_result"
    }
   ],
   "source": [
    "np.sqrt(np.mean(misangles**2))"
   ]
  },
  {
   "cell_type": "code",
   "execution_count": 44,
   "id": "advised-costume",
   "metadata": {},
   "outputs": [
    {
     "data": {
      "text/plain": [
       "3.7052100843214166"
      ]
     },
     "execution_count": 44,
     "metadata": {},
     "output_type": "execute_result"
    }
   ],
   "source": [
    "np.mean(misangles)"
   ]
  },
  {
   "cell_type": "code",
   "execution_count": 29,
   "id": "ruled-accent",
   "metadata": {},
   "outputs": [
    {
     "data": {
      "text/plain": [
       "14.056356776187195"
      ]
     },
     "execution_count": 29,
     "metadata": {},
     "output_type": "execute_result"
    }
   ],
   "source": [
    "np.std(misangles)"
   ]
  },
  {
   "cell_type": "code",
   "execution_count": 30,
   "id": "commercial-printing",
   "metadata": {},
   "outputs": [
    {
     "data": {
      "text/plain": [
       "0.0036363636363636364"
      ]
     },
     "execution_count": 30,
     "metadata": {},
     "output_type": "execute_result"
    }
   ],
   "source": [
    "np.count_nonzero(misangles < 1)/misangles.size"
   ]
  },
  {
   "cell_type": "code",
   "execution_count": 31,
   "id": "composed-nature",
   "metadata": {},
   "outputs": [
    {
     "data": {
      "text/plain": [
       "0.02727272727272727"
      ]
     },
     "execution_count": 31,
     "metadata": {},
     "output_type": "execute_result"
    }
   ],
   "source": [
    "np.count_nonzero(misangles < 5)/misangles.size"
   ]
  },
  {
   "cell_type": "code",
   "execution_count": 34,
   "id": "suffering-vocabulary",
   "metadata": {},
   "outputs": [
    {
     "data": {
      "text/plain": [
       "0.2"
      ]
     },
     "execution_count": 34,
     "metadata": {},
     "output_type": "execute_result"
    }
   ],
   "source": [
    "np.count_nonzero(misangles2 < 2)/misangles2.size"
   ]
  },
  {
   "cell_type": "code",
   "execution_count": 33,
   "id": "hawaiian-malaysia",
   "metadata": {},
   "outputs": [],
   "source": [
    "misangles2 = np.delete(misangles, np.where(misangles > 5))"
   ]
  },
  {
   "cell_type": "code",
   "execution_count": 35,
   "id": "consolidated-tenant",
   "metadata": {},
   "outputs": [
    {
     "data": {
      "text/plain": [
       "3.0990547378362567"
      ]
     },
     "execution_count": 35,
     "metadata": {},
     "output_type": "execute_result"
    }
   ],
   "source": [
    "np.sqrt(np.mean(misangles2**2))"
   ]
  },
  {
   "cell_type": "code",
   "execution_count": 36,
   "id": "disciplinary-ground",
   "metadata": {},
   "outputs": [
    {
     "data": {
      "text/plain": [
       "2.853020201260336"
      ]
     },
     "execution_count": 36,
     "metadata": {},
     "output_type": "execute_result"
    }
   ],
   "source": [
    "np.mean(misangles2)"
   ]
  },
  {
   "cell_type": "code",
   "execution_count": 37,
   "id": "standing-sailing",
   "metadata": {},
   "outputs": [
    {
     "data": {
      "text/plain": [
       "1.210130571180557"
      ]
     },
     "execution_count": 37,
     "metadata": {},
     "output_type": "execute_result"
    }
   ],
   "source": [
    "np.std(misangles2)"
   ]
  },
  {
   "cell_type": "code",
   "execution_count": 38,
   "id": "bulgarian-happening",
   "metadata": {},
   "outputs": [
    {
     "data": {
      "text/plain": [
       "[<matplotlib.lines.Line2D at 0x7fca30f6a610>]"
      ]
     },
     "execution_count": 38,
     "metadata": {},
     "output_type": "execute_result"
    }
   ],
   "source": [
    "import numpy as np\n",
    "import scipy.stats as stats\n",
    "\n",
    "misangles2.sort()\n",
    "mean = np.mean(misangles2)\n",
    "std = np.std(misangles2)\n",
    "pdf = stats.norm.pdf(misangles2, mean, std)\n",
    "plt.plot(misangles2, pdf) "
   ]
  },
  {
   "cell_type": "code",
   "execution_count": 62,
   "id": "sunset-samba",
   "metadata": {},
   "outputs": [],
   "source": [
    "misoris = np.zeros((result['orientation'].shape[0],result['orientation'].shape[1]-1,result['orientation'].shape[2]))\n",
    "for i in range(result['orientation'].shape[1]-1):\n",
    "    oris0 = Orientation.from_euler(np.radians(result['orientation'][:,i,:,:]),symmetry=symmetry.Oh)\n",
    "    oris1 = Orientation.from_euler(np.radians(result['orientation'][:,i+1,:,:]),symmetry=symmetry.Oh)\n",
    "    mis = (oris0[:] - oris1[:])\n",
    "    misoris[:,i] = np.degrees((mis).angle.data)"
   ]
  },
  {
   "cell_type": "code",
   "execution_count": null,
   "id": "4553fbaf-3e54-4272-9318-bfe9b68fbf82",
   "metadata": {},
   "outputs": [],
   "source": []
  },
  {
   "cell_type": "code",
   "execution_count": 48,
   "id": "c77ab9f9-8440-4599-a8d4-4f8f17dc13b4",
   "metadata": {},
   "outputs": [
    {
     "data": {
      "text/plain": [
       "array([4.74690844, 5.03685504, 6.26239765, 5.19524158, 4.82371699,\n",
       "       4.81646553, 5.84440027, 5.65674132, 3.604036  , 5.30334922])"
      ]
     },
     "execution_count": 48,
     "metadata": {},
     "output_type": "execute_result"
    }
   ],
   "source": [
    "misoris[13,:,0]"
   ]
  },
  {
   "cell_type": "code",
   "execution_count": 66,
   "id": "central-twenty",
   "metadata": {},
   "outputs": [],
   "source": [
    "misoris2 = misoris[:,:,0].flatten()"
   ]
  },
  {
   "cell_type": "code",
   "execution_count": 57,
   "id": "minute-token",
   "metadata": {},
   "outputs": [
    {
     "data": {
      "text/plain": [
       "9.318430068412436"
      ]
     },
     "execution_count": 57,
     "metadata": {},
     "output_type": "execute_result"
    }
   ],
   "source": [
    "np.mean(misoris2)"
   ]
  },
  {
   "cell_type": "code",
   "execution_count": 41,
   "id": "literary-fitting",
   "metadata": {},
   "outputs": [
    {
     "ename": "NameError",
     "evalue": "name 'misoris2' is not defined",
     "output_type": "error",
     "traceback": [
      "\u001b[0;31m---------------------------------------------------------------------------\u001b[0m",
      "\u001b[0;31mNameError\u001b[0m                                 Traceback (most recent call last)",
      "\u001b[0;32m<ipython-input-41-b43382c5c68f>\u001b[0m in \u001b[0;36m<module>\u001b[0;34m\u001b[0m\n\u001b[0;32m----> 1\u001b[0;31m \u001b[0mnp\u001b[0m\u001b[0;34m.\u001b[0m\u001b[0mstd\u001b[0m\u001b[0;34m(\u001b[0m\u001b[0mmisoris2\u001b[0m\u001b[0;34m)\u001b[0m\u001b[0;34m\u001b[0m\u001b[0;34m\u001b[0m\u001b[0m\n\u001b[0m",
      "\u001b[0;31mNameError\u001b[0m: name 'misoris2' is not defined"
     ]
    }
   ],
   "source": [
    "np.std(misoris2)"
   ]
  },
  {
   "cell_type": "code",
   "execution_count": 60,
   "id": "6255d477-d434-4630-b6e8-bd606cc3059a",
   "metadata": {},
   "outputs": [
    {
     "data": {
      "text/plain": [
       "array([[ 3.05522291,  7.00207874,  3.57370167, ...,  7.00324446,\n",
       "         5.3430338 ,  5.11548533],\n",
       "       [ 6.68368672,  3.89192374,  5.78401525, ...,  6.83002189,\n",
       "         5.0447401 ,  6.3592596 ],\n",
       "       [ 5.65571358,  5.38675107,  5.1477056 , ...,  5.60129647,\n",
       "         4.24118779,  5.22137165],\n",
       "       ...,\n",
       "       [ 7.06494051,  3.74344003, 42.33262426, ...,  4.97713246,\n",
       "         5.59052029, 59.42292021],\n",
       "       [ 5.09533853,  5.09532819,  5.10153939, ...,  6.64377382,\n",
       "         9.16672825,  4.22413623],\n",
       "       [35.27347651, 42.38842371,  5.79342031, ...,  3.5754367 ,\n",
       "         4.46105559,  5.08582369]])"
      ]
     },
     "execution_count": 60,
     "metadata": {},
     "output_type": "execute_result"
    }
   ],
   "source": [
    "misoris[:,:,0]"
   ]
  },
  {
   "cell_type": "code",
   "execution_count": 51,
   "id": "adopted-signature",
   "metadata": {},
   "outputs": [
    {
     "data": {
      "text/plain": [
       "16.078578144414973"
      ]
     },
     "execution_count": 51,
     "metadata": {},
     "output_type": "execute_result"
    }
   ],
   "source": [
    "np.sqrt(np.mean((misoris2 -5)**2))"
   ]
  },
  {
   "cell_type": "code",
   "execution_count": 67,
   "id": "adjusted-editing",
   "metadata": {},
   "outputs": [],
   "source": [
    "misoris2 = np.delete(misoris2, np.where(np.abs(misoris2-5) > 10))"
   ]
  },
  {
   "cell_type": "code",
   "execution_count": 68,
   "id": "ca1afb10-5d38-47e7-ba45-876c832d6c46",
   "metadata": {},
   "outputs": [
    {
     "data": {
      "text/plain": [
       "5.181476876344765"
      ]
     },
     "execution_count": 68,
     "metadata": {},
     "output_type": "execute_result"
    }
   ],
   "source": [
    "misoris2.mean()"
   ]
  },
  {
   "cell_type": "code",
   "execution_count": 70,
   "id": "worse-solomon",
   "metadata": {},
   "outputs": [
    {
     "data": {
      "text/plain": [
       "0.897"
      ]
     },
     "execution_count": 70,
     "metadata": {},
     "output_type": "execute_result"
    }
   ],
   "source": [
    "misoris2.size/misoris[:,:,0].size"
   ]
  },
  {
   "cell_type": "code",
   "execution_count": 294,
   "id": "invalid-crowd",
   "metadata": {},
   "outputs": [
    {
     "data": {
      "text/plain": [
       "[<matplotlib.lines.Line2D at 0x7ff5cc33aa00>]"
      ]
     },
     "execution_count": 294,
     "metadata": {},
     "output_type": "execute_result"
    }
   ],
   "source": [
    "import scipy.stats as stats\n",
    "\n",
    "misoris2.sort()\n",
    "mean = np.mean(misoris2)\n",
    "std = np.std(misoris2)\n",
    "pdf = stats.norm.pdf(misoris2, mean, std)\n",
    "plt.plot(misoris2, pdf) "
   ]
  },
  {
   "cell_type": "code",
   "execution_count": 129,
   "id": "b76ddaed-a56d-43d3-913c-35d34dbe3142",
   "metadata": {},
   "outputs": [],
   "source": [
    "where = np.where(np.abs(misoris[:,:,0]-5) > 2)"
   ]
  },
  {
   "cell_type": "code",
   "execution_count": 130,
   "id": "8b60d5f5-8efd-4a8c-a04d-4e45b0df92de",
   "metadata": {},
   "outputs": [
    {
     "data": {
      "text/plain": [
       "(array([ 0,  1,  1,  2,  2,  5,  5,  6,  6,  7,  7,  7,  8,  8,  9,  9, 12,\n",
       "        12, 15, 20, 20, 21, 21, 22, 24, 24, 29, 29, 35, 35, 36, 41, 41, 41,\n",
       "        48, 51, 51, 53, 53, 56, 56, 58, 58, 64, 65, 66, 66, 70, 78, 78, 80,\n",
       "        82, 89, 89, 96, 96, 99]),\n",
       " array([9, 1, 2, 4, 5, 1, 2, 0, 1, 0, 7, 8, 5, 6, 3, 4, 7, 8, 8, 7, 8, 8,\n",
       "        9, 9, 0, 9, 1, 2, 4, 5, 7, 2, 3, 9, 8, 1, 2, 3, 4, 8, 9, 3, 4, 3,\n",
       "        0, 0, 1, 0, 2, 3, 4, 9, 3, 4, 0, 1, 6]))"
      ]
     },
     "execution_count": 130,
     "metadata": {},
     "output_type": "execute_result"
    }
   ],
   "source": [
    "where"
   ]
  },
  {
   "cell_type": "code",
   "execution_count": 53,
   "id": "a665f390-ef45-41cc-80b4-a260d034ed7c",
   "metadata": {},
   "outputs": [],
   "source": [
    "newbest = np.zeros((result['orientation'].shape[0],result['orientation'].shape[1]),np.int16)"
   ]
  },
  {
   "cell_type": "code",
   "execution_count": 54,
   "id": "4b0d5530-c787-40b7-a087-6e4660813142",
   "metadata": {
    "collapsed": true,
    "jupyter": {
     "outputs_hidden": true
    },
    "tags": []
   },
   "outputs": [
    {
     "data": {
      "text/plain": [
       "array([[0, 0, 0, 0, 0, 0, 0, 0, 0, 0, 0],\n",
       "       [0, 0, 0, 0, 0, 0, 0, 0, 0, 0, 0],\n",
       "       [0, 0, 0, 0, 0, 0, 0, 0, 0, 0, 0],\n",
       "       [0, 0, 0, 0, 0, 0, 0, 0, 0, 0, 0],\n",
       "       [0, 0, 0, 0, 0, 0, 0, 0, 0, 0, 0],\n",
       "       [0, 0, 0, 0, 0, 0, 0, 0, 0, 0, 0],\n",
       "       [0, 0, 0, 0, 0, 0, 0, 0, 0, 0, 0],\n",
       "       [0, 0, 0, 0, 0, 0, 0, 0, 0, 0, 0],\n",
       "       [0, 0, 0, 0, 0, 0, 0, 0, 0, 0, 0],\n",
       "       [0, 0, 0, 0, 0, 0, 0, 0, 0, 0, 0],\n",
       "       [0, 0, 0, 0, 0, 0, 0, 0, 0, 0, 0],\n",
       "       [0, 0, 0, 0, 0, 0, 0, 0, 0, 0, 0],\n",
       "       [0, 0, 0, 0, 0, 0, 0, 0, 0, 0, 0],\n",
       "       [0, 0, 0, 0, 0, 0, 0, 0, 0, 0, 0],\n",
       "       [0, 0, 0, 0, 0, 0, 0, 0, 0, 0, 0],\n",
       "       [0, 0, 0, 0, 0, 0, 0, 0, 0, 0, 0],\n",
       "       [0, 0, 0, 0, 0, 0, 0, 0, 0, 0, 0],\n",
       "       [0, 0, 0, 0, 0, 0, 0, 0, 0, 0, 0],\n",
       "       [0, 0, 0, 0, 0, 0, 0, 0, 0, 0, 0],\n",
       "       [0, 0, 0, 0, 0, 0, 0, 0, 0, 0, 0],\n",
       "       [0, 0, 0, 0, 0, 0, 0, 0, 0, 0, 0],\n",
       "       [0, 0, 0, 0, 0, 0, 0, 0, 0, 0, 0],\n",
       "       [0, 0, 0, 0, 0, 0, 0, 0, 0, 0, 0],\n",
       "       [0, 0, 0, 0, 0, 0, 0, 0, 0, 0, 0],\n",
       "       [0, 0, 0, 0, 0, 0, 0, 0, 0, 0, 0],\n",
       "       [0, 0, 0, 0, 0, 0, 0, 0, 0, 0, 0],\n",
       "       [0, 0, 0, 0, 0, 0, 0, 0, 0, 0, 0],\n",
       "       [0, 0, 0, 0, 0, 0, 0, 0, 0, 0, 0],\n",
       "       [0, 0, 0, 0, 0, 0, 0, 0, 0, 0, 0],\n",
       "       [0, 0, 0, 0, 0, 0, 0, 0, 0, 0, 0],\n",
       "       [0, 0, 0, 0, 0, 0, 0, 0, 0, 0, 0],\n",
       "       [0, 0, 0, 0, 0, 0, 0, 0, 0, 0, 0],\n",
       "       [0, 0, 0, 0, 0, 0, 0, 0, 0, 0, 0],\n",
       "       [0, 0, 0, 0, 0, 0, 0, 0, 0, 0, 0],\n",
       "       [0, 0, 0, 0, 0, 0, 0, 0, 0, 0, 0],\n",
       "       [0, 0, 0, 0, 0, 0, 0, 0, 0, 0, 0],\n",
       "       [0, 0, 0, 0, 0, 0, 0, 0, 0, 0, 0],\n",
       "       [0, 0, 0, 0, 0, 0, 0, 0, 0, 0, 0],\n",
       "       [0, 0, 0, 0, 0, 0, 0, 0, 0, 0, 0],\n",
       "       [0, 0, 0, 0, 0, 0, 0, 0, 0, 0, 0],\n",
       "       [0, 0, 0, 0, 0, 0, 0, 0, 0, 0, 0],\n",
       "       [0, 0, 0, 0, 0, 0, 0, 0, 0, 0, 0],\n",
       "       [0, 0, 0, 0, 0, 0, 0, 0, 0, 0, 0],\n",
       "       [0, 0, 0, 0, 0, 0, 0, 0, 0, 0, 0],\n",
       "       [0, 0, 0, 0, 0, 0, 0, 0, 0, 0, 0],\n",
       "       [0, 0, 0, 0, 0, 0, 0, 0, 0, 0, 0],\n",
       "       [0, 0, 0, 0, 0, 0, 0, 0, 0, 0, 0],\n",
       "       [0, 0, 0, 0, 0, 0, 0, 0, 0, 0, 0],\n",
       "       [0, 0, 0, 0, 0, 0, 0, 0, 0, 0, 0],\n",
       "       [0, 0, 0, 0, 0, 0, 0, 0, 0, 0, 0]], dtype=int16)"
      ]
     },
     "execution_count": 54,
     "metadata": {},
     "output_type": "execute_result"
    }
   ],
   "source": [
    "newbest"
   ]
  },
  {
   "cell_type": "code",
   "execution_count": 128,
   "id": "0f4b0a36-de5e-4d42-82aa-321d7ccbe766",
   "metadata": {},
   "outputs": [],
   "source": [
    "misoris = np.zeros((result['orientation'].shape[0],result['orientation'].shape[1]-1,result['orientation'].shape[2]))\n",
    "for i in range(result['orientation'].shape[1]-1):\n",
    "    oris0 = Orientation.from_euler(np.radians(result['orientation'][:,i,:,:]),symmetry=symmetry.Oh)\n",
    "    oris1 = Orientation.from_euler(np.radians(result['orientation'][:,i+1,:,:]),symmetry=symmetry.Oh)\n",
    "    mis = (oris0[:] - oris1[:])\n",
    "    misoris[:,i] = np.degrees((mis).angle.data)"
   ]
  },
  {
   "cell_type": "code",
   "execution_count": 132,
   "id": "dd646d1d-4d4f-4db4-abd6-93300cbc4549",
   "metadata": {
    "tags": []
   },
   "outputs": [],
   "source": [
    "newbest = np.zeros((result['orientation'].shape[0],result['orientation'].shape[1]),np.int16)\n",
    "\n",
    "for k in range(20):\n",
    "    newresult= np.zeros((100,11,3))\n",
    "    for i in range(result['orientation'].shape[0]):\n",
    "        for j in range(result['orientation'].shape[1]):\n",
    "            newresult[i,j] = result['orientation'][i,j,newbest[i,j],:]\n",
    "\n",
    "    misoris = np.zeros((result['orientation'].shape[0],result['orientation'].shape[1]-1))\n",
    "\n",
    "    for i in range(result['orientation'].shape[1]-1):\n",
    "        oris0 = Orientation.from_euler(np.radians(newresult[:,i,:]),symmetry=symmetry.Oh)\n",
    "        oris1 = Orientation.from_euler(np.radians(newresult[:,i+1,:]),symmetry=symmetry.Oh)\n",
    "        mis = (oris0[:] - oris1[:])\n",
    "        misoris[:,i] = np.degrees((mis).angle.data)\n",
    "        # oris0 = oris0.map_into_symmetry_reduced_zone()\n",
    "        # oris1 = oris1.map_into_symmetry_reduced_zone()\n",
    "        # misoris[:,i] = np.degrees(oris0.angle_with(oris1).data)\n",
    "\n",
    "    where = np.where(np.abs(misoris[:,:]-5) > 3)\n",
    "    for i in range(where[0].size-1):\n",
    "        if where[0][i] == where[0][i+1]:\n",
    "            newbest[where[0][i],where[1][i+1]] +=1\n",
    "        elif where[1][i] == 0:\n",
    "            newbest[where[0][i],0] +=1\n",
    "        elif where[1][i] == 9:\n",
    "            newbest[where[0][i],10] +=1"
   ]
  },
  {
   "cell_type": "code",
   "execution_count": 133,
   "id": "db5edf21-f3d0-48ca-9330-04b89e41db6c",
   "metadata": {},
   "outputs": [
    {
     "data": {
      "text/plain": [
       "(array([ 1,  2,  5,  6,  7,  7,  7,  8,  9, 12, 20, 21, 21, 22, 24, 29, 35,\n",
       "        41, 41, 41, 53, 56, 56, 58, 65, 66, 70, 78, 82, 89, 96]),\n",
       " array([ 2,  5,  2,  1,  0,  7,  8,  6,  4,  8,  8,  9, 10, 10,  0,  2,  5,\n",
       "         3,  9, 10,  4,  9, 10,  4,  0,  1,  0,  3, 10,  4,  1]))"
      ]
     },
     "execution_count": 133,
     "metadata": {},
     "output_type": "execute_result"
    }
   ],
   "source": [
    "newbest.nonzero()"
   ]
  },
  {
   "cell_type": "code",
   "execution_count": 91,
   "id": "dfbbb15f-11e5-4741-8763-10b6b925b114",
   "metadata": {},
   "outputs": [],
   "source": [
    "test =np.squeeze(np.take_along_axis(result['orientation'], newbest[...,np.newaxis,np.newaxis],axis = 2))"
   ]
  },
  {
   "cell_type": "code",
   "execution_count": 92,
   "id": "b5f04709-3778-4e31-896e-9036b1f83317",
   "metadata": {},
   "outputs": [],
   "source": [
    "np.testing.assert_allclose(test,newresult)"
   ]
  },
  {
   "cell_type": "code",
   "execution_count": 74,
   "id": "95fec276-e6e6-4308-b301-3c2fc89f0231",
   "metadata": {},
   "outputs": [],
   "source": [
    "from orix import plot"
   ]
  },
  {
   "cell_type": "code",
   "execution_count": 134,
   "id": "1ed1a57a-fc44-4b88-8c14-723965d2ca59",
   "metadata": {},
   "outputs": [],
   "source": [
    "def plot_matchedandtrue_Oh(num):\n",
    "    \n",
    "    \n",
    "    oritrue = Orientation.from_euler(\n",
    "        np.radians(eulers1[num,:,:]),\n",
    "        symmetry=symmetry.Oh\n",
    "    )\n",
    "    orimatched = Orientation.from_euler(\n",
    "    np.radians(result['orientation'][num,:,0,:]),\n",
    "    symmetry=symmetry.Oh\n",
    "    )\n",
    "    orishifted = Orientation.from_euler(\n",
    "    np.radians(newresult[num,:,:]),\n",
    "    symmetry=symmetry.Oh\n",
    "    )\n",
    "    ckey = plot.IPFColorKeyTSL(oritrue.symmetry)\n",
    "    rgbz = ckey.orientation2color(oritrue)\n",
    "    cmap = np.linspace(0, 1, oritrue.size)\n",
    "    # v = Vector3d(((1, 0, 0), (0, 1, 0), (0, 0, 1)))\n",
    "    v = Vector3d(((0, 0, 1)))\n",
    "    oritrue.scatter(\"ipf\", direction=v, c=cmap)\n",
    "    orimatched.scatter(\"ipf\", direction=v, c=cmap)\n",
    "    orishifted.scatter(\"ipf\", direction=v, c=cmap)"
   ]
  },
  {
   "cell_type": "code",
   "execution_count": 136,
   "id": "dc6432a5-47fc-4576-ad0b-21644fda3b0f",
   "metadata": {},
   "outputs": [],
   "source": [
    "plot_matchedandtrue_Oh(56)"
   ]
  },
  {
   "cell_type": "code",
   "execution_count": 278,
   "id": "1f7d1a35-9e2c-48dc-afb1-769c60bf5c00",
   "metadata": {},
   "outputs": [],
   "source": [
    "misoris = np.zeros((result['orientation'].shape[0],result['orientation'].shape[1]-1))\n",
    "for i in range(result['orientation'].shape[1]-1):\n",
    "    oris0 = Orientation.from_euler(np.radians(newresult[:,i,:]),symmetry=symmetry.Oh)\n",
    "    oris1 = Orientation.from_euler(np.radians(newresult[:,i+1,:]),symmetry=symmetry.Oh)\n",
    "    mis = (oris0[:] - oris1[:])\n",
    "    misoris[:,i] = np.degrees((mis).angle.data)"
   ]
  },
  {
   "cell_type": "code",
   "execution_count": 498,
   "id": "898789c8-07c6-421e-be5d-da029a1f8032",
   "metadata": {},
   "outputs": [],
   "source": [
    "where = np.where(np.abs(misoris[:,:]-5) > 5)"
   ]
  },
  {
   "cell_type": "code",
   "execution_count": 499,
   "id": "2694ae11-27ed-4d4f-b7b2-5db919a57a5d",
   "metadata": {},
   "outputs": [
    {
     "data": {
      "text/plain": [
       "(array([], dtype=int64), array([], dtype=int64))"
      ]
     },
     "execution_count": 499,
     "metadata": {},
     "output_type": "execute_result"
    }
   ],
   "source": [
    "where"
   ]
  },
  {
   "cell_type": "code",
   "execution_count": 356,
   "id": "460b586b-e40f-4e8f-8f62-2a8ca5d0fcc5",
   "metadata": {},
   "outputs": [
    {
     "data": {
      "text/plain": [
       "(array([  1,   1,   4,   5,  15,  16,  18,  21,  23,  26,  27,  30,  30,\n",
       "         33,  36,  39,  39,  39,  43,  43,  44,  50,  51,  52,  57,  63,\n",
       "         63,  63,  63,  64,  64,  64,  64,  65,  67,  72,  80,  80,  80,\n",
       "         83,  90,  98,  98, 100, 104, 105, 105, 105, 113, 115, 116, 120,\n",
       "        123, 124, 124, 126, 130, 135, 136, 139, 146, 147, 152, 152, 152,\n",
       "        152, 152, 155, 160, 167, 167, 168, 183, 183, 183, 190, 191]),\n",
       " array([ 5,  6,  2,  5, 10,  1, 10, 10,  0,  5,  2,  9, 10,  3,  0,  1,  9,\n",
       "        10,  1,  3,  2,  3,  2,  4,  4,  3,  8,  9, 10,  7,  8,  9, 10,  4,\n",
       "         8,  1,  4,  6,  7,  0,  1,  9, 10, 10,  3,  3,  7,  8,  5,  0,  0,\n",
       "         1,  3,  1,  2,  5,  3,  6,  8,  3, 10,  3,  3,  4,  5,  6,  7,  8,\n",
       "         5,  3,  4,  0,  8,  9, 10,  7,  6]))"
      ]
     },
     "execution_count": 356,
     "metadata": {},
     "output_type": "execute_result"
    }
   ],
   "source": [
    "newbest.nonzero()"
   ]
  },
  {
   "cell_type": "code",
   "execution_count": 362,
   "id": "cca1ad60-f50a-4513-a5f5-bc921250dc9e",
   "metadata": {},
   "outputs": [],
   "source": [
    "newresult= np.zeros((200,11,3))\n",
    "for i in range(result['orientation'].shape[0]):\n",
    "    for j in range(result['orientation'].shape[1]):\n",
    "        newresult[i,j] = result['orientation'][i,j,newbest[i,j],:]"
   ]
  },
  {
   "cell_type": "code",
   "execution_count": 97,
   "id": "5eb82f16-162c-45c2-9610-18f32b6e773f",
   "metadata": {},
   "outputs": [
    {
     "data": {
      "text/plain": [
       "[[Au   0.000000 0.000000 0.000000 1.0000,\n",
       "  Au   0.000000 0.500000 0.500000 1.0000,\n",
       "  Au   0.500000 0.000000 0.500000 1.0000,\n",
       "  Au   0.500000 0.500000 0.000000 1.0000],\n",
       " [Ti   0.000000 0.000000 0.000000 1.0000,\n",
       "  Ti   0.666667 0.333333 0.500000 1.0000,\n",
       "  Ti   0.333333 0.666667 0.500000 1.0000]]"
      ]
     },
     "execution_count": 97,
     "metadata": {},
     "output_type": "execute_result"
    }
   ],
   "source": [
    "diff_lib.structures"
   ]
  },
  {
   "cell_type": "code",
   "execution_count": 178,
   "id": "84d33256-faf2-4146-aed7-cedf714e19fa",
   "metadata": {},
   "outputs": [],
   "source": [
    "data1.plot()\n"
   ]
  },
  {
   "cell_type": "code",
   "execution_count": 127,
   "id": "1398a209-6e73-4507-a307-ca1aefb2b215",
   "metadata": {},
   "outputs": [
    {
     "data": {
      "text/plain": [
       "dict_keys(['Au', 'Ti'])"
      ]
     },
     "execution_count": 127,
     "metadata": {},
     "output_type": "execute_result"
    }
   ],
   "source": [
    "diff_lib.keys()"
   ]
  },
  {
   "cell_type": "code",
   "execution_count": 104,
   "id": "869140dc-afee-4db1-aef1-18a2cd05001d",
   "metadata": {},
   "outputs": [
    {
     "data": {
      "text/plain": [
       "(2200, 10)"
      ]
     },
     "execution_count": 104,
     "metadata": {},
     "output_type": "execute_result"
    }
   ],
   "source": [
    "shapetest = result[\"phase_index\"].data.shape\n",
    "(shapetest[0] * shapetest[1],shapetest [2])"
   ]
  },
  {
   "cell_type": "code",
   "execution_count": null,
   "id": "19dece25-66e9-45aa-8634-5c173ded797a",
   "metadata": {},
   "outputs": [],
   "source": [
    "phase_names = "
   ]
  },
  {
   "cell_type": "code",
   "execution_count": 35,
   "id": "415f5700-4d39-44ee-bbd9-52bd192bbce6",
   "metadata": {},
   "outputs": [],
   "source": [
    "phase_list= PhaseList(names = phasedict)"
   ]
  },
  {
   "cell_type": "code",
   "execution_count": 140,
   "id": "a98dd15f-0a28-4bda-8cea-6ace11ff1848",
   "metadata": {},
   "outputs": [
    {
     "data": {
      "text/plain": [
       "[[Au   0.000000 0.000000 0.000000 1.0000,\n",
       "  Au   0.000000 0.500000 0.500000 1.0000,\n",
       "  Au   0.500000 0.000000 0.500000 1.0000,\n",
       "  Au   0.500000 0.500000 0.000000 1.0000],\n",
       " [Ti   0.000000 0.000000 0.000000 1.0000,\n",
       "  Ti   0.666667 0.333333 0.500000 1.0000,\n",
       "  Ti   0.333333 0.666667 0.500000 1.0000]]"
      ]
     },
     "execution_count": 140,
     "metadata": {},
     "output_type": "execute_result"
    }
   ],
   "source": [
    "xmap.phases.structures"
   ]
  },
  {
   "cell_type": "code",
   "execution_count": 139,
   "id": "84938458-b1e5-4092-bfcf-786828d3ae4d",
   "metadata": {},
   "outputs": [
    {
     "data": {
      "text/plain": [
       "Id  Name  Space group  Point group  Proper point group       Color\n",
       " 0    Au         None         None                None    tab:blue\n",
       " 1    Ti         None         None                None  tab:orange"
      ]
     },
     "execution_count": 139,
     "metadata": {},
     "output_type": "execute_result"
    }
   ],
   "source": [
    "xmap.phases"
   ]
  },
  {
   "cell_type": "code",
   "execution_count": 9,
   "id": "42e330dc-1723-4fc2-94ca-ce84723cade8",
   "metadata": {},
   "outputs": [],
   "source": [
    "from orix import plot"
   ]
  },
  {
   "cell_type": "code",
   "execution_count": 138,
   "id": "1a378b74-5d40-4383-ad09-b791dce83668",
   "metadata": {},
   "outputs": [],
   "source": [
    "from pyxem.signals.indexation_results import results_dict_to_crystal_map\n",
    "xmap = test_results_dict_to_crystal_map(result, phasedict, diff_lib)"
   ]
  },
  {
   "cell_type": "code",
   "execution_count": 122,
   "id": "903f7e58-ddea-4ea0-8633-da4a6f6f7dc7",
   "metadata": {},
   "outputs": [],
   "source": [
    "xmap = test_results_dict_to_crystal_map(result, phasedict)"
   ]
  },
  {
   "cell_type": "code",
   "execution_count": 16,
   "id": "9c8a5075-3956-4b77-857d-71638bae3bc6",
   "metadata": {},
   "outputs": [],
   "source": [
    "xmap.phases[0].name = 'au'\n",
    "xmap.phases[0].space_group = 225"
   ]
  },
  {
   "cell_type": "code",
   "execution_count": 113,
   "id": "8842ef22-0e0b-49de-9eb4-5e34c3c22998",
   "metadata": {},
   "outputs": [
    {
     "data": {
      "text/plain": [
       "10"
      ]
     },
     "execution_count": 113,
     "metadata": {},
     "output_type": "execute_result"
    }
   ],
   "source": [
    "xmap.rotations_per_point"
   ]
  },
  {
   "cell_type": "code",
   "execution_count": 533,
   "id": "3975fe35-c5f3-4f82-8898-914967ec9a1e",
   "metadata": {},
   "outputs": [
    {
     "data": {
      "text/plain": [
       "(2200,)"
      ]
     },
     "execution_count": 533,
     "metadata": {},
     "output_type": "execute_result"
    }
   ],
   "source": [
    "(xmap.phase_id == 0).shape"
   ]
  },
  {
   "cell_type": "code",
   "execution_count": 528,
   "id": "2888644e-1b47-4157-8b38-4f7dca7f660a",
   "metadata": {},
   "outputs": [],
   "source": [
    "ckey_m3m = plot.IPFColorKeyTSL(xmap.phases[\"au\"].point_group, direction=Vector3d.zvector())\n",
    "rgb_au = ckey_m3m.orientation2color(xmap[\"au\"].orientations)"
   ]
  },
  {
   "cell_type": "code",
   "execution_count": 538,
   "id": "7edf889c-adbb-43de-8c66-978bd8c71fae",
   "metadata": {},
   "outputs": [],
   "source": [
    "rgb_au = np.squeeze(rgb_au)"
   ]
  },
  {
   "cell_type": "code",
   "execution_count": 539,
   "id": "30fe1402-0014-4544-a82f-b42989936414",
   "metadata": {},
   "outputs": [],
   "source": [
    "rgb_all = np.zeros((2200, 3))\n",
    "rgb_all[xmap.phase_id == 0] = rgb_au\n",
    "\n",
    "\n",
    "xmap.plot(rgb_all)"
   ]
  },
  {
   "cell_type": "markdown",
   "id": "eb3c6d96-e8c1-48fc-84bf-a866a4a46df8",
   "metadata": {},
   "source": [
    "Specific Tilts"
   ]
  },
  {
   "cell_type": "code",
   "execution_count": 128,
   "id": "rational-period",
   "metadata": {},
   "outputs": [],
   "source": [
    "oris0 = Orientation.from_euler(np.radians(eulers1[:,4,:]),symmetry=symmetry.D6h)\n",
    "oris1 = Orientation.from_euler(np.radians(eulers1[:,5,:]),symmetry=symmetry.D6h)"
   ]
  },
  {
   "cell_type": "code",
   "execution_count": 92,
   "id": "electric-colony",
   "metadata": {},
   "outputs": [],
   "source": [
    "mis12 = oris0[0] - oris1[0]"
   ]
  },
  {
   "cell_type": "code",
   "execution_count": 93,
   "id": "funky-confidence",
   "metadata": {},
   "outputs": [
    {
     "data": {
      "text/plain": [
       "Misorientation (1,) m-3m, m-3m\n",
       "[[-0.999  -0.0105 -0.0282 -0.0315]]"
      ]
     },
     "execution_count": 93,
     "metadata": {},
     "output_type": "execute_result"
    }
   ],
   "source": [
    "mis12"
   ]
  },
  {
   "cell_type": "code",
   "execution_count": 94,
   "id": "perfect-prototype",
   "metadata": {},
   "outputs": [
    {
     "name": "stdout",
     "output_type": "stream",
     "text": [
      "Vector3d (1,)\n",
      "[[0.2409 0.6472 0.7232]] [5.]\n"
     ]
    }
   ],
   "source": [
    "print(mis12.axis, np.degrees(mis12.angle.data))"
   ]
  },
  {
   "cell_type": "code",
   "execution_count": 95,
   "id": "incorporated-declaration",
   "metadata": {},
   "outputs": [
    {
     "data": {
      "text/plain": [
       "Vector3d (1,)\n",
       "[[-0.6288 -0.0073  0.7775]]"
      ]
     },
     "execution_count": 95,
     "metadata": {},
     "output_type": "execute_result"
    }
   ],
   "source": [
    "r1 = ~oris0[0] * mis12.axis\n",
    "r1"
   ]
  },
  {
   "cell_type": "code",
   "execution_count": 96,
   "id": "celtic-showcase",
   "metadata": {},
   "outputs": [
    {
     "data": {
      "text/plain": [
       "Vector3d (1,)\n",
       "[[ 0.2749 -0.7573 -0.5924]]"
      ]
     },
     "execution_count": 96,
     "metadata": {},
     "output_type": "execute_result"
    }
   ],
   "source": [
    "r2 = ~oris0[0] * g12.axis\n",
    "r2"
   ]
  },
  {
   "cell_type": "code",
   "execution_count": 98,
   "id": "treated-begin",
   "metadata": {},
   "outputs": [
    {
     "data": {
      "text/plain": [
       "Vector3d (1,)\n",
       "[[ 0.1386 -0.0626  0.9884]]"
      ]
     },
     "execution_count": 98,
     "metadata": {},
     "output_type": "execute_result"
    }
   ],
   "source": [
    "r3 = ~oris0[0] * g12.axis.in_fundamental_sector(symmetry.Oh)\n",
    "r3"
   ]
  },
  {
   "cell_type": "code",
   "execution_count": 99,
   "id": "composed-registrar",
   "metadata": {},
   "outputs": [],
   "source": [
    "fig2 = r1.scatter(c=\"g\", s=200, hemisphere=\"both\", return_figure=True, axes_labels=[\"x\", \"y\", None])\n",
    "r2.scatter(c=\"c\", figure=fig2)\n",
    "r3.scatter(c=\"y\", figure=fig2)"
   ]
  },
  {
   "cell_type": "code",
   "execution_count": 56,
   "id": "floppy-small",
   "metadata": {},
   "outputs": [],
   "source": [
    "fig3 = g12.axis.scatter(c=\"r\", hemisphere=\"upper\", return_figure=True, axes_labels=[\"x\", \"y\", None])\n",
    "ax3 = fig3.axes[0]  # StereographicPlot\n",
    "ax3.plot(symmetry.Oh.fundamental_sector.edges)\n",
    "g12.axis.in_fundamental_sector(symmetry.Oh).scatter(c=\"b\", figure=fig3)"
   ]
  },
  {
   "cell_type": "code",
   "execution_count": 37,
   "id": "comprehensive-symbol",
   "metadata": {},
   "outputs": [],
   "source": [
    "oris0 = Orientation.from_euler(np.radians(result['orientation'][:,0,0,:]),symmetry=symmetry.Oh)\n",
    "oris1 = Orientation.from_euler(np.radians(result['orientation'][:,1,0,:]),symmetry=symmetry.Oh)"
   ]
  },
  {
   "cell_type": "code",
   "execution_count": 77,
   "id": "racial-watson",
   "metadata": {},
   "outputs": [],
   "source": [
    "oris0 = Orientation.from_euler(np.radians(result['orientation'][6,:,0,:]),symmetry=symmetry.Oh)"
   ]
  },
  {
   "cell_type": "code",
   "execution_count": 38,
   "id": "acquired-cache",
   "metadata": {},
   "outputs": [],
   "source": [
    "mis = (oris0[:] - oris1[:])\n",
    "# mis = mis.map_into_symmetry_reduced_zone()\n",
    "mis4 = (oris0[4] - oris1[4])"
   ]
  },
  {
   "cell_type": "code",
   "execution_count": 80,
   "id": "alleged-smell",
   "metadata": {},
   "outputs": [
    {
     "data": {
      "text/plain": [
       "array([338.        ,  44.67748167,  77.58663764])"
      ]
     },
     "execution_count": 80,
     "metadata": {},
     "output_type": "execute_result"
    }
   ],
   "source": [
    "eulers1[0,0,:]"
   ]
  },
  {
   "cell_type": "code",
   "execution_count": 66,
   "id": "emotional-parent",
   "metadata": {},
   "outputs": [
    {
     "data": {
      "text/plain": [
       "array([55.01641597])"
      ]
     },
     "execution_count": 66,
     "metadata": {},
     "output_type": "execute_result"
    }
   ],
   "source": [
    "np.degrees((mis4).angle.data)"
   ]
  },
  {
   "cell_type": "code",
   "execution_count": 154,
   "id": "elder-metropolitan",
   "metadata": {},
   "outputs": [],
   "source": [
    "oris0.scatter('rodrigues')"
   ]
  },
  {
   "cell_type": "code",
   "execution_count": 159,
   "id": "boolean-belle",
   "metadata": {},
   "outputs": [],
   "source": [
    "orisomething = Orientation.from_euler(np.radians(result['orientation'][0,:,0,:]),symmetry=symmetry.Oh)"
   ]
  },
  {
   "cell_type": "code",
   "execution_count": 160,
   "id": "infinite-sister",
   "metadata": {},
   "outputs": [],
   "source": [
    "orisomething.scatter('rodrigues')"
   ]
  },
  {
   "cell_type": "code",
   "execution_count": 123,
   "id": "universal-carrier",
   "metadata": {},
   "outputs": [],
   "source": [
    "data1.plot()"
   ]
  },
  {
   "cell_type": "code",
   "execution_count": 510,
   "id": "7eb58f1d-9aad-4ae4-b9b9-3de5ec0ceabd",
   "metadata": {},
   "outputs": [
    {
     "data": {
      "text/plain": [
       "1"
      ]
     },
     "execution_count": 510,
     "metadata": {},
     "output_type": "execute_result"
    }
   ],
   "source": [
    "newbest[64,9]"
   ]
  },
  {
   "cell_type": "code",
   "execution_count": 514,
   "id": "assumed-literature",
   "metadata": {},
   "outputs": [
    {
     "data": {
      "text/plain": [
       "(<AxesSubplot:>,\n",
       " <matplotlib.image.AxesImage at 0x7ff52e5eea60>,\n",
       " <matplotlib.collections.PathCollection at 0x7ff574ba49d0>)"
      ]
     },
     "execution_count": 514,
     "metadata": {},
     "output_type": "execute_result"
    }
   ],
   "source": [
    "simulations = diff_lib_au['ti']['simulations']\n",
    "px = 9\n",
    "py = 64\n",
    "n_sol = 0\n",
    "\n",
    "\n",
    "sim_sol_index = result[\"template_index\"][py, px, n_sol]\n",
    "mirrored_sol = result[\"mirrored_template\"][py, px, n_sol]\n",
    "in_plane_angle1 = result[\"orientation\"][py, px, n_sol, 0] #! the first angle is the in plane angle\n",
    "sim_sol1 = simulations[sim_sol_index]\n",
    "\n",
    "fig, ax = plt.subplots(ncols=1, figsize=(8, 4))\n",
    "\n",
    "# solution_vectors_y = Rotation.from_euler(np.deg2rad(solution[:,:,n_sol,...]))*Vector3d.yvector()\n",
    "# ax[0].imshow(get_ipf_color(solution_vectors_x))\n",
    "# ax[0].scatter([px], [py], c=\"black\", s=50)\n",
    "putls.plot_template_over_pattern(data1.inav[px, py].data,\n",
    "                                 sim_sol1,\n",
    "                                 ax=ax,\n",
    "                                 in_plane_angle=in_plane_angle1,\n",
    "                                 coordinate_system = \"cartesian\", \n",
    "                                 size_factor = 10,\n",
    "                                 vmax=1, \n",
    "                                 max_r = 200,\n",
    "                                 mirrored_template=mirrored_sol,\n",
    "                                 find_direct_beam=False,\n",
    "                                 cmap = \"inferno\"\n",
    "                                )\n"
   ]
  },
  {
   "cell_type": "code",
   "execution_count": 509,
   "id": "b62b9cc6-19a7-4b45-a56d-a45115270053",
   "metadata": {},
   "outputs": [
    {
     "data": {
      "text/plain": [
       "-0.22184874961635637"
      ]
     },
     "execution_count": 509,
     "metadata": {},
     "output_type": "execute_result"
    }
   ],
   "source": [
    "np.log10(50 * 0.01+0.1)"
   ]
  },
  {
   "cell_type": "code",
   "execution_count": 123,
   "id": "limiting-seating",
   "metadata": {},
   "outputs": [],
   "source": [
    "data1.plot()"
   ]
  },
  {
   "cell_type": "code",
   "execution_count": 90,
   "id": "spoken-peter",
   "metadata": {},
   "outputs": [],
   "source": [
    "ckey = IPFColorKeyTSL(ori.symmetry)\n",
    "rgbz = ckey.orientation2color(ori)\n",
    "cmap = np.linspace(0, 1, ori.size)"
   ]
  },
  {
   "cell_type": "code",
   "execution_count": 91,
   "id": "addressed-commodity",
   "metadata": {},
   "outputs": [],
   "source": [
    "v = Vector3d(((1, 0, 0), (0, 1, 0), (0, 0, 1)))\n",
    "ori.scatter(\"ipf\", direction=v, c=cmap)"
   ]
  },
  {
   "cell_type": "code",
   "execution_count": 23,
   "id": "respected-designation",
   "metadata": {},
   "outputs": [],
   "source": [
    "plot_matchedandtrue(0)"
   ]
  },
  {
   "cell_type": "code",
   "execution_count": null,
   "id": "chief-cornell",
   "metadata": {},
   "outputs": [],
   "source": []
  }
 ],
 "metadata": {
  "kernelspec": {
   "display_name": "pyxem0.14dev",
   "language": "python",
   "name": "pyxem0.14dev"
  },
  "language_info": {
   "codemirror_mode": {
    "name": "ipython",
    "version": 3
   },
   "file_extension": ".py",
   "mimetype": "text/x-python",
   "name": "python",
   "nbconvert_exporter": "python",
   "pygments_lexer": "ipython3",
   "version": "3.9.7"
  }
 },
 "nbformat": 4,
 "nbformat_minor": 5
}
