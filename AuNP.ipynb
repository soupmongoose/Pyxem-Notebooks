{
 "cells": [
  {
   "cell_type": "code",
   "execution_count": 1,
   "id": "793b3cdb-a4d3-4d33-bff8-c4aa9d8e04fc",
   "metadata": {},
   "outputs": [
    {
     "name": "stderr",
     "output_type": "stream",
     "text": [
      "WARNING:hyperspy.api:The ipywidgets GUI elements are not available, probably because the hyperspy_gui_ipywidgets package is not installed.\n",
      "WARNING:hyperspy.api:The traitsui GUI elements are not available, probably because the hyperspy_gui_traitsui package is not installed.\n"
     ]
    }
   ],
   "source": [
    "%matplotlib qt\n",
    "import numpy as np\n",
    "import matplotlib.pyplot as plt\n",
    "import hyperspy.api as hs"
   ]
  },
  {
   "cell_type": "code",
   "execution_count": 11,
   "id": "5b4147e6-e12e-42e1-90ff-ce5b27afa9bf",
   "metadata": {
    "tags": []
   },
   "outputs": [
    {
     "name": "stderr",
     "output_type": "stream",
     "text": [
      "ERROR:numba.cuda.cudadrv.driver:Call to cuInit results in UNKNOWN_CUDA_ERROR\n",
      "WARNING:silx.opencl.common:The module pyOpenCL has been imported but can't be used here\n"
     ]
    }
   ],
   "source": [
    "dpau = hs.load(\"128x128x12_12cm_1deg_step3_1nm_NBDalpha5_speda.hspy\")"
   ]
  },
  {
   "cell_type": "code",
   "execution_count": null,
   "id": "0dcc27bf-95ca-4fff-bdea-ae3185bf6be1",
   "metadata": {},
   "outputs": [],
   "source": []
  },
  {
   "cell_type": "code",
   "execution_count": null,
   "id": "e3463c06-266c-4d08-8439-f6ab808a8b95",
   "metadata": {
    "tags": []
   },
   "outputs": [],
   "source": [
    "dpau = hs.load('spedbBREG.hspy')"
   ]
  },
  {
   "cell_type": "code",
   "execution_count": 12,
   "id": "117e82c0-47de-4597-b983-2714c5943bff",
   "metadata": {
    "tags": []
   },
   "outputs": [],
   "source": [
    "dpau.plot(vmax = 30, cmap = 'viridis')"
   ]
  },
  {
   "cell_type": "code",
   "execution_count": null,
   "id": "78684efb-f1ba-401e-ae59-e95c8fee9aa6",
   "metadata": {
    "tags": []
   },
   "outputs": [],
   "source": [
    "dpau.center_direct_beam(method=\"blur\",half_square_width = 30, sigma = 3)"
   ]
  },
  {
   "cell_type": "code",
   "execution_count": null,
   "id": "1a4e9802-94e7-44e1-803d-36d2ed4cc8c1",
   "metadata": {
    "tags": []
   },
   "outputs": [],
   "source": [
    "from skimage import filters\n",
    "\n",
    "def crop_minimum(image, minimum=3):\n",
    "    copied = image.copy()\n",
    "    copied[copied <= minimum] = 0.\n",
    "    return copied"
   ]
  },
  {
   "cell_type": "code",
   "execution_count": null,
   "id": "b2f4d35e-d3c3-4ee7-a4e4-b4bd3f2718a6",
   "metadata": {
    "tags": []
   },
   "outputs": [],
   "source": [
    "procdat = dpau.inav[52,71].subtract_diffraction_background(method=\"difference of gaussians\",\n",
    "                                                            min_sigma=8,\n",
    "                                                            max_sigma=10, \n",
    "                                                            lazy_result=False)\n",
    "procdat = procdat.map(filters.gaussian, sigma=1, inplace=False)\n",
    "procdat = procdat.map(crop_minimum, minimum = 1, inplace=False)\n",
    "procdat = procdat.map(filters.gaussian, sigma=0.5, inplace=False)"
   ]
  },
  {
   "cell_type": "code",
   "execution_count": null,
   "id": "1213b8f8-6719-485b-8f55-e38e8426d5ae",
   "metadata": {
    "tags": []
   },
   "outputs": [],
   "source": [
    "procdat.plot(vmax = 30)"
   ]
  },
  {
   "cell_type": "code",
   "execution_count": null,
   "id": "1b9e93c9-5f03-4c7f-9a37-86521eab0ff3",
   "metadata": {
    "tags": []
   },
   "outputs": [],
   "source": [
    "dpau = dpau.subtract_diffraction_background(method=\"difference of gaussians\",\n",
    "                                                            min_sigma=8,\n",
    "                                                            max_sigma=10, \n",
    "                                                            lazy_result=True)"
   ]
  },
  {
   "cell_type": "code",
   "execution_count": null,
   "id": "1a361bea-c1fb-47aa-99f7-7b79893e6301",
   "metadata": {},
   "outputs": [],
   "source": [
    "dpau.map(filters.gaussian, sigma=1)\n",
    "dpau.map(crop_minimum, minimum = 1)\n",
    "dpau.map(filters.gaussian, sigma=0.5)"
   ]
  },
  {
   "cell_type": "code",
   "execution_count": null,
   "id": "4c66a5be-9594-48ec-b14a-40755d619760",
   "metadata": {},
   "outputs": [],
   "source": [
    "dpau.compute()"
   ]
  },
  {
   "cell_type": "code",
   "execution_count": null,
   "id": "46320e1f-dba0-47f1-a2d5-bf8a78d7cb95",
   "metadata": {},
   "outputs": [],
   "source": [
    "dpau.plot(vmax = 30)"
   ]
  },
  {
   "cell_type": "code",
   "execution_count": null,
   "id": "8935ff91-e35d-49b5-9de9-6b1f1e0f2a44",
   "metadata": {},
   "outputs": [],
   "source": [
    "dpau.save('spedaBREG.hspy')"
   ]
  },
  {
   "cell_type": "code",
   "execution_count": null,
   "id": "cd1f1230-dc4d-480f-be15-161f5fbd98b4",
   "metadata": {
    "tags": []
   },
   "outputs": [],
   "source": [
    "test_patterns = hs.signals.Signal2D((dpau.inav[43,68].data,\n",
    "                                     dpau.inav[76,40].data,\n",
    "                                     dpau.inav[95,92].data,\n",
    "                                     dpau.inav[97,55].data,\n",
    "                                    ))"
   ]
  },
  {
   "cell_type": "code",
   "execution_count": null,
   "id": "5ffc7407-c9a8-4c92-adf7-2b9356a9d599",
   "metadata": {
    "tags": []
   },
   "outputs": [],
   "source": [
    "import diffpy\n",
    "from diffsims.generators.rotation_list_generators import get_beam_directions_grid\n",
    "from diffsims.generators.diffraction_generator import DiffractionGenerator\n",
    "from diffsims.libraries.structure_library import StructureLibrary\n",
    "from diffsims.generators.library_generator import DiffractionLibraryGenerator\n",
    "from diffsims.libraries.diffraction_library import DiffractionLibrary\n",
    "from pyxem.utils.calibration_utils import find_diffraction_calibration"
   ]
  },
  {
   "cell_type": "code",
   "execution_count": null,
   "id": "2fb8c026-6094-437c-92f8-343fc6ff10e9",
   "metadata": {
    "tags": []
   },
   "outputs": [],
   "source": [
    "%%capture burn\n",
    "import diffpy\n",
    "def template_log_func(x):\n",
    "    return np.log10(x + 0.01)\n",
    "\n",
    "resolution = 1 \n",
    "grid = get_beam_directions_grid(\"cubic\", resolution, mesh=\"spherified_cube_edge\")\n",
    "structure_matrix = diffpy.structure.loadStructure(\"Data/Au_mp-81_conventional_standard.cif\")\n",
    "\n",
    "diff_gen = DiffractionGenerator(accelerating_voltage=200,\n",
    "                                precession_angle=1,\n",
    "                                scattering_params=None,\n",
    "                                shape_factor_model=\"linear\",\n",
    "                                minimum_intensity=0.1,\n",
    "                                )\n",
    "\n",
    "lib_gen = DiffractionLibraryGenerator(diff_gen)\n",
    "library_phases = StructureLibrary([\"phase\"], [structure_matrix], [grid])\n",
    "\n",
    "found_cal, corrline, found_cals = find_diffraction_calibration(test_patterns,0.0093,library_phases,lib_gen,20,\n",
    "                                                               max_excitation_error= 0.08,\n",
    "                                                               intensity_transform_function=template_log_func,\n",
    "                                                               delta_r = 0.5,\n",
    "                                                               max_r = np.sqrt(128**2+128**2) * 0.90\n",
    "                                                              )"
   ]
  },
  {
   "cell_type": "code",
   "execution_count": null,
   "id": "4879aecc-fa8c-4167-8c26-2ea3ff953fcd",
   "metadata": {},
   "outputs": [],
   "source": [
    "from diffsims.generators.rotation_list_generators import get_beam_directions_grid\n",
    "resolution = 0.5 \n",
    "grid_cub = get_beam_directions_grid(\"cubic\", resolution, mesh=\"spherified_cube_edge\")\n",
    "print(\"Number of patterns: \", grid_cub.shape[0])"
   ]
  },
  {
   "cell_type": "code",
   "execution_count": null,
   "id": "2f9c4c4b-2b67-4537-b118-e6c2aa498ecd",
   "metadata": {},
   "outputs": [],
   "source": [
    "import diffpy\n",
    "from diffsims.libraries.structure_library import StructureLibrary\n",
    "from diffsims.generators.diffraction_generator import DiffractionGenerator\n",
    "from diffsims.generators.library_generator import DiffractionLibraryGenerator"
   ]
  },
  {
   "cell_type": "code",
   "execution_count": null,
   "id": "2313be9d-4270-474d-90ff-cbfa99148826",
   "metadata": {},
   "outputs": [],
   "source": [
    "# Parameters necessary for simulating a template library\n",
    "diffraction_calibration = 0.0093\n",
    "half_shape = (dpau.data.shape[-2]//2, dpau.data.shape[-1]//2)\n",
    "reciprocal_radius = np.sqrt(half_shape[0]**2 + half_shape[1]**2)*diffraction_calibration"
   ]
  },
  {
   "cell_type": "code",
   "execution_count": null,
   "id": "59f2cf99-d411-45d6-b9ab-d90e4eeb382d",
   "metadata": {
    "tags": []
   },
   "outputs": [],
   "source": [
    "structure_matrix = diffpy.structure.loadStructure(\"Data/Au_mp-81_conventional_standard.cif\")\n",
    "grid = get_beam_directions_grid(\"cubic\", 0.5, mesh=\"spherified_cube_edge\")\n",
    "diff_gen = DiffractionGenerator(accelerating_voltage=200,\n",
    "                                precession_angle=1,\n",
    "                                scattering_params=None,\n",
    "                                shape_factor_model=\"linear\",\n",
    "                                minimum_intensity=0.1,\n",
    "                                )\n",
    "\n",
    "lib_gen = DiffractionLibraryGenerator(diff_gen)\n",
    "\n",
    "library_phases = StructureLibrary([\"Au\"], [structure_matrix], [grid])\n",
    "\n",
    "diff_lib = lib_gen.get_diffraction_library(library_phases,\n",
    "                                           calibration=diffraction_calibration,\n",
    "                                           reciprocal_radius=reciprocal_radius,\n",
    "                                           half_shape=half_shape,\n",
    "                                           with_direct_beam=False,\n",
    "                                           max_excitation_error=0.1)"
   ]
  },
  {
   "cell_type": "code",
   "execution_count": null,
   "id": "14d05836-51c2-4e04-b0e5-7148bc831cac",
   "metadata": {},
   "outputs": [],
   "source": [
    "from pyxem.utils import indexation_utils as iutls\n",
    "from pyxem.utils import plotting_utils as putls"
   ]
  },
  {
   "cell_type": "code",
   "execution_count": null,
   "id": "11b23909-ff8c-4ffc-908b-63963e39f161",
   "metadata": {},
   "outputs": [],
   "source": [
    "def template_log_func(x):\n",
    "    return np.log(x + 0.01)"
   ]
  },
  {
   "cell_type": "code",
   "execution_count": null,
   "id": "960792ef-b412-4039-8efd-037173eeb360",
   "metadata": {},
   "outputs": [],
   "source": [
    "simulations = diff_lib[\"Au\"][\"simulations\"]\n",
    "image = dpau.inav[52,71].data\n",
    "frac_keep = 1\n",
    "n_keep = None\n",
    "n_best = 1\n",
    "delta_r = 1\n",
    "delta_theta = 1\n",
    "max_r = None\n",
    "intensity_transform_function = template_log_func\n",
    "find_direct_beam = False\n",
    "direct_beam_position = None\n",
    "normalize_image = True\n",
    "normalize_templates = True\n",
    "indices_n, angles_n, correlations_n, signs_n = iutls.get_n_best_matches(image,\n",
    "                                                 simulations,\n",
    "                                                 n_best,\n",
    "                                                 frac_keep,\n",
    "                                                 n_keep,\n",
    "                                                 delta_r,\n",
    "                                                 delta_theta,\n",
    "                                                 max_r,\n",
    "                                                 intensity_transform_function,\n",
    "                                                 find_direct_beam,\n",
    "                                                 direct_beam_position,\n",
    "                                                 normalize_image,\n",
    "                                                 normalize_templates,\n",
    "                                                )"
   ]
  },
  {
   "cell_type": "code",
   "execution_count": null,
   "id": "2ff31915-e965-4d6e-b0bf-2c8ae4658168",
   "metadata": {},
   "outputs": [],
   "source": [
    "correlations_n"
   ]
  },
  {
   "cell_type": "code",
   "execution_count": null,
   "id": "5260428c-e656-4b58-930c-1bb57b297768",
   "metadata": {},
   "outputs": [],
   "source": [
    "mirrored = signs_n[0] == -1\n",
    "x = putls.plot_template_over_pattern(image,\n",
    "                                 simulations[indices_n[0]],\n",
    "                                 in_plane_angle=angles_n[0],\n",
    "                                 coordinate_system = \"cartesian\", \n",
    "                                 size_factor = 10,\n",
    "                                 vmax=20, \n",
    "                                 max_r = 200,\n",
    "                                 mirrored_template=mirrored,\n",
    "                                 find_direct_beam=False,\n",
    "                                 cmap = \"viridis\"\n",
    "                                )"
   ]
  },
  {
   "cell_type": "code",
   "execution_count": null,
   "id": "2185d67a-30ec-47d4-bbb1-73c8aefc023a",
   "metadata": {},
   "outputs": [],
   "source": [
    "from pyxem.utils import indexation_utils as iutls\n",
    "from pyxem.utils import plotting_utils as putls"
   ]
  },
  {
   "cell_type": "code",
   "execution_count": null,
   "id": "61053270-6730-4ab2-98d8-81b3d84852f2",
   "metadata": {},
   "outputs": [],
   "source": [
    "def template_log_func(x):\n",
    "    return np.log10(x + 0.01)"
   ]
  },
  {
   "cell_type": "code",
   "execution_count": null,
   "id": "283bf1e7-f585-451e-a6e1-95e874331db0",
   "metadata": {},
   "outputs": [],
   "source": [
    "frac_keep = 1\n",
    "n_best = 20\n",
    "n_keep = None\n",
    "\n",
    "delta_r = 0.5\n",
    "delta_theta = 0.5\n",
    "max_r = None\n",
    "intensity_transform_function = None\n",
    "direct_beam_position = None\n",
    "normalize_image = True\n",
    "normalize_templates = True\n",
    "\n",
    "result, phasedict = iutls.index_dataset_with_template_rotation(dpau,\n",
    "                                                    diff_lib,\n",
    "                                                    phases = [\"Au\"],\n",
    "                                                    n_best = n_best,\n",
    "                                                    frac_keep = frac_keep,\n",
    "                                                    n_keep = n_keep,\n",
    "                                                    delta_r = delta_r,\n",
    "                                                    delta_theta = delta_theta,\n",
    "                                                    max_r = None,\n",
    "                                                    intensity_transform_function=intensity_transform_function,\n",
    "                                                    normalize_images = normalize_image,\n",
    "                                                    normalize_templates=normalize_templates,\n",
    "                                                    target='gpu'\n",
    "                                                    )"
   ]
  },
  {
   "cell_type": "code",
   "execution_count": 3,
   "id": "a332600c-44c4-4c2d-b734-978d795e10f9",
   "metadata": {},
   "outputs": [],
   "source": [
    "from orix import plot\n",
    "from orix.crystal_map import CrystalMap, Phase, PhaseList\n",
    "from orix.io import load, save\n",
    "from orix.quaternion import Orientation, Rotation, symmetry\n",
    "from orix.vector import Vector3d"
   ]
  },
  {
   "cell_type": "code",
   "execution_count": null,
   "id": "83b9ec29-4682-4a36-869c-842c1b7c6421",
   "metadata": {},
   "outputs": [],
   "source": [
    "from pyxem.signals.indexation_results import results_dict_to_crystal_map"
   ]
  },
  {
   "cell_type": "code",
   "execution_count": null,
   "id": "6d012b80-e2d1-4330-a1de-86bedbf3ee26",
   "metadata": {},
   "outputs": [],
   "source": [
    "xmap = results_dict_to_crystal_map(result,phasedict)"
   ]
  },
  {
   "cell_type": "code",
   "execution_count": 4,
   "id": "1b979f20-0d92-40f1-bdc0-1fab89b6fd1b",
   "metadata": {},
   "outputs": [],
   "source": [
    "xmap = load(\"Data/AuNP0xmapBGRED.h5\") "
   ]
  },
  {
   "cell_type": "code",
   "execution_count": 5,
   "id": "50a67a54-bc4c-4a7d-b8a7-319415327f41",
   "metadata": {},
   "outputs": [],
   "source": [
    "xmap.phases[0].space_group = 225"
   ]
  },
  {
   "cell_type": "code",
   "execution_count": 8,
   "id": "458ef958-dd9a-4ae3-9f92-ec588f5e98ac",
   "metadata": {},
   "outputs": [],
   "source": [
    "ckey_m3m = plot.IPFColorKeyTSL(xmap.phases[\"Au\"].point_group, direction=Vector3d.xvector())\n",
    "rgb_Aux = ckey_m3m.orientation2color(xmap[\"Au\"].orientations)\n",
    "ckey_m3m = plot.IPFColorKeyTSL(xmap.phases[\"Au\"].point_group, direction=Vector3d.yvector())\n",
    "rgb_Auy = ckey_m3m.orientation2color(xmap[\"Au\"].orientations)\n",
    "ckey_m3m = plot.IPFColorKeyTSL(xmap.phases[\"Au\"].point_group, direction=Vector3d.zvector())\n",
    "rgb_Auz = ckey_m3m.orientation2color(xmap[\"Au\"].orientations)"
   ]
  },
  {
   "cell_type": "code",
   "execution_count": 9,
   "id": "67f7d37f-1469-4320-8f51-c8d42bae4ffe",
   "metadata": {},
   "outputs": [],
   "source": [
    "rgb_all = np.zeros((xmap.size, 3))\n",
    "rgb_all[xmap.phase_id == 0] = rgb_Cuz\n",
    "rgb_all[xmap.phase_id == -1] = [0,0,0]\n",
    "\n",
    "xmap.plot(rgb_all, remove_padding=True)"
   ]
  },
  {
   "cell_type": "code",
   "execution_count": 10,
   "id": "721d00fd-2dd1-4806-8345-104d93b30c2e",
   "metadata": {},
   "outputs": [
    {
     "data": {
      "text/plain": [
       "Phase    Orientations  Name  Space group  Point group  Proper point group     Color\n",
       "    0  16384 (100.0%)    Au        Fm-3m         m-3m                 432  tab:blue\n",
       "Properties: correlation, mirrored_template, template_index\n",
       "Scan unit: px"
      ]
     },
     "execution_count": 10,
     "metadata": {},
     "output_type": "execute_result"
    }
   ],
   "source": [
    "xmap.scan_unit()"
   ]
  },
  {
   "cell_type": "code",
   "execution_count": null,
   "id": "0366adfb-b92e-4858-980f-f9a6626485c8",
   "metadata": {},
   "outputs": [],
   "source": [
    "fig = plt.figure()\n",
    "ax0 = fig.add_subplot(311, projection=\"plot_map\")\n",
    "ax1 = fig.add_subplot(312, projection=\"plot_map\")\n",
    "ax2 = fig.add_subplot(313, projection=\"plot_map\")\n",
    "ax0.set_title(\"X\")\n",
    "ax1.set_title(\"Y\")\n",
    "ax2.set_title(\"Z\")\n",
    "ax0.plot_map(xmap, rgb_Aux, scalebar = False)\n",
    "ax1.plot_map(xmap, rgb_Auy, scalebar = False)\n",
    "ax2.plot_map(xmap, rgb_Auz, scalebar = False)"
   ]
  },
  {
   "cell_type": "code",
   "execution_count": null,
   "id": "e0b8e246-58f6-4c18-8368-d0bbcd4f8264",
   "metadata": {},
   "outputs": [],
   "source": [
    "ckey_m3m = plot.IPFColorKeyTSL(xmap.phases[\"Au\"].point_group, direction=Vector3d.xvector())\n",
    "rgb_Aux = ckey_m3m.orientation2color(xmap2[\"Au\"].orientations)\n",
    "ckey_m3m = plot.IPFColorKeyTSL(xmap.phases[\"Au\"].point_group, direction=Vector3d.yvector())\n",
    "rgb_Auy = ckey_m3m.orientation2color(xmap2[\"Au\"].orientations)\n",
    "ckey_m3m = plot.IPFColorKeyTSL(xmap.phases[\"Au\"].point_group, direction=Vector3d.zvector())\n",
    "rgb_Auz = ckey_m3m.orientation2color(xmap2[\"Au\"].orientations)"
   ]
  },
  {
   "cell_type": "code",
   "execution_count": null,
   "id": "a536898c-5802-4a45-8919-1655fb15aed1",
   "metadata": {},
   "outputs": [],
   "source": [
    "fig = plt.figure()\n",
    "ax0 = fig.add_subplot(311, projection=\"plot_map\")\n",
    "ax1 = fig.add_subplot(312, projection=\"plot_map\")\n",
    "ax2 = fig.add_subplot(313, projection=\"plot_map\")\n",
    "ax0.set_title(\"X\")\n",
    "ax1.set_title(\"Y\")\n",
    "ax2.set_title(\"Z\")\n",
    "ax0.plot_map(xmap2, rgb_Cux, scalebar = False)\n",
    "ax1.plot_map(xmap2, rgb_Cuy, scalebar = False)\n",
    "ax2.plot_map(xmap2, rgb_Cuz, scalebar = False)"
   ]
  },
  {
   "cell_type": "code",
   "execution_count": null,
   "id": "e533d5ec-3ba8-4b5e-bd31-16b257738238",
   "metadata": {},
   "outputs": [],
   "source": [
    "fig = plt.figure()\n",
    "ax0 = fig.add_subplot(111, projection=\"plot_map\")\n",
    "ax0.set_title(\"Z\")\n",
    "ax0.plot_map(xmap, rgb_all, scalebar = False, remove_padding=True)"
   ]
  },
  {
   "cell_type": "code",
   "execution_count": null,
   "id": "cffa2b9f-4d50-4a0d-9cf5-7f584f2f5fc5",
   "metadata": {},
   "outputs": [],
   "source": [
    "xmap[\"Au\"].plot(rgb_Cuz, scalebar = False)"
   ]
  },
  {
   "cell_type": "code",
   "execution_count": null,
   "id": "22900ca4-3600-4590-9c1e-d5c36c6af7fc",
   "metadata": {},
   "outputs": [],
   "source": [
    "xmap0.plot(value = xmap0.correlation[:,0])"
   ]
  },
  {
   "cell_type": "code",
   "execution_count": null,
   "id": "73adffa0-3f5d-4f26-992f-faf66a8c21f5",
   "metadata": {},
   "outputs": [],
   "source": [
    "xmap.phases.add_not_indexed()"
   ]
  },
  {
   "cell_type": "code",
   "execution_count": null,
   "id": "7f1c874a-7665-4230-b3bd-28386490ff77",
   "metadata": {},
   "outputs": [],
   "source": [
    "xmap[(xmap.correlation[:,0] < -0.003)].phase_id = -1"
   ]
  },
  {
   "cell_type": "code",
   "execution_count": null,
   "id": "5bf0c80d-fcbc-4b1a-aa23-3163d3ba8bb2",
   "metadata": {},
   "outputs": [],
   "source": [
    "xmap0.plot()"
   ]
  },
  {
   "cell_type": "code",
   "execution_count": null,
   "id": "58989346-21a1-4999-b58c-16a4ad54d980",
   "metadata": {},
   "outputs": [],
   "source": [
    "rgb_Cuz = ckey_m3m.orientation2color(xmap[\"Au\"][(xmap.correlation[:,0] > 0)].orientations)"
   ]
  },
  {
   "cell_type": "code",
   "execution_count": null,
   "id": "e3562355-98d5-47fa-8590-1ef79e3883fc",
   "metadata": {},
   "outputs": [],
   "source": [
    "xmap['Au'].plot(value = xmap.correlation[:,0], scalebar = False)"
   ]
  },
  {
   "cell_type": "code",
   "execution_count": null,
   "id": "afffc7be-5686-4054-8772-c54d18cc05b1",
   "metadata": {},
   "outputs": [],
   "source": [
    "orifirst = xmap['Au'].orientations\n",
    "store = np.zeros((xmap['Au'].size,15))\n",
    "normcorrs = xmap['Au'].correlation[:,:]/np.linalg.norm(xmap['Au'].correlation[:,:]) \n",
    "for i in range (15):\n",
    "    corr_weight = normcorrs[:,i]/normcorrs[:,0]\n",
    "    # corr_weight = 1 # for unweighted, not recommened\n",
    "    orinext = Orientation(xmap['Au'].rotations[:,i],symmetry=symmetry.Oh)\n",
    "    store[:,i] = np.degrees((orinext - orifirst).angle.data) * abs(corr_weight)\n",
    "\n",
    "mean_misori_weighted = np.mean(store[:,1::], axis = 1)"
   ]
  },
  {
   "cell_type": "code",
   "execution_count": null,
   "id": "178700af-f14d-46c1-8046-7d40a8ee4fb5",
   "metadata": {},
   "outputs": [],
   "source": [
    "xmap['Au'].plot(value = mean_misori_weighted,scalebar = False, vmax = 10, colorbar = True)"
   ]
  },
  {
   "cell_type": "code",
   "execution_count": null,
   "id": "9ef9131f-2dbc-45de-8caf-7a1bec8fdc63",
   "metadata": {},
   "outputs": [],
   "source": [
    "normcorrs = xmap['Au'].correlation[:,:]/np.linalg.norm(xmap['Au'].correlation[:,:]) \n",
    "reliability = normcorrs[:,0] - normcorrs[:,1] "
   ]
  },
  {
   "cell_type": "code",
   "execution_count": null,
   "id": "c6b8e2fa-28b0-4057-b60a-0766213ca669",
   "metadata": {},
   "outputs": [],
   "source": [
    "xmap['Au'].plot(value = reliability,scalebar = False, colorbar = True)"
   ]
  },
  {
   "cell_type": "code",
   "execution_count": null,
   "id": "c051e7c5-b706-47b4-a016-4ce6082961d7",
   "metadata": {},
   "outputs": [],
   "source": [
    "n= np.linspace(0,4,num = 5)\n",
    "n"
   ]
  },
  {
   "cell_type": "code",
   "execution_count": null,
   "id": "288d2a85-a7a1-4fe4-88ca-45f9d8d181c0",
   "metadata": {},
   "outputs": [],
   "source": [
    "orifirst = xmap.orientations\n",
    "store = np.zeros((xmap[\"Au\"].size,20))\n",
    "for i in range (20):\n",
    "    corr_weight = xmap.correlation[:,i]/xmap.correlation[:,0]\n",
    "    orinext = Orientation(xmap.rotations[:,i],symmetry=symmetry.Oh)\n",
    "    store[:,i] = np.degrees((orinext - orifirst).angle.data) * corr_weight\n",
    "\n",
    "mean_misori_weighted = np.mean(store[:,1::], axis = 1)"
   ]
  },
  {
   "cell_type": "code",
   "execution_count": null,
   "id": "61fbf0bd-8267-4840-8cb7-c692a6f3f2f6",
   "metadata": {},
   "outputs": [],
   "source": [
    "xmap['Au'].plot(value = mean_misori_weighted,scalebar = False,vmin = 0, vmax = 10, colorbar = True)"
   ]
  },
  {
   "cell_type": "code",
   "execution_count": null,
   "id": "76c9b75f-516e-4c08-a82a-e897b4268de9",
   "metadata": {},
   "outputs": [],
   "source": [
    "xmap.orientations.scatter(projection= 'ipf', direction = Vector3d(((1, 0, 0),(0,1,0),(0,0,1))),c = n, cmap = 'viridis')"
   ]
  },
  {
   "cell_type": "code",
   "execution_count": null,
   "id": "80fe49a4-1a30-4b69-a9e6-11692b93d9c2",
   "metadata": {},
   "outputs": [],
   "source": [
    "xmap.rotations[0:2].scatter(projection= 'ipf', direction = Vector3d(((1, 0, 0),(0,1,0),(0,0,1))),c = n, cmap = 'viridis')"
   ]
  },
  {
   "cell_type": "code",
   "execution_count": null,
   "id": "2bb29ce1-3105-43f9-a40f-42d84c15e531",
   "metadata": {},
   "outputs": [],
   "source": [
    "Orientation(xmap.rotations[0:3,0:10], symmetry=symmetry.Oh).scatter(projection= 'ipf', direction = Vector3d(((1, 0, 0),(0,1,0),(0,0,1))),c = n, cmap = 'viridis')"
   ]
  },
  {
   "cell_type": "code",
   "execution_count": null,
   "id": "4619c81b-8798-4556-9bd9-3d25b069f0a6",
   "metadata": {},
   "outputs": [],
   "source": [
    "xmap.orientations.scatter(projection= 'axangle', cmap = 'viridis', c = n)"
   ]
  },
  {
   "cell_type": "code",
   "execution_count": null,
   "id": "bbc3b86d-f7ec-4774-b670-7f8b2f0def9c",
   "metadata": {},
   "outputs": [],
   "source": [
    "save(\n",
    "    filename=\"Data/AuNP0xmapBGRED.h5\",\n",
    "    object2write=xmap,\n",
    "    overwrite=True,  # Default is False\n",
    ")"
   ]
  },
  {
   "cell_type": "code",
   "execution_count": null,
   "id": "b1a9eb6e-17c5-47b6-bb68-54fcd86745c9",
   "metadata": {},
   "outputs": [],
   "source": [
    "xmap0 = load(\"Data/AuNP0xmapBGRED.h5\") \n",
    "xmap1 = load(\"Data/AuNP1xmapBGRED.h5\") \n",
    "xmap2 = load(\"Data/AuNP2xmapBGRED.h5\") "
   ]
  },
  {
   "cell_type": "code",
   "execution_count": null,
   "id": "7b2585b4-b07e-46a7-bb73-7a761d874264",
   "metadata": {},
   "outputs": [],
   "source": [
    "xmap0.phases.add_not_indexed()\n",
    "xmap1.phases.add_not_indexed()\n",
    "xmap2.phases.add_not_indexed()"
   ]
  },
  {
   "cell_type": "code",
   "execution_count": null,
   "id": "a2e4e363-e744-4d8b-a197-c05a2095f276",
   "metadata": {},
   "outputs": [],
   "source": [
    "xmap0[(xmap0.correlation[:,0] < 0.00005)].phase_id = -1\n",
    "xmap1[(xmap1.correlation[:,0] < 0.00005)].phase_id = -1\n",
    "xmap2[(xmap2.correlation[:,0] < 0.0003)].phase_id = -1"
   ]
  },
  {
   "cell_type": "code",
   "execution_count": null,
   "id": "d59846c7-83a7-4d16-afc0-f70166e62845",
   "metadata": {},
   "outputs": [],
   "source": [
    "fig = plt.figure()\n",
    "ax0 = fig.add_subplot(111, projection=\"plot_map\")\n",
    "ax0.set_title(\"Z\")\n",
    "ax0.plot_map(xmap0, rgb_all, scalebar = False, remove_padding=True)"
   ]
  },
  {
   "cell_type": "code",
   "execution_count": null,
   "id": "d27c2389-8056-432d-808e-f1abc9ce3304",
   "metadata": {},
   "outputs": [],
   "source": [
    "xmap0.plot()"
   ]
  },
  {
   "cell_type": "code",
   "execution_count": null,
   "id": "27c8905a-c037-44f5-832a-a57f7b378cae",
   "metadata": {
    "tags": []
   },
   "outputs": [],
   "source": [
    "simulations = diff_lib[\"Au\"]['simulations']\n",
    "#scan coordinate to check\n",
    "px = 95\n",
    "py = 44\n",
    "# which solution to plot\n",
    "n_sol = 5\n",
    "\n",
    "index = np.ravel_multi_index((py,px),xmap.shape)\n",
    "# query the necessary info from the solution\n",
    "sim_sol_index = xmap.template_index[index,n_sol]\n",
    "mirrored_sol = xmap.mirrored_template[index,n_sol]\n",
    "in_plane_angle = np.rad2deg(xmap.rotations[index,n_sol].to_euler())[0][0]\n",
    "# # query the appropriate template\n",
    "sim_sol = simulations[sim_sol_index]\n",
    "\n",
    "\n",
    "\n",
    "fig = plt.figure()\n",
    "ax0 = fig.add_subplot(121, projection=\"plot_map\")\n",
    "ax1 = fig.add_subplot(122)\n",
    "ax0.set_title(\"Z\")\n",
    "ax0.plot_map(xmap['Au'],rgb_Cuz, scalebar = False)\n",
    "ax0.scatter(px,py, marker = 'X', c = 'g', s = 30)\n",
    "putls.plot_template_over_pattern(dpau.inav[px, py].data,\n",
    "                                 sim_sol,\n",
    "                                 ax = ax1,\n",
    "                                 in_plane_angle=in_plane_angle,\n",
    "                                 coordinate_system = \"cartesian\", \n",
    "                                 size_factor = 10,\n",
    "                                 vmax=10,\n",
    "                                 max_r = 200,\n",
    "                                 mirrored_template=mirrored_sol,\n",
    "                                 find_direct_beam=False,\n",
    "                                 cmap = \"inferno_r\",\n",
    "                                 marker_color = \"green\"\n",
    "                                )"
   ]
  },
  {
   "cell_type": "code",
   "execution_count": null,
   "id": "47b12c40-3ddb-4079-a63a-e723eb8ac8e8",
   "metadata": {},
   "outputs": [],
   "source": [
    "xmap['Au'].plot(value = xmap.correlation[:,0],scalebar = False, colorbar = True)"
   ]
  },
  {
   "cell_type": "code",
   "execution_count": null,
   "id": "a24006c1-367b-47af-8ac2-16be00c9d726",
   "metadata": {
    "jupyter": {
     "source_hidden": true
    },
    "tags": []
   },
   "outputs": [],
   "source": [
    "newbest = np.zeros((result['orientation'].shape[0],result['orientation'].shape[1]),np.int16)\n",
    "\n",
    "for k in range(20):\n",
    "    newresult= np.zeros((1,5,3))\n",
    "    for i in range(result['orientation'].shape[0]):\n",
    "        for j in range(result['orientation'].shape[1]):\n",
    "            newresult[i,j] = result['orientation'][i,j,newbest[i,j],:]\n",
    "\n",
    "    misoris = np.zeros((result['orientation'].shape[0],result['orientation'].shape[1]-1))\n",
    "\n",
    "    oris = Orientation.from_euler(np.radians(newresult[:,:,:]),symmetry=symmetry.Oh)\n",
    "    mis = (oris[:,0] - oris[:,1])\n",
    "    misoris[:,0] = np.degrees((mis).angle.data)\n",
    "    mis = (oris[:,1] - oris[:,2])\n",
    "    misoris[:,1] = np.degrees((mis).angle.data)\n",
    "    mis = (oris[:,0] - oris[:,3])\n",
    "    misoris[:,2] = np.degrees((mis).angle.data)\n",
    "    mis = (oris[:,3] - oris[:,4])\n",
    "    misoris[:,3] = np.degrees((mis).angle.data)\n",
    "    \n",
    "    misoris[:,3]\n"
   ]
  },
  {
   "cell_type": "code",
   "execution_count": null,
   "id": "cddcb4d2-054f-441e-af4f-c593e160313d",
   "metadata": {},
   "outputs": [],
   "source": [
    "ckey_m3m = plot.IPFColorKeyTSL(xmap0.phases[\"Au\"].point_group, direction=Vector3d.zvector())\n",
    "rgb_Cuz0 = ckey_m3m.orientation2color(xmap0[\"Au\"].orientations)"
   ]
  },
  {
   "cell_type": "code",
   "execution_count": null,
   "id": "29b23b16-be34-4f0f-94a3-fb67c7223916",
   "metadata": {},
   "outputs": [],
   "source": [
    "rgb_all = np.zeros((xmap.size, 3))\n",
    "rgb_all[xmap0.phase_id == 0] = rgb_Cuz0\n",
    "rgb_all[xmap0.phase_id == -1] = [0,0,0]\n",
    "\n",
    "xmap0.plot(rgb_all, remove_padding=True)"
   ]
  },
  {
   "cell_type": "code",
   "execution_count": null,
   "id": "8738a0d1-3812-4180-a2c4-a868041d4195",
   "metadata": {},
   "outputs": [],
   "source": [
    "xmap0[\"Au\"].plot(rgb_Cuz0, scalebar = False)"
   ]
  },
  {
   "cell_type": "code",
   "execution_count": null,
   "id": "0ee90d24-2402-4c84-b7b5-106fcb3ba766",
   "metadata": {},
   "outputs": [],
   "source": [
    "ckey_m3m = plot.IPFColorKeyTSL(xmap1.phases[\"Au\"].point_group, direction=Vector3d.zvector())\n",
    "rgb_Cuz1 = ckey_m3m.orientation2color(xmap1[\"Au\"].orientations)"
   ]
  },
  {
   "cell_type": "code",
   "execution_count": null,
   "id": "98781e39-d3c7-4638-b5a5-fa51ed28aea5",
   "metadata": {},
   "outputs": [],
   "source": [
    "rgb_all = np.zeros((xmap.size, 3))\n",
    "rgb_all[xmap1.phase_id == 0] = rgb_Cuz1\n",
    "rgb_all[xmap1.phase_id == -1] = [0,0,0]\n",
    "\n",
    "xmap1.plot(rgb_all, remove_padding=True)"
   ]
  },
  {
   "cell_type": "code",
   "execution_count": null,
   "id": "be9472f6-2b18-4bd4-b36e-061fcd8f6c71",
   "metadata": {},
   "outputs": [],
   "source": [
    "ckey_m3m = plot.IPFColorKeyTSL(xmap2.phases[\"Au\"].point_group, direction=Vector3d.zvector())\n",
    "rgb_Cuz2 = ckey_m3m.orientation2color(xmap2[\"Au\"].orientations)\n",
    "\n",
    "rgb_all = np.zeros((xmap.size, 3))\n",
    "rgb_all[xmap2.phase_id == 0] = rgb_Cuz2\n",
    "rgb_all[xmap2.phase_id == -1] = [0,0,0]\n",
    "\n",
    "xmap2.plot(rgb_all, remove_padding=True)"
   ]
  },
  {
   "cell_type": "code",
   "execution_count": null,
   "id": "350be3b9-9ffe-4139-bddd-dcb1ff8f9dba",
   "metadata": {},
   "outputs": [],
   "source": [
    "# particles\n",
    "pos1 = ((39,74),(31,74),(43,80))\n",
    "pos2 = ((67,22),(60,31),(72,27))\n",
    "pos3 = ((72,14),(67,13),(77,20))\n",
    "pos4 = ((87,22),(80,21),(80,30))\n",
    "pos5 = ((108,27),(105,28),(112,35))\n",
    "pos6 = ((122,74),(120,70),(125,83))\n",
    "pos7 = ((94,94),(84,90),(86,100))\n",
    "pos8 = ((55,97),(51,95),(59,100))\n",
    "\n",
    "def simplecluster(pos):\n",
    "    mis0 = xmap0['Au'].orientations - xmap0[pos[0]].orientations\n",
    "    mis1 = xmap1['Au'].orientations - xmap1[pos[1]].orientations\n",
    "    mis2 = xmap2['Au'].orientations - xmap2[pos[2]].orientations\n",
    "\n",
    "    mean0 = xmap0['Au'][np.rad2deg(mis0.angle.data) < 2].orientations.mean()\n",
    "    mean1 = xmap1['Au'][np.rad2deg(mis1.angle.data) < 2].orientations.mean()\n",
    "    mean2 = xmap2['Au'][np.rad2deg(mis2.angle.data) < 2].orientations.mean()\n",
    "\n",
    "    means = Orientation([mean0.data,mean1.data,mean2.data], symmetry=symmetry.Oh).reshape(3)\n",
    "    means.map_into_symmetry_reduced_zone()\n",
    "    # print(np.rad2deg(xmap0[pos[0]].orientations.angle_with(xmap1[pos[1]].orientations).data))\n",
    "    # print(np.rad2deg(xmap1[pos[1]].orientations.angle_with(xmap2[pos[2]].orientations).data))\n",
    "    # print(np.rad2deg(xmap0[pos[0]].orientations.angle_with(xmap2[pos[2]].orientations).data))\n",
    "    print(np.rad2deg(means[0].angle_with(means[1]).data))\n",
    "    print(np.rad2deg(means[1].angle_with(means[2]).data))\n",
    "    print(np.rad2deg(means[0].angle_with(means[2]).data))\n",
    "    return(means)"
   ]
  },
  {
   "cell_type": "code",
   "execution_count": null,
   "id": "166284d1-9f3b-4bd6-9e06-16ba495805ee",
   "metadata": {},
   "outputs": [],
   "source": [
    "means1.map_into_symmetry_reduced_zone().scatter(projection='ipf')"
   ]
  },
  {
   "cell_type": "code",
   "execution_count": null,
   "id": "fae708e2-6a23-4558-9675-04a0893dad5e",
   "metadata": {},
   "outputs": [],
   "source": [
    "means1 = means1.map_into_symmetry_reduced_zone()"
   ]
  },
  {
   "cell_type": "code",
   "execution_count": null,
   "id": "1aa4ffd5-bf9b-4877-8320-0e93aa7c44ee",
   "metadata": {},
   "outputs": [],
   "source": [
    "print(np.rad2deg((means1[0] - means1[1]).data))\n",
    "print(np.rad2deg(means1[1].angle_with(means1[2]).data))\n",
    "print(np.rad2deg(means1[0].angle_with(means1[2]).data))"
   ]
  },
  {
   "cell_type": "code",
   "execution_count": null,
   "id": "6431a555-4444-4d0c-8ae7-62e43dbacd46",
   "metadata": {},
   "outputs": [],
   "source": [
    "means1 = simplecluster(pos1)"
   ]
  },
  {
   "cell_type": "code",
   "execution_count": null,
   "id": "0efee4ec-deb8-4c70-a35e-bfb6948f65c2",
   "metadata": {},
   "outputs": [],
   "source": [
    "means2 = simplecluster(pos2)\n",
    "print('-------')\n",
    "means3 = simplecluster(pos3)\n",
    "print('-------')\n",
    "means4 = simplecluster(pos4)\n",
    "print('-------')\n",
    "means5 = simplecluster(pos5)\n",
    "print('-------')\n",
    "means6 = simplecluster(pos6)\n",
    "print('-------')\n",
    "means7 = simplecluster(pos7)\n",
    "print('-------')\n",
    "means8 = simplecluster(pos8)\n",
    "print('-------')"
   ]
  },
  {
   "cell_type": "code",
   "execution_count": null,
   "id": "fdea6e89-02c8-491e-ba16-98ab85f6b292",
   "metadata": {},
   "outputs": [],
   "source": [
    "means1.scatter(projection='ipf')"
   ]
  },
  {
   "cell_type": "code",
   "execution_count": null,
   "id": "f8c8fe82-6f97-4590-842e-c107d56541ad",
   "metadata": {},
   "outputs": [],
   "source": []
  }
 ],
 "metadata": {
  "kernelspec": {
   "display_name": "pyxem0.14dev",
   "language": "python",
   "name": "pyxem0.14dev"
  },
  "language_info": {
   "codemirror_mode": {
    "name": "ipython",
    "version": 3
   },
   "file_extension": ".py",
   "mimetype": "text/x-python",
   "name": "python",
   "nbconvert_exporter": "python",
   "pygments_lexer": "ipython3",
   "version": "3.9.7"
  }
 },
 "nbformat": 4,
 "nbformat_minor": 5
}
