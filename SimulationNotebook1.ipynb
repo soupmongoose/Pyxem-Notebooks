{
 "cells": [
  {
   "cell_type": "code",
   "execution_count": 1,
   "id": "portuguese-thousand",
   "metadata": {},
   "outputs": [
    {
     "name": "stderr",
     "output_type": "stream",
     "text": [
      "WARNING:hyperspy.api:The ipywidgets GUI elements are not available, probably because the hyperspy_gui_ipywidgets package is not installed.\n",
      "WARNING:hyperspy.api:The traitsui GUI elements are not available, probably because the hyperspy_gui_traitsui package is not installed.\n",
      "WARNING:silx.opencl.common:The module pyOpenCL has been imported but can't be used here\n"
     ]
    }
   ],
   "source": [
    "%matplotlib qt\n",
    "\n",
    "import numpy as np\n",
    "import pyxem as pxm\n",
    "import hyperspy.api as hs\n",
    "import matplotlib.pyplot as plt\n",
    "import math\n",
    "import random"
   ]
  },
  {
   "cell_type": "code",
   "execution_count": 2,
   "id": "becoming-appliance",
   "metadata": {},
   "outputs": [],
   "source": [
    "import diffpy\n",
    "from diffsims.libraries.structure_library import StructureLibrary\n",
    "from diffsims.generators.diffraction_generator import DiffractionGenerator\n",
    "from diffsims.generators.library_generator import DiffractionLibraryGenerator\n",
    "from pyxem.utils import indexation_utils as iutls\n",
    "from pyxem.utils import plotting_utils as putls\n",
    "from pyxem.utils import polar_transform_utils as ptutls\n",
    "from diffsims.generators.rotation_list_generators import get_beam_directions_grid"
   ]
  },
  {
   "cell_type": "code",
   "execution_count": 3,
   "id": "latin-appearance",
   "metadata": {},
   "outputs": [
    {
     "name": "stderr",
     "output_type": "stream",
     "text": [
      "/home/joseph/miniconda3/envs/pyxemmaster/lib/python3.9/site-packages/diffsims/generators/sphere_mesh_generators.py:515: RuntimeWarning: invalid value encountered in true_divide\n",
      "  phi2 = sign * np.nan_to_num(np.arccos(x_comp / norm_proj))\n",
      "  5%|▍         | 52/1081 [00:00<00:01, 515.90it/s]"
     ]
    },
    {
     "name": "stdout",
     "output_type": "stream",
     "text": [
      "Number of patterns:  1081\n"
     ]
    },
    {
     "name": "stderr",
     "output_type": "stream",
     "text": [
      "                                                    \r"
     ]
    }
   ],
   "source": [
    "grid_cub = get_beam_directions_grid(\"cubic\", 0.1, mesh=\"spherified_cube_edge\")\n",
    "print(\"Number of patterns: \", grid_cub.shape[0])\n",
    "\n",
    "# Parameters necessary for simulating a template library\n",
    "diffraction_calibration = 0.01\n",
    "half_shape = (256//2, 256//2)\n",
    "reciprocal_radius = np.sqrt(half_shape[0]**2 + half_shape[1]**2)*diffraction_calibration\n",
    "# importing the structures\n",
    "structure_matrix = diffpy.structure.loadStructure(\"Au_mp-81_conventional_standard.cif\")\n",
    "\n",
    "diff_gen = DiffractionGenerator(accelerating_voltage=200,\n",
    "                                precession_angle=1,\n",
    "                                scattering_params=None,\n",
    "                                shape_factor_model=\"linear\",\n",
    "                                minimum_intensity=0.1,\n",
    "                                )\n",
    "\n",
    "lib_gen = DiffractionLibraryGenerator(diff_gen)\n",
    "\n",
    "library_phases = StructureLibrary([\"phase\"], [structure_matrix], [grid_cub])\n",
    "\n",
    "diff_lib_for_data = lib_gen.get_diffraction_library(library_phases,\n",
    "                                           calibration=diffraction_calibration,\n",
    "                                           reciprocal_radius=reciprocal_radius,\n",
    "                                           half_shape=half_shape,\n",
    "                                           with_direct_beam=False,\n",
    "                                           max_excitation_error=0.08)"
   ]
  },
  {
   "cell_type": "code",
   "execution_count": 3,
   "id": "controlling-greensboro",
   "metadata": {},
   "outputs": [],
   "source": [
    "def full_lib_thing(simulations,inplane):\n",
    "    allpatterns = hs.signals.Signal2D(np.zeros((1,simulations.size,256,256)))\n",
    "    allpatterns.set_signal_type(signal_type=\"electron_diffraction\")\n",
    "    pattern = hs.signals.Signal2D(np.zeros((256,256)))\n",
    "    pattern.set_signal_type(signal_type=\"electron_diffraction\")\n",
    "\n",
    "    for i in range(5):\n",
    "        pattern = pointplotter(simulations,inplane,i,simulations.size)\n",
    "        allpatterns.inav[i,:] = pattern\n",
    "        pattern = hs.signals.Signal2D(np.zeros((256,256)))\n",
    "        \n",
    "    allpatterns.set_diffraction_calibration(0.02)\n",
    "    return allpatterns"
   ]
  },
  {
   "cell_type": "code",
   "execution_count": 4,
   "id": "19a629fc-a6d0-4bee-a24a-3ce67014a757",
   "metadata": {},
   "outputs": [],
   "source": [
    "def random_lib_thing(simulations):\n",
    "    allpatterns = hs.signals.Signal2D(np.zeros((1,4000,256,256)))\n",
    "    allpatterns.set_signal_type(signal_type=\"electron_diffraction\")\n",
    "    pattern = hs.signals.Signal2D(np.zeros((256,256)))\n",
    "    pattern.set_signal_type(signal_type=\"electron_diffraction\")\n",
    "\n",
    "    for i in range(4000):\n",
    "        patnum = random.randint(0,simulations.size)\n",
    "        pattern = pointplotter(simulations,random.randint(0,360),patnum,5)\n",
    "        allpatterns.inav[i,:] = pattern\n",
    "        pattern = hs.signals.Signal2D(np.zeros((256,256)))\n",
    "        \n",
    "    allpatterns.set_diffraction_calibration(0.01)\n",
    "    return allpatterns"
   ]
  },
  {
   "cell_type": "code",
   "execution_count": 5,
   "id": "6a3e4062-ddea-4e69-956f-f9c181cd35f6",
   "metadata": {},
   "outputs": [],
   "source": [
    "def grab_random_pattern(simulations):\n",
    "    inplane = random.randint(0,360)\n",
    "    template = random.randint(0,simulations.size-1)\n",
    "    pattern = pointplotter(simulations,inplane,template,5)\n",
    "    return pattern, inplane, template\n",
    "def build_random_tilts(diff_lib,n):\n",
    "    orientations = diff_lib['phase']['orientations']\n",
    "    simulations = diff_lib['phase']['simulations']\n",
    "    pattern_set = hs.signals.Signal2D(np.zeros((1,n,256,256)))\n",
    "    pattern_set.set_signal_type(signal_type=\"electron_diffraction\")\n",
    "    eulers = np.zeros((n,3))\n",
    "    template_indexs = np.zeros((1,n))\n",
    "    for i in range(n):\n",
    "        pattern, inplane, template = grab_random_pattern(simulations)\n",
    "        euler = orientations[template].copy()\n",
    "        euler[0] = euler[0] + inplane\n",
    "        pattern_set.inav[i,0] = pattern\n",
    "        eulers[i,:] = euler\n",
    "        template_indexs[0,i] = template\n",
    "    return pattern_set,eulers,template_indexs"
   ]
  },
  {
   "cell_type": "code",
   "execution_count": 6,
   "id": "spiritual-salon",
   "metadata": {},
   "outputs": [],
   "source": [
    "from pyxem.utils.plotting_utils import get_template_cartesian_coordinates \n",
    "from diffsims.pattern.detector_functions import add_shot_and_point_spread\n",
    "\n",
    "def pointplotter(simulations,inplane,template,sigma):\n",
    "    pattern = hs.signals.Signal2D(np.zeros((256,256)))\n",
    "    pattern.set_signal_type(signal_type=\"electron_diffraction\")\n",
    "    x, y, intensities = get_template_cartesian_coordinates(simulations[template],in_plane_angle=inplane,window_size=(255,255),center=(256//2,256//2))\n",
    "    for i in range(x.size):\n",
    "        pattern.isig[x[i],y[i]]=intensities[i]\n",
    "    pattern = add_shot_and_point_spread(pattern.T, sigma, shot_noise=False)\n",
    "    pattern = hs.signals.Signal2D(pattern)\n",
    "    return pattern\n"
   ]
  },
  {
   "cell_type": "code",
   "execution_count": 19,
   "id": "45762226-6504-407b-9e60-ea9f5c74ae6f",
   "metadata": {},
   "outputs": [],
   "source": [
    "randompatterns, eulers, template_indexs = build_random_tilts(diff_lib_for_data,4000)"
   ]
  },
  {
   "cell_type": "code",
   "execution_count": 22,
   "id": "9b6269da-df34-42ad-8df8-8003dabb9892",
   "metadata": {},
   "outputs": [],
   "source": [
    "def plot_matchedandtrue_Oh(num):\n",
    "    \n",
    "    \n",
    "    oritrue = Orientation.from_euler(\n",
    "        np.radians(eulers[:,:,:]),\n",
    "        symmetry=symmetry.Oh\n",
    "    )\n",
    "    # orimatched = Orientation.from_euler(\n",
    "    # np.radians(result['orientation'][num,:,0,:]),\n",
    "    # symmetry=symmetry.Oh\n",
    "    # )\n",
    "    ckey = IPFColorKeyTSL(oritrue.symmetry)\n",
    "    rgbz = ckey.orientation2color(oritrue)\n",
    "    cmap = np.linspace(0, 1, oritrue.size)\n",
    "    # v = Vector3d(((1, 0, 0), (0, 1, 0), (0, 0, 1)))\n",
    "    v = Vector3d((0, 0, 1))\n",
    "    oritrue.scatter(\"ipf\", direction=v, c=cmap)\n",
    "    # orimatched.scatter(\"ipf\", direction=v, c=cmap)"
   ]
  },
  {
   "cell_type": "code",
   "execution_count": 27,
   "id": "b5e58554-d7db-42c5-bb2f-661ef7523349",
   "metadata": {},
   "outputs": [],
   "source": [
    "oritrue = Orientation.from_euler(\n",
    "    np.radians(eulers[:,:]),\n",
    "    symmetry=symmetry.Oh\n",
    ")"
   ]
  },
  {
   "cell_type": "code",
   "execution_count": 25,
   "id": "326172c0-a4ca-4d05-98ac-abca6830a2aa",
   "metadata": {},
   "outputs": [],
   "source": [
    "# simulations = diff_lib_for_data[\"phase\"][\"simulations\"]\n",
    "# allpatterns = full_lib_thing(simulations,0)"
   ]
  },
  {
   "cell_type": "code",
   "execution_count": 34,
   "id": "65da7e19-d71f-4614-8a60-edf90f6104e4",
   "metadata": {},
   "outputs": [],
   "source": [
    "randompatterns.plot(cmap = 'viridis')"
   ]
  },
  {
   "cell_type": "code",
   "execution_count": 14,
   "id": "8185d9f9-6345-4538-b221-5f47d65cefc7",
   "metadata": {},
   "outputs": [],
   "source": [
    "allpatternsprec.plot(cmap = 'inferno', scalebar=False)"
   ]
  },
  {
   "cell_type": "code",
   "execution_count": 40,
   "id": "ad138f82-af04-430f-8625-01bec120dc0e",
   "metadata": {},
   "outputs": [],
   "source": [
    "def gridresdifflib(resolution):\n",
    "    grid_cub = get_beam_directions_grid(\"cubic\", resolution, mesh=\"spherified_cube_edge\")\n",
    "    print(\"Number of patterns: \", grid_cub.shape[0])\n",
    "\n",
    "    library_phases = StructureLibrary([\"phase\"], [structure_matrix], [grid_cub])\n",
    "\n",
    "\n",
    "    diff_lib = lib_gen.get_diffraction_library(library_phases,\n",
    "                                               calibration=diffraction_calibration,\n",
    "                                               reciprocal_radius=reciprocal_radius,\n",
    "                                               half_shape=half_shape,\n",
    "                                               with_direct_beam=False,\n",
    "                                               max_excitation_error=0.08)\n",
    "    return diff_lib"
   ]
  },
  {
   "cell_type": "code",
   "execution_count": 39,
   "id": "be09e865-7821-4ee6-9582-dd81521688ba",
   "metadata": {},
   "outputs": [],
   "source": [
    "# diff_lib_01 = gridresdifflib(0.1)\n",
    "diff_lib_01 = diff_lib_for_data"
   ]
  },
  {
   "cell_type": "code",
   "execution_count": 41,
   "id": "74427f83-8c9c-442a-a711-d8e5940bde51",
   "metadata": {},
   "outputs": [
    {
     "name": "stderr",
     "output_type": "stream",
     "text": [
      "/home/joseph/miniconda3/envs/pyxemmaster/lib/python3.9/site-packages/diffsims/generators/sphere_mesh_generators.py:515: RuntimeWarning: invalid value encountered in true_divide\n",
      "  phi2 = sign * np.nan_to_num(np.arccos(x_comp / norm_proj))\n",
      "  0%|          | 40/16471 [00:00<00:41, 396.74it/s]"
     ]
    },
    {
     "name": "stdout",
     "output_type": "stream",
     "text": [
      "Number of patterns:  16471\n"
     ]
    },
    {
     "name": "stderr",
     "output_type": "stream",
     "text": [
      "  1%|          | 46/4186 [00:00<00:09, 455.08it/s]    "
     ]
    },
    {
     "name": "stdout",
     "output_type": "stream",
     "text": [
      "Number of patterns:  4186\n"
     ]
    },
    {
     "name": "stderr",
     "output_type": "stream",
     "text": [
      "  4%|▎         | 38/1081 [00:00<00:02, 377.26it/s]  "
     ]
    },
    {
     "name": "stdout",
     "output_type": "stream",
     "text": [
      "Number of patterns:  1081\n"
     ]
    },
    {
     "name": "stderr",
     "output_type": "stream",
     "text": [
      " 13%|█▎        | 40/300 [00:00<00:00, 394.42it/s]   "
     ]
    },
    {
     "name": "stdout",
     "output_type": "stream",
     "text": [
      "Number of patterns:  300\n"
     ]
    },
    {
     "name": "stderr",
     "output_type": "stream",
     "text": [
      "                                                  \r"
     ]
    }
   ],
   "source": [
    "diff_lib_025 = gridresdifflib(0.25)\n",
    "diff_lib_05 = gridresdifflib(0.5)\n",
    "diff_lib_1 = gridresdifflib(1)\n",
    "diff_lib_2 = gridresdifflib(2)"
   ]
  },
  {
   "cell_type": "code",
   "execution_count": 37,
   "id": "89c2e38f-4189-4f7a-b5b9-ee0088872f15",
   "metadata": {},
   "outputs": [],
   "source": [
    "randompatterns = randompatterns*100"
   ]
  },
  {
   "cell_type": "code",
   "execution_count": 142,
   "id": "c8f2ad24-f6c6-4291-9dfe-77fedc281af4",
   "metadata": {},
   "outputs": [],
   "source": [
    "randompatterns.plot()"
   ]
  },
  {
   "cell_type": "code",
   "execution_count": 42,
   "id": "1d612759-c7ac-4cd0-8eb0-dc099014cb7d",
   "metadata": {},
   "outputs": [],
   "source": [
    "def template_log_func(x):\n",
    "        return np.log10(x + 0.01)\n",
    "\n",
    "\n",
    "frac_keep = 1\n",
    "n_best = 30\n",
    "n_keep = None\n",
    "\n",
    "delta_r = 0.5\n",
    "delta_theta = 0.5\n",
    "max_r = None\n",
    "intensity_transform_function = template_log_func\n",
    "find_direct_beam = False\n",
    "direct_beam_position = None\n",
    "normalize_image = True\n",
    "normalize_templates = True"
   ]
  },
  {
   "cell_type": "code",
   "execution_count": 141,
   "id": "13b51433-c0fd-4291-9f88-ff9043bf62de",
   "metadata": {},
   "outputs": [],
   "source": [
    "randompatterns.change_dtype('bool')"
   ]
  },
  {
   "cell_type": "code",
   "execution_count": 43,
   "id": "0de8b02e-9008-4aa4-9ef3-0147d91b61e7",
   "metadata": {
    "tags": []
   },
   "outputs": [
    {
     "name": "stdout",
     "output_type": "stream",
     "text": [
      "[########################################] | 100% Completed | 35min 12.5s\n"
     ]
    }
   ],
   "source": [
    "result01, phasedict = iutls.index_dataset_with_template_rotation(randompatterns,\n",
    "                                                    diff_lib_01,\n",
    "                                                    phases = [\"phase\"],\n",
    "                                                    n_best = n_best,\n",
    "                                                    frac_keep = frac_keep,\n",
    "                                                    n_keep = n_keep,\n",
    "                                                    delta_r = delta_r,\n",
    "                                                    delta_theta = delta_theta,\n",
    "                                                    max_r = None,\n",
    "                                                    intensity_transform_function=template_log_func,\n",
    "                                                    normalize_images = normalize_image,\n",
    "                                                    normalize_templates=normalize_templates,\n",
    "                                                    target='gpu'\n",
    "                                                    )"
   ]
  },
  {
   "cell_type": "code",
   "execution_count": 50,
   "id": "809a95fb-4a11-4860-b23c-b54f6b2bd090",
   "metadata": {},
   "outputs": [
    {
     "name": "stdout",
     "output_type": "stream",
     "text": [
      "[########################################] | 100% Completed |  6min 38.8s\n"
     ]
    }
   ],
   "source": [
    "result025, phasedict = iutls.index_dataset_with_template_rotation(randompatterns,\n",
    "                                                    diff_lib_025,\n",
    "                                                    phases = [\"phase\"],\n",
    "                                                    n_best = n_best,\n",
    "                                                    frac_keep = frac_keep,\n",
    "                                                    n_keep = n_keep,\n",
    "                                                    delta_r = delta_r,\n",
    "                                                    delta_theta = delta_theta,\n",
    "                                                    max_r = None,\n",
    "                                                    intensity_transform_function=template_log_func,\n",
    "                                                    normalize_images = normalize_image,\n",
    "                                                    normalize_templates=normalize_templates,\n",
    "                                                    target='gpu'\n",
    "                                                    )"
   ]
  },
  {
   "cell_type": "code",
   "execution_count": 51,
   "id": "c008b86c-6acf-40bb-ba8f-7b478d9f1356",
   "metadata": {},
   "outputs": [
    {
     "name": "stdout",
     "output_type": "stream",
     "text": [
      "[########################################] | 100% Completed |  2min 45.4s\n"
     ]
    }
   ],
   "source": [
    "result05, phasedict = iutls.index_dataset_with_template_rotation(randompatterns,\n",
    "                                                    diff_lib_05,\n",
    "                                                    phases = [\"phase\"],\n",
    "                                                    n_best = n_best,\n",
    "                                                    frac_keep = frac_keep,\n",
    "                                                    n_keep = n_keep,\n",
    "                                                    delta_r = delta_r,\n",
    "                                                    delta_theta = delta_theta,\n",
    "                                                    max_r = None,\n",
    "                                                    intensity_transform_function=template_log_func,\n",
    "                                                    normalize_images = normalize_image,\n",
    "                                                    normalize_templates=normalize_templates,\n",
    "                                                    target='gpu'\n",
    "                                                    )"
   ]
  },
  {
   "cell_type": "code",
   "execution_count": 52,
   "id": "67e51571-ed44-4a80-a8b4-f796af879fb1",
   "metadata": {},
   "outputs": [
    {
     "name": "stdout",
     "output_type": "stream",
     "text": [
      "[########################################] | 100% Completed |  3min  0.8s\n"
     ]
    }
   ],
   "source": [
    "result1, phasedict = iutls.index_dataset_with_template_rotation(randompatterns,\n",
    "                                                    diff_lib_1,\n",
    "                                                    phases = [\"phase\"],\n",
    "                                                    n_best = n_best,\n",
    "                                                    frac_keep = frac_keep,\n",
    "                                                    n_keep = n_keep,\n",
    "                                                    delta_r = delta_r,\n",
    "                                                    delta_theta = delta_theta,\n",
    "                                                    max_r = None,\n",
    "                                                    intensity_transform_function=template_log_func,\n",
    "                                                    normalize_images = normalize_image,\n",
    "                                                    normalize_templates=normalize_templates,\n",
    "                                                    target='gpu'\n",
    "                                                    )"
   ]
  },
  {
   "cell_type": "code",
   "execution_count": 137,
   "id": "0f412caf-655f-42a3-8732-8235121e10b8",
   "metadata": {
    "collapsed": true,
    "jupyter": {
     "outputs_hidden": true
    },
    "tags": []
   },
   "outputs": [
    {
     "name": "stderr",
     "output_type": "stream",
     "text": [
      "/home/joseph/.local/lib/python3.9/site-packages/sklearn/utils/validation.py:70: FutureWarning: Pass threshold=0 as keyword args. From version 1.0 (renaming of 0.25) passing these as positional arguments will result in an error\n",
      "  warnings.warn(f\"Pass {args_msg} as keyword args. From version \"\n",
      "/home/joseph/.local/lib/python3.9/site-packages/sklearn/utils/validation.py:70: FutureWarning: Pass threshold=0 as keyword args. From version 1.0 (renaming of 0.25) passing these as positional arguments will result in an error\n",
      "  warnings.warn(f\"Pass {args_msg} as keyword args. From version \"\n"
     ]
    },
    {
     "ename": "ValueError",
     "evalue": "`dtype` inference failed in `map_blocks`.\n\nPlease specify the dtype explicitly using the `dtype` kwarg.\n\nOriginal error is below:\n------------------------\nValueError('Found array with dim 4. Estimator expected <= 2.')\n\nTraceback:\n---------\n  File \"/home/joseph/miniconda3/envs/pyxemmaster/lib/python3.9/site-packages/dask/array/core.py\", line 395, in apply_infer_dtype\n    o = func(*args, **kwargs)\n  File \"<ipython-input-136-fb19f1b603f0>\", line 3, in template_binary_func\n    binarize(x,0, copy = False)\n  File \"/home/joseph/.local/lib/python3.9/site-packages/sklearn/utils/validation.py\", line 74, in inner_f\n    return f(**kwargs)\n  File \"/home/joseph/.local/lib/python3.9/site-packages/sklearn/preprocessing/_data.py\", line 2086, in binarize\n    X = check_array(X, accept_sparse=['csr', 'csc'], copy=copy)\n  File \"/home/joseph/.local/lib/python3.9/site-packages/sklearn/utils/validation.py\", line 63, in inner_f\n    return f(*args, **kwargs)\n  File \"/home/joseph/.local/lib/python3.9/site-packages/sklearn/utils/validation.py\", line 659, in check_array\n    raise ValueError(\"Found array with dim %d. %s expected <= 2.\"\n",
     "output_type": "error",
     "traceback": [
      "\u001b[0;31m---------------------------------------------------------------------------\u001b[0m",
      "\u001b[0;31mValueError\u001b[0m                                Traceback (most recent call last)",
      "\u001b[0;32m<ipython-input-137-4f5768c38c0b>\u001b[0m in \u001b[0;36m<module>\u001b[0;34m\u001b[0m\n\u001b[0;32m----> 1\u001b[0;31m result2, phasedict = iutls.index_dataset_with_template_rotation(randompatterns,\n\u001b[0m\u001b[1;32m      2\u001b[0m                                                     \u001b[0mdiff_lib_2\u001b[0m\u001b[0;34m,\u001b[0m\u001b[0;34m\u001b[0m\u001b[0;34m\u001b[0m\u001b[0m\n\u001b[1;32m      3\u001b[0m                                                     \u001b[0mphases\u001b[0m \u001b[0;34m=\u001b[0m \u001b[0;34m[\u001b[0m\u001b[0;34m\"phase\"\u001b[0m\u001b[0;34m]\u001b[0m\u001b[0;34m,\u001b[0m\u001b[0;34m\u001b[0m\u001b[0;34m\u001b[0m\u001b[0m\n\u001b[1;32m      4\u001b[0m                                                     \u001b[0mn_best\u001b[0m \u001b[0;34m=\u001b[0m \u001b[0mn_best\u001b[0m\u001b[0;34m,\u001b[0m\u001b[0;34m\u001b[0m\u001b[0;34m\u001b[0m\u001b[0m\n\u001b[1;32m      5\u001b[0m                                                     \u001b[0mfrac_keep\u001b[0m \u001b[0;34m=\u001b[0m \u001b[0mfrac_keep\u001b[0m\u001b[0;34m,\u001b[0m\u001b[0;34m\u001b[0m\u001b[0;34m\u001b[0m\u001b[0m\n",
      "\u001b[0;32m~/miniconda3/envs/pyxemmaster/lib/python3.9/site-packages/pyxem/utils/indexation_utils.py\u001b[0m in \u001b[0;36mindex_dataset_with_template_rotation\u001b[0;34m(signal, library, phases, n_best, frac_keep, n_keep, delta_r, delta_theta, max_r, intensity_transform_function, normalize_images, normalize_templates, chunks, parallel_workers, target, threadsperblock, scheduler, precision)\u001b[0m\n\u001b[1;32m   1652\u001b[0m     \u001b[0;31m# apply the intensity transform function to the images\u001b[0m\u001b[0;34m\u001b[0m\u001b[0;34m\u001b[0m\u001b[0m\n\u001b[1;32m   1653\u001b[0m     \u001b[0;32mif\u001b[0m \u001b[0mintensity_transform_function\u001b[0m \u001b[0;32mis\u001b[0m \u001b[0;32mnot\u001b[0m \u001b[0;32mNone\u001b[0m\u001b[0;34m:\u001b[0m\u001b[0;34m\u001b[0m\u001b[0;34m\u001b[0m\u001b[0m\n\u001b[0;32m-> 1654\u001b[0;31m         \u001b[0mdata\u001b[0m \u001b[0;34m=\u001b[0m \u001b[0mdata\u001b[0m\u001b[0;34m.\u001b[0m\u001b[0mmap_blocks\u001b[0m\u001b[0;34m(\u001b[0m\u001b[0mintensity_transform_function\u001b[0m\u001b[0;34m)\u001b[0m\u001b[0;34m\u001b[0m\u001b[0;34m\u001b[0m\u001b[0m\n\u001b[0m\u001b[1;32m   1655\u001b[0m     \u001b[0;31m# combine the phases into a single library of templates to perform\u001b[0m\u001b[0;34m\u001b[0m\u001b[0;34m\u001b[0m\u001b[0m\n\u001b[1;32m   1656\u001b[0m     \u001b[0;31m# indexation in a single step\u001b[0m\u001b[0;34m\u001b[0m\u001b[0;34m\u001b[0m\u001b[0m\n",
      "\u001b[0;32m~/miniconda3/envs/pyxemmaster/lib/python3.9/site-packages/dask/array/core.py\u001b[0m in \u001b[0;36mmap_blocks\u001b[0;34m(self, func, *args, **kwargs)\u001b[0m\n\u001b[1;32m   2360\u001b[0m     \u001b[0;34m@\u001b[0m\u001b[0mwraps\u001b[0m\u001b[0;34m(\u001b[0m\u001b[0mmap_blocks\u001b[0m\u001b[0;34m)\u001b[0m\u001b[0;34m\u001b[0m\u001b[0;34m\u001b[0m\u001b[0m\n\u001b[1;32m   2361\u001b[0m     \u001b[0;32mdef\u001b[0m \u001b[0mmap_blocks\u001b[0m\u001b[0;34m(\u001b[0m\u001b[0mself\u001b[0m\u001b[0;34m,\u001b[0m \u001b[0mfunc\u001b[0m\u001b[0;34m,\u001b[0m \u001b[0;34m*\u001b[0m\u001b[0margs\u001b[0m\u001b[0;34m,\u001b[0m \u001b[0;34m**\u001b[0m\u001b[0mkwargs\u001b[0m\u001b[0;34m)\u001b[0m\u001b[0;34m:\u001b[0m\u001b[0;34m\u001b[0m\u001b[0;34m\u001b[0m\u001b[0m\n\u001b[0;32m-> 2362\u001b[0;31m         \u001b[0;32mreturn\u001b[0m \u001b[0mmap_blocks\u001b[0m\u001b[0;34m(\u001b[0m\u001b[0mfunc\u001b[0m\u001b[0;34m,\u001b[0m \u001b[0mself\u001b[0m\u001b[0;34m,\u001b[0m \u001b[0;34m*\u001b[0m\u001b[0margs\u001b[0m\u001b[0;34m,\u001b[0m \u001b[0;34m**\u001b[0m\u001b[0mkwargs\u001b[0m\u001b[0;34m)\u001b[0m\u001b[0;34m\u001b[0m\u001b[0;34m\u001b[0m\u001b[0m\n\u001b[0m\u001b[1;32m   2363\u001b[0m \u001b[0;34m\u001b[0m\u001b[0m\n\u001b[1;32m   2364\u001b[0m     \u001b[0;32mdef\u001b[0m \u001b[0mmap_overlap\u001b[0m\u001b[0;34m(\u001b[0m\u001b[0mself\u001b[0m\u001b[0;34m,\u001b[0m \u001b[0mfunc\u001b[0m\u001b[0;34m,\u001b[0m \u001b[0mdepth\u001b[0m\u001b[0;34m,\u001b[0m \u001b[0mboundary\u001b[0m\u001b[0;34m=\u001b[0m\u001b[0;32mNone\u001b[0m\u001b[0;34m,\u001b[0m \u001b[0mtrim\u001b[0m\u001b[0;34m=\u001b[0m\u001b[0;32mTrue\u001b[0m\u001b[0;34m,\u001b[0m \u001b[0;34m**\u001b[0m\u001b[0mkwargs\u001b[0m\u001b[0;34m)\u001b[0m\u001b[0;34m:\u001b[0m\u001b[0;34m\u001b[0m\u001b[0;34m\u001b[0m\u001b[0m\n",
      "\u001b[0;32m~/miniconda3/envs/pyxemmaster/lib/python3.9/site-packages/dask/array/core.py\u001b[0m in \u001b[0;36mmap_blocks\u001b[0;34m(func, name, token, dtype, chunks, drop_axis, new_axis, meta, *args, **kwargs)\u001b[0m\n\u001b[1;32m    693\u001b[0m             \u001b[0;32mpass\u001b[0m\u001b[0;34m\u001b[0m\u001b[0;34m\u001b[0m\u001b[0m\n\u001b[1;32m    694\u001b[0m \u001b[0;34m\u001b[0m\u001b[0m\n\u001b[0;32m--> 695\u001b[0;31m         \u001b[0mdtype\u001b[0m \u001b[0;34m=\u001b[0m \u001b[0mapply_infer_dtype\u001b[0m\u001b[0;34m(\u001b[0m\u001b[0mfunc\u001b[0m\u001b[0;34m,\u001b[0m \u001b[0margs\u001b[0m\u001b[0;34m,\u001b[0m \u001b[0moriginal_kwargs\u001b[0m\u001b[0;34m,\u001b[0m \u001b[0;34m\"map_blocks\"\u001b[0m\u001b[0;34m)\u001b[0m\u001b[0;34m\u001b[0m\u001b[0;34m\u001b[0m\u001b[0m\n\u001b[0m\u001b[1;32m    696\u001b[0m \u001b[0;34m\u001b[0m\u001b[0m\n\u001b[1;32m    697\u001b[0m     \u001b[0;32mif\u001b[0m \u001b[0mdrop_axis\u001b[0m\u001b[0;34m:\u001b[0m\u001b[0;34m\u001b[0m\u001b[0;34m\u001b[0m\u001b[0m\n",
      "\u001b[0;32m~/miniconda3/envs/pyxemmaster/lib/python3.9/site-packages/dask/array/core.py\u001b[0m in \u001b[0;36mapply_infer_dtype\u001b[0;34m(func, args, kwargs, funcname, suggest_dtype, nout)\u001b[0m\n\u001b[1;32m    418\u001b[0m         \u001b[0mmsg\u001b[0m \u001b[0;34m=\u001b[0m \u001b[0;32mNone\u001b[0m\u001b[0;34m\u001b[0m\u001b[0;34m\u001b[0m\u001b[0m\n\u001b[1;32m    419\u001b[0m     \u001b[0;32mif\u001b[0m \u001b[0mmsg\u001b[0m \u001b[0;32mis\u001b[0m \u001b[0;32mnot\u001b[0m \u001b[0;32mNone\u001b[0m\u001b[0;34m:\u001b[0m\u001b[0;34m\u001b[0m\u001b[0;34m\u001b[0m\u001b[0m\n\u001b[0;32m--> 420\u001b[0;31m         \u001b[0;32mraise\u001b[0m \u001b[0mValueError\u001b[0m\u001b[0;34m(\u001b[0m\u001b[0mmsg\u001b[0m\u001b[0;34m)\u001b[0m\u001b[0;34m\u001b[0m\u001b[0;34m\u001b[0m\u001b[0m\n\u001b[0m\u001b[1;32m    421\u001b[0m     \u001b[0;32mreturn\u001b[0m \u001b[0mo\u001b[0m\u001b[0;34m.\u001b[0m\u001b[0mdtype\u001b[0m \u001b[0;32mif\u001b[0m \u001b[0mnout\u001b[0m \u001b[0;32mis\u001b[0m \u001b[0;32mNone\u001b[0m \u001b[0;32melse\u001b[0m \u001b[0mtuple\u001b[0m\u001b[0;34m(\u001b[0m\u001b[0me\u001b[0m\u001b[0;34m.\u001b[0m\u001b[0mdtype\u001b[0m \u001b[0;32mfor\u001b[0m \u001b[0me\u001b[0m \u001b[0;32min\u001b[0m \u001b[0mo\u001b[0m\u001b[0;34m)\u001b[0m\u001b[0;34m\u001b[0m\u001b[0;34m\u001b[0m\u001b[0m\n\u001b[1;32m    422\u001b[0m \u001b[0;34m\u001b[0m\u001b[0m\n",
      "\u001b[0;31mValueError\u001b[0m: `dtype` inference failed in `map_blocks`.\n\nPlease specify the dtype explicitly using the `dtype` kwarg.\n\nOriginal error is below:\n------------------------\nValueError('Found array with dim 4. Estimator expected <= 2.')\n\nTraceback:\n---------\n  File \"/home/joseph/miniconda3/envs/pyxemmaster/lib/python3.9/site-packages/dask/array/core.py\", line 395, in apply_infer_dtype\n    o = func(*args, **kwargs)\n  File \"<ipython-input-136-fb19f1b603f0>\", line 3, in template_binary_func\n    binarize(x,0, copy = False)\n  File \"/home/joseph/.local/lib/python3.9/site-packages/sklearn/utils/validation.py\", line 74, in inner_f\n    return f(**kwargs)\n  File \"/home/joseph/.local/lib/python3.9/site-packages/sklearn/preprocessing/_data.py\", line 2086, in binarize\n    X = check_array(X, accept_sparse=['csr', 'csc'], copy=copy)\n  File \"/home/joseph/.local/lib/python3.9/site-packages/sklearn/utils/validation.py\", line 63, in inner_f\n    return f(*args, **kwargs)\n  File \"/home/joseph/.local/lib/python3.9/site-packages/sklearn/utils/validation.py\", line 659, in check_array\n    raise ValueError(\"Found array with dim %d. %s expected <= 2.\"\n"
     ]
    }
   ],
   "source": [
    "result2, phasedict = iutls.index_dataset_with_template_rotation(randompatterns,\n",
    "                                                    diff_lib_2,\n",
    "                                                    phases = [\"phase\"],\n",
    "                                                    n_best = n_best,\n",
    "                                                    frac_keep = frac_keep,\n",
    "                                                    n_keep = n_keep,\n",
    "                                                    delta_r = delta_r,\n",
    "                                                    delta_theta = delta_theta,\n",
    "                                                    max_r = None,\n",
    "                                                    intensity_transform_function=template_binary_func,\n",
    "                                                    normalize_images = normalize_image,\n",
    "                                                    normalize_templates=normalize_templates,\n",
    "                                                    target='gpu'\n",
    "                                                    )"
   ]
  },
  {
   "cell_type": "code",
   "execution_count": 10,
   "id": "a2ae4feb-13c1-4790-a874-ec443d61d730",
   "metadata": {},
   "outputs": [
    {
     "ename": "NameError",
     "evalue": "name 'result' is not defined",
     "output_type": "error",
     "traceback": [
      "\u001b[0;31m---------------------------------------------------------------------------\u001b[0m",
      "\u001b[0;31mNameError\u001b[0m                                 Traceback (most recent call last)",
      "\u001b[0;32m<ipython-input-10-19aec770baf1>\u001b[0m in \u001b[0;36m<module>\u001b[0;34m\u001b[0m\n\u001b[0;32m----> 1\u001b[0;31m \u001b[0mcorrscores\u001b[0m \u001b[0;34m=\u001b[0m \u001b[0mresult\u001b[0m\u001b[0;34m[\u001b[0m\u001b[0;34m'correlation'\u001b[0m\u001b[0;34m]\u001b[0m\u001b[0;34m[\u001b[0m\u001b[0;34m:\u001b[0m\u001b[0;34m,\u001b[0m\u001b[0;34m:\u001b[0m\u001b[0;34m,\u001b[0m\u001b[0;36m0\u001b[0m\u001b[0;34m]\u001b[0m\u001b[0;34m[\u001b[0m\u001b[0;36m0\u001b[0m\u001b[0;34m]\u001b[0m\u001b[0;34m\u001b[0m\u001b[0;34m\u001b[0m\u001b[0m\n\u001b[0m\u001b[1;32m      2\u001b[0m \u001b[0mindexes\u001b[0m \u001b[0;34m=\u001b[0m \u001b[0mnp\u001b[0m\u001b[0;34m.\u001b[0m\u001b[0mlinspace\u001b[0m\u001b[0;34m(\u001b[0m\u001b[0;36m0\u001b[0m\u001b[0;34m,\u001b[0m\u001b[0msimulations\u001b[0m\u001b[0;34m.\u001b[0m\u001b[0msize\u001b[0m\u001b[0;34m-\u001b[0m\u001b[0;36m1\u001b[0m\u001b[0;34m,\u001b[0m\u001b[0mnum\u001b[0m\u001b[0;34m=\u001b[0m\u001b[0msimulations\u001b[0m\u001b[0;34m.\u001b[0m\u001b[0msize\u001b[0m\u001b[0;34m,\u001b[0m\u001b[0mdtype\u001b[0m\u001b[0;34m=\u001b[0m\u001b[0mint\u001b[0m\u001b[0;34m)\u001b[0m\u001b[0;34m\u001b[0m\u001b[0;34m\u001b[0m\u001b[0m\n",
      "\u001b[0;31mNameError\u001b[0m: name 'result' is not defined"
     ]
    }
   ],
   "source": [
    "corrscores = result['correlation'][:,:,0][0]\n",
    "indexes = np.linspace(0,simulations.size-1,num=simulations.size,dtype=int)"
   ]
  },
  {
   "cell_type": "code",
   "execution_count": 264,
   "id": "f263f3a9-cfcb-46ab-aab6-e46d130cda77",
   "metadata": {},
   "outputs": [],
   "source": [
    "indexedarray =result2[\"template_index\"][:,:,0]\n",
    "\n",
    "onlytrueindexes = np.zeros(0,np.int16)\n",
    "onlyfalseindexes = np.zeros(0,np.int16)\n",
    "for i in range(indexes.size):\n",
    "    if indexes[i] == indexedarray[0][i]:\n",
    "        onlytrueindexes = np.append(onlytrueindexes, indexes[i])\n",
    "    else:\n",
    "        onlyfalseindexes = np.append(onlyfalseindexes, indexes[i])"
   ]
  },
  {
   "cell_type": "code",
   "execution_count": 266,
   "id": "a7ac6427-c620-4efa-8d87-9e8580c17205",
   "metadata": {},
   "outputs": [
    {
     "data": {
      "text/plain": [
       "1"
      ]
     },
     "execution_count": 266,
     "metadata": {},
     "output_type": "execute_result"
    }
   ],
   "source": [
    "onlytrueindexes.size"
   ]
  },
  {
   "cell_type": "code",
   "execution_count": 7,
   "id": "ccb2dfdf-c4d3-460a-87f7-683038f0ff38",
   "metadata": {},
   "outputs": [],
   "source": [
    "from orix import plot\n",
    "from orix.crystal_map import CrystalMap, Phase, PhaseList\n",
    "from orix.io import load, save\n",
    "from orix.quaternion import Orientation, Rotation, symmetry\n",
    "from orix.vector import Vector3d, AxAngle, Miller\n",
    "from pyxem.signals.indexation_results import results_dict_to_crystal_map"
   ]
  },
  {
   "cell_type": "code",
   "execution_count": 8,
   "id": "f2997f2d-fcb2-4764-9aa3-7571b06caff8",
   "metadata": {},
   "outputs": [],
   "source": [
    "from orix.crystal_map import Phase\n",
    "from orix.plot import IPFColorKeyTSL\n",
    "from orix.quaternion import Orientation, symmetry\n",
    "from orix.vector import Miller, Vector3d\n",
    "\n",
    "plt.rcParams.update({\n",
    "    \"figure.figsize\": (15, 10),\n",
    "    \"axes.grid\": False,\n",
    "#     \"font.size\": 20,\n",
    "    \"lines.markersize\": 15,\n",
    "})"
   ]
  },
  {
   "cell_type": "code",
   "execution_count": 46,
   "id": "b341f106-0b80-49b8-be87-627a77b26b73",
   "metadata": {},
   "outputs": [],
   "source": [
    "xmap01 = results_dict_to_crystal_map(result01,phasedict)"
   ]
  },
  {
   "cell_type": "code",
   "execution_count": 54,
   "id": "83930b5d-15b1-4ee5-8658-da1c0be36fc3",
   "metadata": {},
   "outputs": [],
   "source": [
    "xmap025 = results_dict_to_crystal_map(result025,phasedict)\n",
    "xmap05 = results_dict_to_crystal_map(result05,phasedict)\n",
    "xmap1 = results_dict_to_crystal_map(result1,phasedict)\n",
    "xmap2 = results_dict_to_crystal_map(result2,phasedict)"
   ]
  },
  {
   "cell_type": "code",
   "execution_count": 58,
   "id": "c4cb332f-d9ce-4ae8-a6a7-4f0260825d4c",
   "metadata": {},
   "outputs": [],
   "source": [
    "save(\n",
    "    filename=\"simgridxmap2.h5\",\n",
    "    object2write=xmap2,\n",
    "    overwrite=True,  # Default is False\n",
    ")"
   ]
  },
  {
   "cell_type": "code",
   "execution_count": 48,
   "id": "254997f3-5ee5-4f68-b978-0651c3d42bf9",
   "metadata": {},
   "outputs": [],
   "source": [
    "import pickle\n",
    "filename = \"simgrideulers.pickle\"\n",
    "pickling_on = open(\"simgrideulers.pickle\",\"wb\")\n",
    "pickle.dump(eulers, pickling_on)\n",
    "pickling_on.close()"
   ]
  },
  {
   "cell_type": "code",
   "execution_count": 49,
   "id": "3100b567-d0cb-4aa4-a7b4-ec1662b29f6a",
   "metadata": {},
   "outputs": [],
   "source": [
    "pickling_on = open(\"simgridtemplates.pickle\",\"wb\")\n",
    "pickle.dump(template_indexs, pickling_on)\n",
    "pickling_on.close()"
   ]
  },
  {
   "cell_type": "code",
   "execution_count": 89,
   "id": "a7c0ff6d-a862-45d5-84bb-92b7406749c1",
   "metadata": {},
   "outputs": [],
   "source": [
    "xmap025.phases[0].space_group = 225"
   ]
  },
  {
   "cell_type": "code",
   "execution_count": 97,
   "id": "498c7e36-11fc-4235-8c12-ca83a97466e3",
   "metadata": {},
   "outputs": [],
   "source": [
    "def something(xmap):\n",
    "    oritrue = Orientation.from_euler(\n",
    "        np.radians(eulers[:,:]),\n",
    "        symmetry=symmetry.Oh\n",
    "    )\n",
    "    xmap.phases[0].space_group = 225\n",
    "    orimatched = xmap.orientations\n",
    "    misangles = np.degrees((oritrue- orimatched).angle.data)\n",
    "    misangles = misangles.flatten()\n",
    "    \n",
    "    return(oritrue,orimatched,misangles)"
   ]
  },
  {
   "cell_type": "code",
   "execution_count": 69,
   "id": "dba441dd-373e-4fe7-a847-9b759cd5373d",
   "metadata": {},
   "outputs": [],
   "source": [
    "oritrue = Orientation.from_euler(\n",
    "    np.radians(eulers[:,:]),\n",
    "    symmetry=symmetry.Oh\n",
    ")\n",
    "orismatched = xmap01.orientations"
   ]
  },
  {
   "cell_type": "code",
   "execution_count": 150,
   "id": "ee218ab7-eab9-4ebe-9354-aaa883410503",
   "metadata": {},
   "outputs": [],
   "source": [
    "oritrue, orimatched, misangles = something(xmap01)"
   ]
  },
  {
   "cell_type": "code",
   "execution_count": 151,
   "id": "45b86edf-bfe6-46d6-a72f-e152420d9493",
   "metadata": {},
   "outputs": [],
   "source": [
    "ckey = IPFColorKeyTSL(oritrue.symmetry)\n",
    "rgbz = ckey.orientation2color(oritrue)\n",
    "cmap = np.linspace(0, 1, oritrue.size)\n",
    "# v = Vector3d(((1, 0, 0), (0, 1, 0), (0, 0, 1)))\n",
    "v = Vector3d((0, 0, 1))\n",
    "oritrue.scatter(\"ipf\", direction=v, c=misangles, s= 50, vmax = 5)\n",
    "orimatched.scatter(\"ipf\", direction=v, c=misangles, s =50, vmax = 5)"
   ]
  },
  {
   "cell_type": "code",
   "execution_count": 123,
   "id": "c0d5557d-3c78-4c58-b266-546a2bfe0d38",
   "metadata": {},
   "outputs": [
    {
     "data": {
      "text/plain": [
       "2.6304873397753537"
      ]
     },
     "execution_count": 123,
     "metadata": {},
     "output_type": "execute_result"
    }
   ],
   "source": [
    "misangles.mean()"
   ]
  },
  {
   "cell_type": "code",
   "execution_count": 124,
   "id": "f440abd4-9975-4d2c-b1a5-3c04423d2b68",
   "metadata": {},
   "outputs": [
    {
     "data": {
      "text/plain": [
       "9.350701061763043"
      ]
     },
     "execution_count": 124,
     "metadata": {},
     "output_type": "execute_result"
    }
   ],
   "source": [
    "misangles.std()"
   ]
  },
  {
   "cell_type": "code",
   "execution_count": 125,
   "id": "1b8120f4-cd0e-42cd-9856-ef34ae94ce2d",
   "metadata": {},
   "outputs": [
    {
     "data": {
      "text/plain": [
       "0.9655"
      ]
     },
     "execution_count": 125,
     "metadata": {},
     "output_type": "execute_result"
    }
   ],
   "source": [
    "np.count_nonzero(misangles < 10)/misangles.size"
   ]
  },
  {
   "cell_type": "code",
   "execution_count": 126,
   "id": "f68d7040-3092-4e64-a71d-cb227f363c1d",
   "metadata": {},
   "outputs": [],
   "source": [
    "misanglesnooutlier = np.delete(misangles, np.where(misangles > 10))"
   ]
  },
  {
   "cell_type": "code",
   "execution_count": 127,
   "id": "3170a3c6-c1e6-4b44-9edb-997ea420a555",
   "metadata": {},
   "outputs": [
    {
     "data": {
      "text/plain": [
       "0.4558925600244758"
      ]
     },
     "execution_count": 127,
     "metadata": {},
     "output_type": "execute_result"
    }
   ],
   "source": [
    "misanglesnooutlier.std()"
   ]
  },
  {
   "cell_type": "code",
   "execution_count": 128,
   "id": "b00e9c93-a171-4ef9-abaf-b20991b7eb29",
   "metadata": {},
   "outputs": [
    {
     "data": {
      "text/plain": [
       "0.9092017621621805"
      ]
     },
     "execution_count": 128,
     "metadata": {},
     "output_type": "execute_result"
    }
   ],
   "source": [
    "misanglesnooutlier.mean()"
   ]
  },
  {
   "cell_type": "code",
   "execution_count": 88,
   "id": "045fa0ed-df84-4ac5-bd94-f58ddc0d4218",
   "metadata": {},
   "outputs": [],
   "source": [
    "stdmisangles01 = 0.36754406576541193\n",
    "meanmisangles01 = 0.5303043832308559"
   ]
  },
  {
   "cell_type": "code",
   "execution_count": 113,
   "id": "fa3ce9ca-26ad-4bee-9fc7-1aa6643f3308",
   "metadata": {},
   "outputs": [],
   "source": [
    "stdmisangles025 = 0.3597067733998186\n",
    "meanmisangles025 = 0.5225212797839106"
   ]
  },
  {
   "cell_type": "code",
   "execution_count": 129,
   "id": "ad26dce8-2569-4035-9730-1d5480b43821",
   "metadata": {},
   "outputs": [],
   "source": [
    "stdmisangles05 = 0.36379143996822483\n",
    "meanmisangles05 = 0.5406188207331206"
   ]
  },
  {
   "cell_type": "code",
   "execution_count": 133,
   "id": "716a9455-00a1-42c2-85cc-143c012355d4",
   "metadata": {},
   "outputs": [],
   "source": [
    "stdmisangles1 = 0.3762584352555345\n",
    "meanmisangles1 = 0.6361048409776127"
   ]
  },
  {
   "cell_type": "code",
   "execution_count": 132,
   "id": "a5b555d8-b500-4559-b507-0fa68073eb35",
   "metadata": {},
   "outputs": [],
   "source": [
    "stdmisangles2 = 0.4558925600244758\n",
    "meanmisangles2 = 0.9092017621621805"
   ]
  },
  {
   "cell_type": "code",
   "execution_count": 9,
   "id": "e11ae03a-bae4-4caf-83f6-0d03e0ba688f",
   "metadata": {},
   "outputs": [],
   "source": [
    "# [0.36754406576541193,0.3597067733998186,0.36379143996822483,0.3762584352555345,0.4558925600244758]\n",
    "means = [0.5303043832308559,0.5225212797839106,0.5406188207331206,0.6361048409776127,0.9092017621621805]"
   ]
  },
  {
   "cell_type": "code",
   "execution_count": 11,
   "id": "1eaccb70-634d-43a3-bc8a-decb8d45d5e7",
   "metadata": {},
   "outputs": [],
   "source": [
    "plt.rcParams.update({\n",
    "    \"figure.figsize\": (10, 10),\n",
    "    \"lines.markersize\": 10,\n",
    "    \"font.size\": 20,\n",
    "    \"axes.grid\": True,\n",
    "})"
   ]
  },
  {
   "cell_type": "code",
   "execution_count": 10,
   "id": "77045c8e-4639-4529-9940-06254d2172c8",
   "metadata": {},
   "outputs": [
    {
     "data": {
      "text/plain": [
       "[<matplotlib.lines.Line2D at 0x7f64674b4c70>]"
      ]
     },
     "execution_count": 10,
     "metadata": {},
     "output_type": "execute_result"
    }
   ],
   "source": [
    "plt.plot([0.1,0.2,0.5,1,2],means,'bo')"
   ]
  },
  {
   "cell_type": "code",
   "execution_count": 14,
   "id": "c7a3cf4b-01d5-4958-9fe5-400a21b5e3cb",
   "metadata": {},
   "outputs": [
    {
     "data": {
      "text/plain": [
       "<matplotlib.legend.Legend at 0x7f64669c4f70>"
      ]
     },
     "execution_count": 14,
     "metadata": {},
     "output_type": "execute_result"
    }
   ],
   "source": [
    "plt.plot([0.1,0.25,0.5,1,2],means,'bo',label = 'Au')\n",
    "\n",
    "plt.gca().set(xlabel='Library Step Size($\\degree$)', ylabel='Mean Misorientation($\\degree$)')\n",
    "plt.xticks(fontsize=12); plt.yticks(fontsize=12)\n",
    "plt.legend()"
   ]
  },
  {
   "cell_type": "code",
   "execution_count": 29,
   "id": "d8b08cfe-b701-4b6b-a6bf-f476334d54e7",
   "metadata": {},
   "outputs": [],
   "source": [
    "orifirst = xmap.orientations\n",
    "store = np.zeros((4186,30))\n",
    "for i in range (30):\n",
    "    corr_weight = xmap.correlation[:,i]/xmap.correlation[:,0]\n",
    "    orinext = Orientation(xmap.rotations[:,i],symmetry=symmetry.Oh)\n",
    "    store[:,i] = np.degrees((orinext - orifirst).angle.data) \n",
    "mean_misori_weighted = np.mean(store[:,1::], axis = 1)"
   ]
  },
  {
   "cell_type": "code",
   "execution_count": 26,
   "id": "1d471300-6f1b-4e74-b94b-0535fd2bc94d",
   "metadata": {},
   "outputs": [],
   "source": [
    "mean_misori_thing = np.mean(store[:,:], axis = 1)"
   ]
  },
  {
   "cell_type": "code",
   "execution_count": null,
   "id": "d360154b-1980-4b21-8f5c-b3cab94ed826",
   "metadata": {},
   "outputs": [
    {
     "data": {
      "text/plain": [
       "array([0.00902749, 0.00878098, 0.0085545 , 0.00853867, 0.00847657,\n",
       "       0.00839564, 0.00838702, 0.00837368, 0.00831594, 0.00826802,\n",
       "       0.00824405, 0.00824348, 0.00815314, 0.00813394, 0.00809084,\n",
       "       0.00807126, 0.00800862, 0.00800147, 0.00799479, 0.0078176 ,\n",
       "       0.00776885, 0.00754935, 0.00754445, 0.00749832, 0.00749243,\n",
       "       0.00743447, 0.00742762, 0.00707373, 0.0070406 , 0.00699684])"
      ]
     },
     "execution_count": 32,
     "metadata": {},
     "output_type": "execute_result"
    }
   ],
   "source": [
    "xmap.correlation[100,:]"
   ]
  },
  {
   "cell_type": "code",
   "execution_count": 43,
   "id": "abd671b8-671c-4b23-baed-df9a73928b00",
   "metadata": {},
   "outputs": [],
   "source": [
    "realiabity = 100*(1-(result05['correlation'][:,:,1]/result05['correlation'][:,:,0]))"
   ]
  },
  {
   "cell_type": "code",
   "execution_count": 23,
   "id": "9654aae6-4b7e-4e04-a647-39f9065311ae",
   "metadata": {},
   "outputs": [],
   "source": [
    "orifull = Orientation.from_euler(\n",
    "    np.radians(diff_lib_for_data['phase']['orientations'][:,:]),\n",
    "    symmetry=symmetry.Oh\n",
    ")\n",
    "orimatched = Orientation.from_euler(\n",
    "    np.radians(result05['orientation'][0,:,0,:][:]),\n",
    "    symmetry=symmetry.Oh\n",
    ")"
   ]
  },
  {
   "cell_type": "code",
   "execution_count": 84,
   "id": "f3e5df34-6caf-45b6-bb85-bb8e525d0132",
   "metadata": {},
   "outputs": [],
   "source": [
    "orifull5 = Orientation.from_euler(\n",
    "    np.radians(diff_lib['phase']['orientations'][np.where(misangles > 5),:]),\n",
    "    symmetry=symmetry.Oh\n",
    ")\n",
    "orimatched5 = Orientation.from_euler(\n",
    "    np.radians(result['orientation'][0,:,0,:][np.where(misangles > 5)]),\n",
    "    symmetry=symmetry.Oh\n",
    ")"
   ]
  },
  {
   "cell_type": "code",
   "execution_count": 18,
   "id": "c4f61304-60c4-4203-a5c0-1a654651576b",
   "metadata": {
    "collapsed": true,
    "jupyter": {
     "outputs_hidden": true
    },
    "tags": []
   },
   "outputs": [
    {
     "data": {
      "text/plain": [
       "array([[180.        ,  17.        ,  90.        ],\n",
       "       [180.        ,  17.        ,  90.        ],\n",
       "       [177.        ,  17.        ,  90.        ],\n",
       "       [174.5       ,  17.        ,  90.        ],\n",
       "       [180.        ,  36.8217775 ,  64.27926652],\n",
       "       [178.5       ,  36.8217775 ,  64.27926652],\n",
       "       [179.5       ,  36.8217775 ,  64.27926652],\n",
       "       [177.5       ,  36.8217775 ,  64.27926652],\n",
       "       [178.5       ,  36.8217775 ,  64.27926652],\n",
       "       [179.5       ,  36.8217775 ,  64.27926652],\n",
       "       [176.5       ,  36.8217775 ,  64.27926652],\n",
       "       [177.        ,  36.8217775 ,  64.27926652],\n",
       "       [178.        ,  36.8217775 ,  64.27926652],\n",
       "       [180.        ,  38.09330122,  45.        ],\n",
       "       [181.        ,  38.09330122,  45.        ],\n",
       "       [180.        ,  38.09330122,  45.        ],\n",
       "       [184.5       , -32.81092169, -46.32470963],\n",
       "       [  8.5       , -34.74134309, -50.0587642 ],\n",
       "       [  9.        , -34.74134309, -50.0587642 ],\n",
       "       [ 10.        , -34.74134309, -50.0587642 ],\n",
       "       [  5.        , -35.91817135, -49.92806808],\n",
       "       [  6.        , -34.74134309, -50.0587642 ],\n",
       "       [  8.        , -34.74134309, -50.0587642 ],\n",
       "       [  9.        , -34.74134309, -50.0587642 ],\n",
       "       [176.        ,  35.91817135,  49.92806808],\n",
       "       [  5.        , -35.91817135, -49.92806808],\n",
       "       [  6.        , -34.74134309, -50.0587642 ],\n",
       "       [187.        , -34.74134309, -50.0587642 ],\n",
       "       [  6.        , -33.44027412, -47.60848074],\n",
       "       [  5.        , -34.08394333, -48.85269787],\n",
       "       [  5.        , -33.44027412, -47.60848074],\n",
       "       [177.        ,  34.08394333,  48.85269787],\n",
       "       [  2.        , -32.81092169, -46.32470963],\n",
       "       [301.5       , -52.35178357, -46.0036662 ],\n",
       "       [301.        , -52.35178357, -46.0036662 ],\n",
       "       [181.5       ,  43.02002468,  87.85539318],\n",
       "       [357.5       , -43.02002468, -87.85539318],\n",
       "       [357.        , -43.02002468, -87.85539318],\n",
       "       [356.        , -43.02002468, -87.85539318],\n",
       "       [354.5       , -45.06986988, -86.        ],\n",
       "       [352.        , -44.1685957 , -83.78845632],\n",
       "       [351.5       , -45.15736678, -84.        ],\n",
       "       [350.        , -45.21433484, -83.        ],\n",
       "       [348.5       , -45.28016032, -82.        ],\n",
       "       [347.        , -45.35488315, -81.        ],\n",
       "       [342.        , -45.74373324, -77.        ],\n",
       "       [337.        , -46.13154342, -74.        ],\n",
       "       [326.        , -47.81373882, -65.        ],\n",
       "       [313.5       , -50.33999256, -56.        ],\n",
       "       [311.        , -51.02655266, -54.        ],\n",
       "       [308.5       , -51.76150996, -52.        ],\n",
       "       [302.5       , -52.35178357, -46.0036662 ],\n",
       "       [301.5       , -52.35178357, -46.0036662 ]])"
      ]
     },
     "execution_count": 18,
     "metadata": {},
     "output_type": "execute_result"
    }
   ],
   "source": [
    "result['orientation'][0,:,0,:][np.where(misangles > 5)]"
   ]
  },
  {
   "cell_type": "code",
   "execution_count": 175,
   "id": "8677477c-e32c-4068-86ad-a171e712e0bf",
   "metadata": {},
   "outputs": [],
   "source": [
    "ckey = IPFColorKeyTSL(orifull.symmetry)\n",
    "rgbz = ckey.orientation2color(orifull)\n",
    "# cmap = np.linspace(0, 1, orimatched.size)\n",
    "cmap = corrscores"
   ]
  },
  {
   "cell_type": "code",
   "execution_count": 250,
   "id": "b026eb67-2eaf-457a-a098-439ad36eb701",
   "metadata": {},
   "outputs": [],
   "source": [
    "v = Vector3d(((0, 0, 1)))\n",
    "fig = orifull.scatter(\"ipf\", direction=v,return_figure= True, s = 100, c = 'r')\n",
    "orimatched.scatter(\"ipf\", direction=v, figure = fig,s = 100, c = 'g', marker = 'o')"
   ]
  },
  {
   "cell_type": "code",
   "execution_count": 48,
   "id": "110affa5-4e4d-4c69-bceb-8d8115ba28cd",
   "metadata": {},
   "outputs": [],
   "source": [
    "v = Vector3d(((0, 0, 1)))\n",
    "fig2 = orifull.scatter(\"ipf\", direction=v,return_figure= True, s = 50, c = misangles, cmap = 'viridis', vmax=5)\n",
    "# orifull[4140].scatter(\"ipf\", direction=v, figure = fig2,s = 100, c = 'r', marker = 'o')"
   ]
  },
  {
   "cell_type": "code",
   "execution_count": 30,
   "id": "5850e0dd-622f-4847-804d-c3d66edea3c2",
   "metadata": {},
   "outputs": [],
   "source": [
    "v = Vector3d(((0, 0, 1)))\n",
    "fig2 = orifull.scatter(\"ipf\", direction=v,return_figure= True, s = 50, c = mean_misori_weighted, cmap = 'viridis', vmax=5)\n",
    "# orifull[4140].scatter(\"ipf\", direction=v, figure = fig2,s = 100, c = 'r', marker = 'o')"
   ]
  },
  {
   "cell_type": "code",
   "execution_count": 45,
   "id": "63abc0a2-5105-4e04-b997-b6f70a8c7f9a",
   "metadata": {},
   "outputs": [],
   "source": [
    "v = Vector3d(((0, 0, 1)))\n",
    "fig2 = orifull.scatter(\"ipf\", direction=v,return_figure= True, s = 50, c = realiabity, cmap = 'viridis')"
   ]
  },
  {
   "cell_type": "code",
   "execution_count": 147,
   "id": "cb43a880-18f4-468f-b9e6-2c9ebe5f17bb",
   "metadata": {},
   "outputs": [
    {
     "data": {
      "text/plain": [
       "39.26841871101089"
      ]
     },
     "execution_count": 147,
     "metadata": {},
     "output_type": "execute_result"
    }
   ],
   "source": [
    "misangles[2796]"
   ]
  },
  {
   "cell_type": "code",
   "execution_count": 173,
   "id": "b8bc6e56-e2d7-4048-851f-9916b3b01414",
   "metadata": {},
   "outputs": [],
   "source": [
    "fig.savefig('Matching001log.png',bbox_inches = 'tight', pad_inches = 0)"
   ]
  },
  {
   "cell_type": "code",
   "execution_count": 258,
   "id": "e8921271-7a0a-4bb8-a4dd-80c82ec23270",
   "metadata": {},
   "outputs": [],
   "source": [
    "misangles2 = np.delete(misangles, np.where(misangles > 10))"
   ]
  },
  {
   "cell_type": "code",
   "execution_count": 259,
   "id": "f4054691-fe23-420a-97f0-26d52e77e950",
   "metadata": {},
   "outputs": [
    {
     "name": "stdout",
     "output_type": "stream",
     "text": [
      "0.49935468023968466\n",
      "0.9120419218532182\n",
      "1.0811755638949894\n"
     ]
    }
   ],
   "source": [
    "print(np.std(misangles2))\n",
    "print(np.mean(misangles2))\n",
    "print(((misangles2)**2).mean())"
   ]
  },
  {
   "cell_type": "code",
   "execution_count": null,
   "id": "23321801-2b4b-4277-8966-809b5c9388ec",
   "metadata": {},
   "outputs": [],
   "source": []
  }
 ],
 "metadata": {
  "kernelspec": {
   "display_name": "pyxem0.14dev",
   "language": "python",
   "name": "pyxem0.14dev"
  },
  "language_info": {
   "codemirror_mode": {
    "name": "ipython",
    "version": 3
   },
   "file_extension": ".py",
   "mimetype": "text/x-python",
   "name": "python",
   "nbconvert_exporter": "python",
   "pygments_lexer": "ipython3",
   "version": "3.9.7"
  }
 },
 "nbformat": 4,
 "nbformat_minor": 5
}
