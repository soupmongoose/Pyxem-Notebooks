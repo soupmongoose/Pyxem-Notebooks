{
 "cells": [
  {
   "cell_type": "code",
   "execution_count": 1,
   "id": "793b3cdb-a4d3-4d33-bff8-c4aa9d8e04fc",
   "metadata": {},
   "outputs": [
    {
     "name": "stderr",
     "output_type": "stream",
     "text": [
      "WARNING:hyperspy.api:The ipywidgets GUI elements are not available, probably because the hyperspy_gui_ipywidgets package is not installed.\n",
      "WARNING:hyperspy.api:The traitsui GUI elements are not available, probably because the hyperspy_gui_traitsui package is not installed.\n"
     ]
    }
   ],
   "source": [
    "%matplotlib qt\n",
    "import numpy as np\n",
    "import matplotlib.pyplot as plt\n",
    "import hyperspy.api as hs"
   ]
  },
  {
   "cell_type": "code",
   "execution_count": 2,
   "id": "5b4147e6-e12e-42e1-90ff-ce5b27afa9bf",
   "metadata": {
    "tags": []
   },
   "outputs": [
    {
     "name": "stderr",
     "output_type": "stream",
     "text": [
      "ERROR:numba.cuda.cudadrv.driver:Call to cuInit results in UNKNOWN_CUDA_ERROR\n",
      "WARNING:silx.opencl.common:The module pyOpenCL has been imported but can't be used here\n"
     ]
    }
   ],
   "source": [
    "dpau0 = hs.load(\"Data/AuTwinTilt/20220309_133028_p_0/dataset-2t.hspy\")"
   ]
  },
  {
   "cell_type": "code",
   "execution_count": 3,
   "id": "117e82c0-47de-4597-b983-2714c5943bff",
   "metadata": {
    "tags": []
   },
   "outputs": [],
   "source": [
    "dpau0.plot(vmax = 30, cmap = 'inferno_r', scalebar = False)"
   ]
  },
  {
   "cell_type": "code",
   "execution_count": 14,
   "id": "78684efb-f1ba-401e-ae59-e95c8fee9aa6",
   "metadata": {
    "tags": []
   },
   "outputs": [
    {
     "name": "stdout",
     "output_type": "stream",
     "text": [
      "[########################################] | 100% Completed |  7.8s\n"
     ]
    }
   ],
   "source": [
    "dpau0.center_direct_beam(method=\"blur\",half_square_width = 20, sigma = 3)"
   ]
  },
  {
   "cell_type": "code",
   "execution_count": 3,
   "id": "1a4e9802-94e7-44e1-803d-36d2ed4cc8c1",
   "metadata": {
    "tags": []
   },
   "outputs": [],
   "source": [
    "from skimage import filters\n",
    "\n",
    "def crop_minimum(image, minimum=3):\n",
    "    copied = image.copy()\n",
    "    copied[copied <= minimum] = 0.\n",
    "    return copied"
   ]
  },
  {
   "cell_type": "code",
   "execution_count": 9,
   "id": "b2f4d35e-d3c3-4ee7-a4e4-b4bd3f2718a6",
   "metadata": {
    "tags": []
   },
   "outputs": [
    {
     "name": "stdout",
     "output_type": "stream",
     "text": [
      "[########################################] | 100% Completed |  0.1s\n"
     ]
    },
    {
     "data": {
      "application/vnd.jupyter.widget-view+json": {
       "model_id": "4d76ebd780a9499b83e82cbe4f7a1c9a",
       "version_major": 2,
       "version_minor": 0
      },
      "text/plain": [
       "  0%|          | 0/1 [00:00<?, ?it/s]"
      ]
     },
     "metadata": {},
     "output_type": "display_data"
    },
    {
     "name": "stderr",
     "output_type": "stream",
     "text": [
      "WARNING:hyperspy.signal:The default iterpath will change in HyperSpy 2.0.\n"
     ]
    },
    {
     "data": {
      "application/vnd.jupyter.widget-view+json": {
       "model_id": "f54be81dfcf947c999488da2a355483c",
       "version_major": 2,
       "version_minor": 0
      },
      "text/plain": [
       "  0%|          | 0/1 [00:00<?, ?it/s]"
      ]
     },
     "metadata": {},
     "output_type": "display_data"
    },
    {
     "name": "stderr",
     "output_type": "stream",
     "text": [
      "WARNING:hyperspy.signal:The default iterpath will change in HyperSpy 2.0.\n"
     ]
    },
    {
     "data": {
      "application/vnd.jupyter.widget-view+json": {
       "model_id": "8220e2902b64478c8748627d7a7513de",
       "version_major": 2,
       "version_minor": 0
      },
      "text/plain": [
       "  0%|          | 0/1 [00:00<?, ?it/s]"
      ]
     },
     "metadata": {},
     "output_type": "display_data"
    },
    {
     "name": "stderr",
     "output_type": "stream",
     "text": [
      "WARNING:hyperspy.signal:The default iterpath will change in HyperSpy 2.0.\n"
     ]
    }
   ],
   "source": [
    "temp = dpau0.inav[50,90].subtract_diffraction_background(method=\"difference of gaussians\",\n",
    "                                                            min_sigma=7,\n",
    "                                                            max_sigma=10, \n",
    "                                                            lazy_result=False)\n",
    "temp.map(filters.gaussian, sigma=1)\n",
    "temp.map(crop_minimum, minimum = 1)\n",
    "temp.map(filters.gaussian, sigma=0.5)"
   ]
  },
  {
   "cell_type": "code",
   "execution_count": 10,
   "id": "1213b8f8-6719-485b-8f55-e38e8426d5ae",
   "metadata": {
    "tags": []
   },
   "outputs": [],
   "source": [
    "procdat.plot(vmax = 30)"
   ]
  },
  {
   "cell_type": "code",
   "execution_count": 11,
   "id": "1b9e93c9-5f03-4c7f-9a37-86521eab0ff3",
   "metadata": {
    "tags": []
   },
   "outputs": [
    {
     "data": {
      "text/plain": [
       "<LazyDiffraction2D, title: , dimensions: (128, 128|256, 256)>"
      ]
     },
     "execution_count": 11,
     "metadata": {},
     "output_type": "execute_result"
    }
   ],
   "source": [
    "dpau0 = dpau0.subtract_diffraction_background(method=\"difference of gaussians\",\n",
    "                                                            min_sigma=7,\n",
    "                                                            max_sigma=10, \n",
    "                                                            lazy_result=True)\n",
    "dpau0.map(filters.gaussian, sigma=1)\n",
    "dpau0.map(crop_minimum, minimum = 1)\n",
    "dpau0.map(filters.gaussian, sigma=0.5)"
   ]
  },
  {
   "cell_type": "code",
   "execution_count": 12,
   "id": "353ad0da-97c1-46db-ba00-a5b7fd3c060b",
   "metadata": {},
   "outputs": [
    {
     "name": "stdout",
     "output_type": "stream",
     "text": [
      "[########################################] | 100% Completed | 50.5s\n"
     ]
    }
   ],
   "source": [
    "dpau0.compute()"
   ]
  },
  {
   "cell_type": "code",
   "execution_count": 10,
   "id": "9c4b44b6-8660-495d-a4c7-7c252fc03a4f",
   "metadata": {
    "jupyter": {
     "source_hidden": true
    },
    "tags": []
   },
   "outputs": [],
   "source": [
    "test_patterns = hs.signals.Signal2D((dpau.inav[40,73].data,\n",
    "                                     dpau.inav[84,87].data,\n",
    "                                     dpau.inav[36,72].data,\n",
    "                                     dpau.inav[111,96].data,\n",
    "                                    ))"
   ]
  },
  {
   "cell_type": "code",
   "execution_count": 13,
   "id": "6d2d7529-7a6b-41a5-ab11-53c830836a75",
   "metadata": {
    "tags": []
   },
   "outputs": [],
   "source": [
    "dpau0.plot(vmax = 30)"
   ]
  },
  {
   "cell_type": "code",
   "execution_count": 16,
   "id": "a3685980-be7a-4d65-b343-a0db4589aca1",
   "metadata": {},
   "outputs": [],
   "source": [
    "# dpau0.save('Tilt4bgred.hspy')"
   ]
  },
  {
   "cell_type": "code",
   "execution_count": 108,
   "id": "64151847-3f90-44f3-a583-87eed5e12007",
   "metadata": {
    "tags": []
   },
   "outputs": [],
   "source": [
    "dpau = hs.load('Tilt1bgred.hspy')"
   ]
  },
  {
   "cell_type": "code",
   "execution_count": 3,
   "id": "045b929a-4b94-4c54-bce4-9f75bb32f14e",
   "metadata": {},
   "outputs": [],
   "source": [
    "dpau.plot(vmax = 30,cmap = 'viridis')"
   ]
  },
  {
   "cell_type": "code",
   "execution_count": 2,
   "id": "5ffc7407-c9a8-4c92-adf7-2b9356a9d599",
   "metadata": {
    "jupyter": {
     "source_hidden": true
    },
    "tags": []
   },
   "outputs": [],
   "source": [
    "import diffpy\n",
    "from diffsims.generators.rotation_list_generators import get_beam_directions_grid\n",
    "from diffsims.generators.diffraction_generator import DiffractionGenerator\n",
    "from diffsims.libraries.structure_library import StructureLibrary\n",
    "from diffsims.generators.library_generator import DiffractionLibraryGenerator\n",
    "from diffsims.libraries.diffraction_library import DiffractionLibrary\n",
    "from pyxem.utils.calibration_utils import find_diffraction_calibration"
   ]
  },
  {
   "cell_type": "code",
   "execution_count": 64,
   "id": "2fb8c026-6094-437c-92f8-343fc6ff10e9",
   "metadata": {
    "jupyter": {
     "source_hidden": true
    },
    "tags": []
   },
   "outputs": [],
   "source": [
    "%%capture burn\n",
    "import diffpy\n",
    "def template_log_func(x):\n",
    "    return np.log10(x + 0.001)\n",
    "\n",
    "resolution = 1 \n",
    "grid = get_beam_directions_grid(\"cubic\", resolution, mesh=\"spherified_cube_edge\")\n",
    "structure_matrix = diffpy.structure.loadStructure(\"Data/Au_mp-81_conventional_standard.cif\")\n",
    "\n",
    "diff_gen = DiffractionGenerator(accelerating_voltage=200,\n",
    "                                precession_angle=1,\n",
    "                                scattering_params=None,\n",
    "                                shape_factor_model=\"linear\",\n",
    "                                minimum_intensity=0.1,\n",
    "                                )\n",
    "\n",
    "lib_gen = DiffractionLibraryGenerator(diff_gen)\n",
    "library_phases = StructureLibrary([\"phase\"], [structure_matrix], [grid])\n",
    "\n",
    "found_cal, corrline, found_cals = find_diffraction_calibration(test_patterns,0.0093,library_phases,lib_gen,20,\n",
    "                                                               max_excitation_error= 0.08,\n",
    "                                                               intensity_transform_function=template_log_func,\n",
    "                                                               delta_r = 0.5,\n",
    "                                                               max_r = np.sqrt(128**2+128**2) * 0.90\n",
    "                                                              )"
   ]
  },
  {
   "cell_type": "code",
   "execution_count": 65,
   "id": "ac2e7670-a86c-4127-b22b-c8a300a4dc38",
   "metadata": {},
   "outputs": [
    {
     "data": {
      "text/plain": [
       "array([0.0093    , 0.00916634, 0.008835  , 0.00916634])"
      ]
     },
     "execution_count": 65,
     "metadata": {},
     "output_type": "execute_result"
    }
   ],
   "source": [
    "found_cals"
   ]
  },
  {
   "cell_type": "code",
   "execution_count": 4,
   "id": "4879aecc-fa8c-4167-8c26-2ea3ff953fcd",
   "metadata": {},
   "outputs": [
    {
     "name": "stdout",
     "output_type": "stream",
     "text": [
      "Number of patterns:  4186\n"
     ]
    },
    {
     "name": "stderr",
     "output_type": "stream",
     "text": [
      "/home/joseph/miniconda3/envs/pyxemmaster/lib/python3.9/site-packages/diffsims/generators/sphere_mesh_generators.py:515: RuntimeWarning: invalid value encountered in true_divide\n",
      "  phi2 = sign * np.nan_to_num(np.arccos(x_comp / norm_proj))\n"
     ]
    }
   ],
   "source": [
    "from diffsims.generators.rotation_list_generators import get_beam_directions_grid\n",
    "resolution = 0.5 # maximum angle in degrees between nearest templates. Pretty rough grid for speed.\n",
    "grid_cub = get_beam_directions_grid(\"cubic\", resolution, mesh=\"spherified_cube_edge\")\n",
    "print(\"Number of patterns: \", grid_cub.shape[0])"
   ]
  },
  {
   "cell_type": "code",
   "execution_count": 5,
   "id": "2f9c4c4b-2b67-4537-b118-e6c2aa498ecd",
   "metadata": {},
   "outputs": [],
   "source": [
    "import diffpy\n",
    "from diffsims.libraries.structure_library import StructureLibrary\n",
    "from diffsims.generators.diffraction_generator import DiffractionGenerator\n",
    "from diffsims.generators.library_generator import DiffractionLibraryGenerator"
   ]
  },
  {
   "cell_type": "code",
   "execution_count": 6,
   "id": "2313be9d-4270-474d-90ff-cbfa99148826",
   "metadata": {},
   "outputs": [
    {
     "data": {
      "text/plain": [
       "1.6582276272791985"
      ]
     },
     "execution_count": 6,
     "metadata": {},
     "output_type": "execute_result"
    }
   ],
   "source": [
    "# Parameters necessary for simulating a template library\n",
    "diffraction_calibration = 0.0091605 \n",
    "# half size of the images\n",
    "half_shape = (dpau.data.shape[-2]//2, dpau.data.shape[-1]//2)\n",
    "# maximum radius in reciprocal space to calculate spot intensities for\n",
    "reciprocal_radius = np.sqrt(half_shape[0]**2 + half_shape[1]**2)*diffraction_calibration\n",
    "reciprocal_radius"
   ]
  },
  {
   "cell_type": "code",
   "execution_count": 7,
   "id": "59f2cf99-d411-45d6-b9ab-d90e4eeb382d",
   "metadata": {},
   "outputs": [
    {
     "name": "stderr",
     "output_type": "stream",
     "text": [
      "                                                    \r"
     ]
    }
   ],
   "source": [
    "# importing the structures\n",
    "# structure_matrix = diffpy.structure.loadStructure(\"Data/Cu_mp-30_conventional_standard.cif\")\n",
    "# structure_matrix = diffpy.structure.loadStructure(\"Data/Si_mp-149_conventional_standard.cif\")\n",
    "structure_matrix = diffpy.structure.loadStructure(\"Data/Au_mp-81_conventional_standard.cif\")\n",
    "# \"The microscope\"\n",
    "grid = get_beam_directions_grid(\"cubic\", 0.5, mesh=\"spherified_cube_edge\")\n",
    "diff_gen = DiffractionGenerator(accelerating_voltage=200,\n",
    "                                precession_angle=1,\n",
    "                                scattering_params=None,\n",
    "                                shape_factor_model=\"linear\",\n",
    "                                minimum_intensity=0.1,\n",
    "                                )\n",
    "\n",
    "lib_gen = DiffractionLibraryGenerator(diff_gen)\n",
    "\n",
    "# Generating a library\n",
    "# \"Library of structures and orientations\"\n",
    "library_phases = StructureLibrary([\"Au\"], [structure_matrix], [grid])\n",
    "# Calculate the actual library\n",
    "\n",
    "diff_lib = lib_gen.get_diffraction_library(library_phases,\n",
    "                                           calibration=diffraction_calibration,\n",
    "                                           reciprocal_radius=reciprocal_radius,\n",
    "                                           half_shape=half_shape,\n",
    "                                           with_direct_beam=False,\n",
    "                                           max_excitation_error=0.1)"
   ]
  },
  {
   "cell_type": "code",
   "execution_count": 8,
   "id": "14d05836-51c2-4e04-b0e5-7148bc831cac",
   "metadata": {},
   "outputs": [],
   "source": [
    "from pyxem.utils import indexation_utils as iutls\n",
    "from pyxem.utils import plotting_utils as putls"
   ]
  },
  {
   "cell_type": "code",
   "execution_count": 10,
   "id": "960792ef-b412-4039-8efd-037173eeb360",
   "metadata": {},
   "outputs": [],
   "source": [
    "simulations = diff_lib[\"Au\"][\"simulations\"]\n",
    "image = dpau.inav[50,90].data\n",
    "frac_keep = 1\n",
    "n_keep = None\n",
    "n_best = 1\n",
    "delta_r = 0.5\n",
    "delta_theta = 0.5\n",
    "max_r = None\n",
    "intensity_transform_function = template_log_func\n",
    "find_direct_beam = False\n",
    "direct_beam_position = None\n",
    "normalize_image = True\n",
    "normalize_templates = True\n",
    "indices_n, angles_n, correlations_n, signs_n = iutls.get_n_best_matches(image,\n",
    "                                                 simulations,\n",
    "                                                 n_best,\n",
    "                                                 frac_keep,\n",
    "                                                 n_keep,\n",
    "                                                 delta_r,\n",
    "                                                 delta_theta,\n",
    "                                                 max_r,\n",
    "                                                 intensity_transform_function,\n",
    "                                                 find_direct_beam,\n",
    "                                                 direct_beam_position,\n",
    "                                                 normalize_image,\n",
    "                                                 normalize_templates,\n",
    "                                                )"
   ]
  },
  {
   "cell_type": "code",
   "execution_count": 11,
   "id": "5260428c-e656-4b58-930c-1bb57b297768",
   "metadata": {},
   "outputs": [],
   "source": [
    "mirrored = signs_n[0] == -1\n",
    "x = putls.plot_template_over_pattern(image,\n",
    "                                 simulations[indices_n[0]],\n",
    "                                 in_plane_angle=angles_n[0],\n",
    "                                 coordinate_system = \"cartesian\", \n",
    "                                 size_factor = 10,\n",
    "                                 vmax=30, \n",
    "                                 max_r = 200,\n",
    "                                 mirrored_template=mirrored,\n",
    "                                 find_direct_beam=False,\n",
    "                                 cmap = \"viridis\"\n",
    "                                )"
   ]
  },
  {
   "cell_type": "code",
   "execution_count": 8,
   "id": "2185d67a-30ec-47d4-bbb1-73c8aefc023a",
   "metadata": {},
   "outputs": [],
   "source": [
    "from pyxem.utils import indexation_utils as iutls\n",
    "from pyxem.utils import plotting_utils as putls"
   ]
  },
  {
   "cell_type": "code",
   "execution_count": 9,
   "id": "61053270-6730-4ab2-98d8-81b3d84852f2",
   "metadata": {},
   "outputs": [],
   "source": [
    "def template_log_func(x):\n",
    "    return np.log10(x + 0.01)"
   ]
  },
  {
   "cell_type": "code",
   "execution_count": 12,
   "id": "283bf1e7-f585-451e-a6e1-95e874331db0",
   "metadata": {},
   "outputs": [
    {
     "name": "stdout",
     "output_type": "stream",
     "text": [
      "[########################################] | 100% Completed |  7min  1.3s\n"
     ]
    }
   ],
   "source": [
    "frac_keep = 0.8\n",
    "n_best = 20\n",
    "n_keep = None\n",
    "\n",
    "delta_r = 0.5\n",
    "delta_theta = 0.5\n",
    "max_r = None\n",
    "intensity_transform_function = template_log_func\n",
    "direct_beam_position = None\n",
    "normalize_image = True\n",
    "normalize_templates = True\n",
    "\n",
    "result, phasedict = iutls.index_dataset_with_template_rotation(dpau,\n",
    "                                                    diff_lib,\n",
    "                                                    phases = [\"Au\"],\n",
    "                                                    n_best = n_best,\n",
    "                                                    frac_keep = frac_keep,\n",
    "                                                    n_keep = n_keep,\n",
    "                                                    delta_r = delta_r,\n",
    "                                                    delta_theta = delta_theta,\n",
    "                                                    max_r = None,\n",
    "                                                    intensity_transform_function=intensity_transform_function,\n",
    "                                                    normalize_images = normalize_image,\n",
    "                                                    normalize_templates=normalize_templates,\n",
    "                                                    target='gpu'\n",
    "                                                    )"
   ]
  },
  {
   "cell_type": "code",
   "execution_count": 2,
   "id": "a332600c-44c4-4c2d-b734-978d795e10f9",
   "metadata": {},
   "outputs": [],
   "source": [
    "from orix import plot\n",
    "from orix.crystal_map import CrystalMap, Phase, PhaseList\n",
    "from orix.io import load, save\n",
    "from orix.quaternion import Orientation, Rotation, symmetry\n",
    "from orix.vector import Vector3d\n",
    "from pyxem.signals.indexation_results import results_dict_to_crystal_map"
   ]
  },
  {
   "cell_type": "code",
   "execution_count": 14,
   "id": "6d012b80-e2d1-4330-a1de-86bedbf3ee26",
   "metadata": {},
   "outputs": [],
   "source": [
    "xmap = results_dict_to_crystal_map(result,phasedict)"
   ]
  },
  {
   "cell_type": "code",
   "execution_count": 14,
   "id": "1b979f20-0d92-40f1-bdc0-1fab89b6fd1b",
   "metadata": {},
   "outputs": [
    {
     "data": {
      "text/plain": [
       "Phase    Orientations  Name  Space group  Point group  Proper point group     Color\n",
       "    0  16384 (100.0%)    Au         None         None                None  tab:blue\n",
       "Properties: correlation, mirrored_template, template_index\n",
       "Scan unit: px"
      ]
     },
     "execution_count": 14,
     "metadata": {},
     "output_type": "execute_result"
    }
   ],
   "source": [
    "xmap"
   ]
  },
  {
   "cell_type": "code",
   "execution_count": 4,
   "id": "a1c7b002-3b8a-44e3-9738-83850c7a394a",
   "metadata": {},
   "outputs": [],
   "source": [
    "xmap = load(\"Data/AuTwinTilt0xmapBGRED.h5\") "
   ]
  },
  {
   "cell_type": "code",
   "execution_count": 15,
   "id": "50a67a54-bc4c-4a7d-b8a7-319415327f41",
   "metadata": {},
   "outputs": [],
   "source": [
    "xmap.phases[0].space_group = 225"
   ]
  },
  {
   "cell_type": "code",
   "execution_count": 16,
   "id": "458ef958-dd9a-4ae3-9f92-ec588f5e98ac",
   "metadata": {},
   "outputs": [],
   "source": [
    "ckey_m3m = plot.IPFColorKeyTSL(xmap.phases[\"Au\"].point_group, direction=Vector3d.xvector())\n",
    "rgb_Cux = ckey_m3m.orientation2color(xmap[\"Au\"].orientations)\n",
    "ckey_m3m = plot.IPFColorKeyTSL(xmap.phases[\"Au\"].point_group, direction=Vector3d.yvector())\n",
    "rgb_Cuy = ckey_m3m.orientation2color(xmap[\"Au\"].orientations)\n",
    "ckey_m3m = plot.IPFColorKeyTSL(xmap.phases[\"Au\"].point_group, direction=Vector3d.zvector())\n",
    "rgb_Cuz = ckey_m3m.orientation2color(xmap[\"Au\"].orientations)"
   ]
  },
  {
   "cell_type": "code",
   "execution_count": 17,
   "id": "0366adfb-b92e-4858-980f-f9a6626485c8",
   "metadata": {},
   "outputs": [],
   "source": [
    "fig = plt.figure()\n",
    "ax0 = fig.add_subplot(311, projection=\"plot_map\")\n",
    "ax1 = fig.add_subplot(312, projection=\"plot_map\")\n",
    "ax2 = fig.add_subplot(313, projection=\"plot_map\")\n",
    "ax0.set_title(\"X\")\n",
    "ax1.set_title(\"Y\")\n",
    "ax2.set_title(\"Z\")\n",
    "ax0.plot_map(xmap[\"Au\"], rgb_Cux, scalebar = False)\n",
    "ax1.plot_map(xmap[\"Au\"], rgb_Cuy, scalebar = False)\n",
    "ax2.plot_map(xmap[\"Au\"], rgb_Cuz, scalebar = False)\n",
    "ax0.tick_params(which = 'major', size = 0, labelsize = 0)\n",
    "ax1.tick_params(which = 'major', size = 0, labelsize = 0)\n",
    "ax2.tick_params(which = 'major', size = 0, labelsize = 0)"
   ]
  },
  {
   "cell_type": "code",
   "execution_count": 29,
   "id": "e533d5ec-3ba8-4b5e-bd31-16b257738238",
   "metadata": {},
   "outputs": [
    {
     "data": {
      "text/plain": [
       "<matplotlib.image.AxesImage at 0x7f25077e5700>"
      ]
     },
     "execution_count": 29,
     "metadata": {},
     "output_type": "execute_result"
    }
   ],
   "source": [
    "fig = plt.figure()\n",
    "ax0 = fig.add_subplot(111, projection=\"plot_map\")\n",
    "ax0.set_title(\"Y\")\n",
    "ax0.plot_map(xmap[\"Au\"], rgb_Cuy, scalebar = False)"
   ]
  },
  {
   "cell_type": "code",
   "execution_count": 68,
   "id": "cffa2b9f-4d50-4a0d-9cf5-7f584f2f5fc5",
   "metadata": {},
   "outputs": [],
   "source": [
    "xmap[\"Au\"].plot(rgb_Cux, scalebar = False, remove_padding=True)"
   ]
  },
  {
   "cell_type": "code",
   "execution_count": 30,
   "id": "22900ca4-3600-4590-9c1e-d5c36c6af7fc",
   "metadata": {},
   "outputs": [],
   "source": [
    "xmap['Au'].plot(value = xmap.correlation[:,0], scalebar = False, colorbar = True)"
   ]
  },
  {
   "cell_type": "code",
   "execution_count": 25,
   "id": "afffc7be-5686-4054-8772-c54d18cc05b1",
   "metadata": {},
   "outputs": [],
   "source": [
    "orifirst = xmap['Au'].orientations\n",
    "store = np.zeros((xmap['Au'].size,15))\n",
    "normcorrs = xmap['Au'].correlation[:,:]/np.linalg.norm(xmap['Au'].correlation[:,:]) \n",
    "for i in range (15):\n",
    "    corr_weight = normcorrs[:,i]/normcorrs[:,0]\n",
    "    # corr_weight = 1 # for unweighted, not recommened\n",
    "    orinext = Orientation(xmap['Au'].rotations[:,i],symmetry=symmetry.Oh)\n",
    "    store[:,i] = np.degrees((orinext - orifirst).angle.data) * abs(corr_weight)\n",
    "\n",
    "mean_misori_weighted = np.mean(store[:,1::], axis = 1)"
   ]
  },
  {
   "cell_type": "code",
   "execution_count": 28,
   "id": "178700af-f14d-46c1-8046-7d40a8ee4fb5",
   "metadata": {},
   "outputs": [],
   "source": [
    "xmap['Au'].plot(value = mean_misori_weighted,scalebar = False, vmax = 10, colorbar = True)"
   ]
  },
  {
   "cell_type": "code",
   "execution_count": 55,
   "id": "669ad50f-4a92-4e9e-8635-2f080e0c1c36",
   "metadata": {},
   "outputs": [],
   "source": [
    "normcorrs = xmap['Au'].correlation[:,:]/np.linalg.norm(xmap['Au'].correlation[:,:]) \n",
    "reliability = normcorrs[:,0] - normcorrs[:,1] "
   ]
  },
  {
   "cell_type": "code",
   "execution_count": 56,
   "id": "e3574788-1844-4d2f-928c-24dd078e2743",
   "metadata": {},
   "outputs": [],
   "source": [
    "xmap['Au'].plot(value = reliability,scalebar = False, colorbar = True)"
   ]
  },
  {
   "cell_type": "code",
   "execution_count": 29,
   "id": "c051e7c5-b706-47b4-a016-4ce6082961d7",
   "metadata": {},
   "outputs": [
    {
     "data": {
      "text/plain": [
       "array([0., 1., 2., 3., 4.])"
      ]
     },
     "execution_count": 29,
     "metadata": {},
     "output_type": "execute_result"
    }
   ],
   "source": [
    "n= np.linspace(0,4,num = 5)"
   ]
  },
  {
   "cell_type": "code",
   "execution_count": 33,
   "id": "76c9b75f-516e-4c08-a82a-e897b4268de9",
   "metadata": {},
   "outputs": [],
   "source": [
    "xmap.orientations.scatter(projection= 'ipf', direction = Vector3d(((1, 0, 0),(0,1,0),(0,0,1))),c = n, cmap = 'viridis')"
   ]
  },
  {
   "cell_type": "code",
   "execution_count": 256,
   "id": "2bb29ce1-3105-43f9-a40f-42d84c15e531",
   "metadata": {},
   "outputs": [],
   "source": [
    "Orientation(xmap.rotations[0:3,0:10], symmetry=symmetry.Oh).scatter(projection= 'ipf', direction = Vector3d(((1, 0, 0),(0,1,0),(0,0,1))),c = n, cmap = 'viridis')"
   ]
  },
  {
   "cell_type": "code",
   "execution_count": 32,
   "id": "4619c81b-8798-4556-9bd9-3d25b069f0a6",
   "metadata": {},
   "outputs": [],
   "source": [
    "xmap.orientations.scatter(projection= 'axangle', cmap = 'viridis', c = n)"
   ]
  },
  {
   "cell_type": "code",
   "execution_count": 18,
   "id": "bbc3b86d-f7ec-4774-b670-7f8b2f0def9c",
   "metadata": {},
   "outputs": [],
   "source": [
    "save(\n",
    "    filename=\"Data/AuTwinTilt4xmapBGREDbetter.h5\",\n",
    "    object2write=xmap,\n",
    "    overwrite=False,  # Default is False\n",
    ")"
   ]
  },
  {
   "cell_type": "code",
   "execution_count": 3,
   "id": "b1a9eb6e-17c5-47b6-bb68-54fcd86745c9",
   "metadata": {},
   "outputs": [],
   "source": [
    "xmap0 = load(\"Data/AuTwinTilt0xmapBGREDbetter.h5\") \n",
    "xmap1 = load(\"Data/AuTwinTilt1xmapBGREDbetter.h5\") \n",
    "xmap2 = load(\"Data/AuTwinTilt2xmapBGREDbetter.h5\") \n",
    "xmap3 = load(\"Data/AuTwinTilt3xmapBGREDbetter.h5\") \n",
    "xmap4 = load(\"Data/AuTwinTilt4xmapBGREDbetter.h5\") "
   ]
  },
  {
   "cell_type": "code",
   "execution_count": 118,
   "id": "27c8905a-c037-44f5-832a-a57f7b378cae",
   "metadata": {
    "tags": []
   },
   "outputs": [
    {
     "data": {
      "text/plain": [
       "(<AxesSubplot:>,\n",
       " <matplotlib.image.AxesImage at 0x7f87291f1be0>,\n",
       " <matplotlib.collections.PathCollection at 0x7f87291f1310>)"
      ]
     },
     "execution_count": 118,
     "metadata": {},
     "output_type": "execute_result"
    }
   ],
   "source": [
    "simulations = diff_lib[\"Au\"]['simulations']\n",
    "#scan coordinate to check\n",
    "px = 40\n",
    "py = 57\n",
    "# which solution to plot\n",
    "n_sol = 0\n",
    "\n",
    "index = np.ravel_multi_index((py,px),xmap.shape)\n",
    "# query the necessary info from the solution\n",
    "sim_sol_index = xmap.template_index[index,0]\n",
    "mirrored_sol = xmap.mirrored_template[index,0]\n",
    "in_plane_angle = np.rad2deg(xmap.rotations[index,0].to_euler())[0][0]\n",
    "# # query the appropriate template\n",
    "sim_sol = simulations[sim_sol_index]\n",
    "\n",
    "\n",
    "\n",
    "fig = plt.figure()\n",
    "ax0 = fig.add_subplot(121, projection=\"plot_map\")\n",
    "ax1 = fig.add_subplot(122)\n",
    "ax0.set_title(\"Z\")\n",
    "ax0.plot_map(xmap['Au'],rgb_Auz, scalebar = False)\n",
    "ax0.scatter(px,py, marker = 'X', c = 'g', s = 40)\n",
    "putls.plot_template_over_pattern(dpau.inav[px, py].data,\n",
    "                                 sim_sol,\n",
    "                                 ax = ax1,\n",
    "                                 in_plane_angle=in_plane_angle,\n",
    "                                 coordinate_system = \"cartesian\", \n",
    "                                 size_factor = 10,\n",
    "                                 vmax=30,\n",
    "                                 max_r = 200,\n",
    "                                 mirrored_template=mirrored_sol,\n",
    "                                 find_direct_beam=False,\n",
    "                                 cmap = \"inferno\",\n",
    "                                 marker_color = \"green\"\n",
    "                                )"
   ]
  },
  {
   "cell_type": "code",
   "execution_count": 105,
   "id": "4b002209-0994-4ffa-b178-c617f7f57d54",
   "metadata": {},
   "outputs": [],
   "source": [
    "xmap = load(\"Data/AuTwinTilt1xmapBGREDbetter.h5\") "
   ]
  },
  {
   "cell_type": "code",
   "execution_count": 106,
   "id": "385698a8-56d0-45ae-8405-5df511f5e914",
   "metadata": {},
   "outputs": [],
   "source": [
    "ckey_m3m = plot.IPFColorKeyTSL(xmap.phases[\"Au\"].point_group, direction=Vector3d.xvector())\n",
    "rgb_Aux = ckey_m3m.orientation2color(xmap[\"Au\"].orientations)\n",
    "ckey_m3m = plot.IPFColorKeyTSL(xmap.phases[\"Au\"].point_group, direction=Vector3d.yvector())\n",
    "rgb_Auy = ckey_m3m.orientation2color(xmap[\"Au\"].orientations)\n",
    "ckey_m3m = plot.IPFColorKeyTSL(xmap.phases[\"Au\"].point_group, direction=Vector3d.zvector())\n",
    "rgb_Auz = ckey_m3m.orientation2color(xmap[\"Au\"].orientations)"
   ]
  },
  {
   "cell_type": "code",
   "execution_count": 107,
   "id": "0ed077aa-93c2-474c-b960-43714eb101fd",
   "metadata": {},
   "outputs": [
    {
     "data": {
      "text/plain": [
       "<matplotlib.image.AxesImage at 0x7f872b8b3d00>"
      ]
     },
     "execution_count": 107,
     "metadata": {},
     "output_type": "execute_result"
    }
   ],
   "source": [
    "fig = plt.figure()\n",
    "ax0 = fig.add_subplot(111, projection=\"plot_map\")\n",
    "ax0.set_title(\"Z\")\n",
    "ax0.plot_map(xmap[\"Au\"], rgb_Auz, scalebar = False)"
   ]
  },
  {
   "cell_type": "code",
   "execution_count": 25,
   "id": "47b12c40-3ddb-4079-a63a-e723eb8ac8e8",
   "metadata": {},
   "outputs": [],
   "source": [
    "xmap['Au'].plot(value = xmap.correlation[:,0],scalebar = False, colorbar = True)"
   ]
  },
  {
   "cell_type": "code",
   "execution_count": 51,
   "id": "d9e0b5f5-06ef-4bd0-ae08-0f54ea93c774",
   "metadata": {},
   "outputs": [],
   "source": [
    "pos0 = (70,70)\n",
    "pos1 = (65,40)\n",
    "pos2 = (105,55)\n",
    "pos3 = (101,63)\n",
    "pos4 = (64,57)"
   ]
  },
  {
   "cell_type": "code",
   "execution_count": 80,
   "id": "a95df927-476e-4c2a-bf09-1599c1ff21e3",
   "metadata": {},
   "outputs": [],
   "source": [
    "twina = (8,89)\n",
    "twinb = (8,93)"
   ]
  },
  {
   "cell_type": "code",
   "execution_count": 82,
   "id": "c7843903-cdeb-4a32-9379-ea36accf4460",
   "metadata": {},
   "outputs": [],
   "source": [
    "twinc = (98,80)\n",
    "twind = (98,88)"
   ]
  },
  {
   "cell_type": "code",
   "execution_count": 88,
   "id": "c07901cb-26cf-43e0-acea-312241b0952a",
   "metadata": {},
   "outputs": [],
   "source": [
    "twine = (28,94)\n",
    "twinf = (26,87)"
   ]
  },
  {
   "cell_type": "code",
   "execution_count": 60,
   "id": "9f16d4c9-a149-4f55-b5eb-e596652820e5",
   "metadata": {},
   "outputs": [
    {
     "name": "stdout",
     "output_type": "stream",
     "text": [
      "[5.73980183]\n",
      "[48.38864355]\n",
      "[52.74756008]\n",
      "[3.98274893]\n",
      "[41.28816778]\n",
      "[43.93057182]\n"
     ]
    }
   ],
   "source": [
    "mis0 = xmap0['Au'].orientations - xmap0[pos0].orientations\n",
    "mis1 = xmap1['Au'].orientations - xmap1[pos1].orientations\n",
    "mis2 = xmap2['Au'].orientations - xmap2[pos2].orientations\n",
    "mis3 = xmap3['Au'].orientations - xmap3[pos3].orientations\n",
    "mis4 = xmap4['Au'].orientations - xmap4[pos4].orientations\n",
    "\n",
    "mean0 = xmap0['Au'][np.rad2deg(mis0.angle.data) < 1].orientations.mean()\n",
    "mean1 = xmap1['Au'][np.rad2deg(mis1.angle.data) < 1].orientations.mean()\n",
    "mean2 = xmap2['Au'][np.rad2deg(mis2.angle.data) < 1].orientations.mean()\n",
    "mean3 = xmap3['Au'][np.rad2deg(mis3.angle.data) < 1].orientations.mean()\n",
    "mean4 = xmap4['Au'][np.rad2deg(mis4.angle.data) < 1].orientations.mean()\n",
    "\n",
    "means = Orientation([mean0.data,mean1.data,mean2.data,mean3.data,mean4.data], symmetry=symmetry.Oh).reshape(5)\n",
    "means.map_into_symmetry_reduced_zone()\n",
    "\n",
    "print(np.rad2deg(means[0].angle_with(means[1]).data))\n",
    "print(np.rad2deg(means[1].angle_with(means[2]).data))\n",
    "print(np.rad2deg(means[0].angle_with(means[2]).data))\n",
    "print(np.rad2deg(means[0].angle_with(means[3]).data))\n",
    "print(np.rad2deg(means[3].angle_with(means[4]).data))\n",
    "print(np.rad2deg(means[0].angle_with(means[4]).data))"
   ]
  },
  {
   "cell_type": "code",
   "execution_count": 89,
   "id": "559a73c8-a7e8-4647-bc13-e691b6400a73",
   "metadata": {},
   "outputs": [
    {
     "data": {
      "text/plain": [
       "array([44.60049291])"
      ]
     },
     "execution_count": 89,
     "metadata": {},
     "output_type": "execute_result"
    }
   ],
   "source": [
    "np.rad2deg(xmap4[twine].orientations.angle_with(xmap4[twinf].orientations).data)"
   ]
  },
  {
   "cell_type": "code",
   "execution_count": 112,
   "id": "ac9a0597-84dd-4949-a2db-1660a5d373dd",
   "metadata": {},
   "outputs": [
    {
     "data": {
      "text/plain": [
       "array([44.52245587])"
      ]
     },
     "execution_count": 112,
     "metadata": {},
     "output_type": "execute_result"
    }
   ],
   "source": [
    "np.rad2deg(xmap1[6,92].orientations.angle_with(xmap1[6,88].orientations).data)"
   ]
  },
  {
   "cell_type": "code",
   "execution_count": 116,
   "id": "884d21be-c2e4-4336-9390-45563f36ee9b",
   "metadata": {},
   "outputs": [
    {
     "data": {
      "text/plain": [
       "array([0.46701694])"
      ]
     },
     "execution_count": 116,
     "metadata": {},
     "output_type": "execute_result"
    }
   ],
   "source": [
    "np.rad2deg(xmap1[57,40].orientations.angle_with(xmap1[53,41].orientations).data)"
   ]
  },
  {
   "cell_type": "code",
   "execution_count": 53,
   "id": "495c45d7-f873-4f45-bc7d-6b9abb42e9c1",
   "metadata": {},
   "outputs": [
    {
     "data": {
      "text/plain": [
       "array([45.25396447])"
      ]
     },
     "execution_count": 53,
     "metadata": {},
     "output_type": "execute_result"
    }
   ],
   "source": [
    "np.rad2deg(xmap1[pos1].orientations.angle_with(xmap2[pos2].orientations).data)"
   ]
  },
  {
   "cell_type": "code",
   "execution_count": 76,
   "id": "594851a0-caba-447f-9c97-c005d37bcc08",
   "metadata": {},
   "outputs": [],
   "source": [
    "means.scatter(projection='ipf', c = ('g','b','b','r','r'))"
   ]
  },
  {
   "cell_type": "code",
   "execution_count": 197,
   "id": "a24006c1-367b-47af-8ac2-16be00c9d726",
   "metadata": {},
   "outputs": [],
   "source": [
    "newbest = np.zeros((result['orientation'].shape[0],result['orientation'].shape[1]),np.int16)\n",
    "\n",
    "for k in range(20):\n",
    "    newresult= np.zeros((1,5,3))\n",
    "    for i in range(result['orientation'].shape[0]):\n",
    "        for j in range(result['orientation'].shape[1]):\n",
    "            newresult[i,j] = result['orientation'][i,j,newbest[i,j],:]\n",
    "\n",
    "    misoris = np.zeros((result['orientation'].shape[0],result['orientation'].shape[1]-1))\n",
    "\n",
    "    oris = Orientation.from_euler(np.radians(newresult[:,:,:]),symmetry=symmetry.Oh)\n",
    "    mis = (oris[:,0] - oris[:,1])\n",
    "    misoris[:,0] = np.degrees((mis).angle.data)\n",
    "    mis = (oris[:,1] - oris[:,2])\n",
    "    misoris[:,1] = np.degrees((mis).angle.data)\n",
    "    mis = (oris[:,0] - oris[:,3])\n",
    "    misoris[:,2] = np.degrees((mis).angle.data)\n",
    "    mis = (oris[:,3] - oris[:,4])\n",
    "    misoris[:,3] = np.degrees((mis).angle.data)\n",
    "    \n",
    "    misoris[:,3]"
   ]
  },
  {
   "cell_type": "code",
   "execution_count": 196,
   "id": "8d966a55-a6bf-4f27-9434-1b0e1dac4893",
   "metadata": {},
   "outputs": [
    {
     "data": {
      "text/plain": [
       "Orientation (1, 5) m-3m\n",
       "[[[ 0.1644  0.3728  0.0878  0.909 ]\n",
       "  [ 0.914  -0.0309  0.3586 -0.1873]\n",
       "  [ 0.9167 -0.0108  0.3419 -0.2064]\n",
       "  [ 0.1586  0.3331  0.1003  0.924 ]\n",
       "  [ 0.1559  0.3051  0.1141  0.9325]]]"
      ]
     },
     "execution_count": 196,
     "metadata": {},
     "output_type": "execute_result"
    }
   ],
   "source": [
    "Orientation.from_euler(np.radians(newresult[:,:,:]),symmetry=symmetry.Oh)[:]"
   ]
  },
  {
   "cell_type": "code",
   "execution_count": null,
   "id": "bb4c6d43-54f2-4248-bce7-dab3a9cbdc0f",
   "metadata": {},
   "outputs": [],
   "source": []
  }
 ],
 "metadata": {
  "kernelspec": {
   "display_name": "pyxem0.14dev",
   "language": "python",
   "name": "pyxem0.14dev"
  },
  "language_info": {
   "codemirror_mode": {
    "name": "ipython",
    "version": 3
   },
   "file_extension": ".py",
   "mimetype": "text/x-python",
   "name": "python",
   "nbconvert_exporter": "python",
   "pygments_lexer": "ipython3",
   "version": "3.9.7"
  }
 },
 "nbformat": 4,
 "nbformat_minor": 5
}
